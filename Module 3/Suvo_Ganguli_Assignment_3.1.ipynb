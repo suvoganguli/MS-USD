{
 "cells": [
  {
   "cell_type": "markdown",
   "metadata": {},
   "source": [
    "# Assignment 3.1\n",
    "Name: Suvo Ganguli\n",
    "\n",
    "Date: Jan 23, 2024"
   ]
  },
  {
   "cell_type": "markdown",
   "metadata": {},
   "source": [
    "For this assignment, you will refer to the textbook to solve the practice exercises. **Use Python to answer any coding problems (not R, even if indicated in your textbook).** Use Jupyter Notebook, Google Colab, or a similar software program to complete your assignment. Submit your answers as a **PDF or HTML** file. As a best practice, always label your axes and provide titles for any graphs generated on this assignment. Round all quantitative answers to 2 decimal places."
   ]
  },
  {
   "cell_type": "markdown",
   "metadata": {},
   "source": [
    "## Problem 3.2."
   ]
  },
  {
   "cell_type": "markdown",
   "metadata": {},
   "source": [
    "In an exit poll of 1648 voters in the 2020 Senatorial election in Arizona, 51.5% said they voted\n",
    "for Mark Kelly and 48.5% said they voted for Martha McSally"
   ]
  },
  {
   "cell_type": "markdown",
   "metadata": {},
   "source": [
    "a) Suppose that actually 50% of the population voted for Kelly. If this exit poll had the\n",
    "properties of a simple random sample, find the standard error of the sample proportion\n",
    "voting for him."
   ]
  },
  {
   "cell_type": "markdown",
   "metadata": {},
   "source": [
    "b) Under the 50% presumption, are the results of the exit poll surprising? Why? Would you\n",
    "be willing to predict the election outcome? Explain by (i) conducting a simulation; (ii)\n",
    "using the value found in (a) for the standard error."
   ]
  },
  {
   "cell_type": "markdown",
   "metadata": {},
   "source": [
    "a) The standard error of a sample proportion is given by:\n",
    "\n",
    "SE = sqrt(p(1-p)/n)\n",
    "\n",
    "where p is the proportion of interest, and n is the sample size. In this case, p = 0.5 and n = 1648.\n",
    "\n",
    "SE = sqrt(0.5(1-0.5)/1648) = 0.013 or 1.3%\n"
   ]
  },
  {
   "cell_type": "markdown",
   "metadata": {},
   "source": [
    "(b) \n",
    "\n",
    "(i) Based on the simulation of 1648 voters (see code below), mean = 49.4 and SE = 0.72. Thus 99% of the data will be within [mean +/- 3*SE] = [46.5, 50.8]\n",
    "\n",
    "The actual vote is 50% and is within the bounds found by simulation.\n",
    "\n",
    "(ii) Prediction using standard error: 99% of the data will be within: \n",
    "[p +/- 3\\*SE] = [0.5 +/- 3\\*0.013\\*50] = [51.95,48.85] \n",
    "\n",
    "We observe that both Mark Kelley's and Martha McSally's exit poll estimates fall within the 99% bounds."
   ]
  },
  {
   "cell_type": "code",
   "execution_count": 32,
   "metadata": {},
   "outputs": [
    {
     "name": "stdout",
     "output_type": "stream",
     "text": [
      "Mean of sample = 49.406\n",
      "StdDev of sample = 0.7150331707228658\n",
      "Mean + 3 * StdDev of sample = 50.8\n",
      "Mean - 3 * StdDev of sample = 46.51\n"
     ]
    }
   ],
   "source": [
    "# Include library\n",
    "import numpy as np\n",
    "from numpy import random\n",
    "\n",
    "# Calculate random samples\n",
    "n = 1648 # number of samples\n",
    "\n",
    "np.random.seed(10)\n",
    "x = random.choice(range(0,100), size=n)\n",
    "\n",
    "mean_sample = np.mean(x)\n",
    "std_sample = np.std(x)/np.sqrt(n)\n",
    "\n",
    "print('Mean of sample = ' + str(mean))\n",
    "print('StdDev of sample = ' + str(std_sample))\n",
    "print('Mean + 3 * StdDev of sample = ' + str((mean_sample + 3*std_sample).round(2)))\n",
    "print('Mean - 3 * StdDev of sample = ' + str((mean_sample - 3*std_sample).round(2)))\n"
   ]
  },
  {
   "cell_type": "markdown",
   "metadata": {},
   "source": [
    "## Problem 3.3."
   ]
  },
  {
   "cell_type": "markdown",
   "metadata": {},
   "source": [
    " The 49 students in a class at the University of Florida made blinded evaluations of pairs of\n",
    "cola drinks. For the 49 comparisons of Coke and Pepsi, Coke was preferred 29 times. In the\n",
    "population that this sample represents, is this strong evidence that a majority prefers Coke?\n",
    "Use a simulation of a sampling distribution to answer."
   ]
  },
  {
   "cell_type": "markdown",
   "metadata": {},
   "source": [
    "Let E be the event that the students like Coke\n",
    "\n",
    "Total number of students, n = 49\n",
    "Success number for code, np = 29\n",
    "Hence, success probability, p = 0.592\n",
    "and, failure probability, q = 0.408\n",
    "\n",
    "Estimate of mean of true probability of success, p0 = 0.5\n",
    "Estimate of mean of true probability of failure, q0 = 0.5\n",
    "Estimate of standard deviation of true probability of success, s0 = sqrt(p0*q0/n) = 0.071\n",
    "Z score = (0.592 - 0.071) = 0.521\n",
    "\n",
    "Let us consider 95% confidence. Hence alpha = 0.05, and alpha/2 = 0.025\n",
    "We can create the following null hypothesis:\n",
    "H0: students like Coke if z < 1.96 or > 1.96\n",
    "\n",
    "From the z-score table, \n",
    "z = p-po/s0\n",
    "z = (0.592-0.5)/0.071 = 1.296\n",
    "\n",
    "Since, z does not fall outside the bound of 1.96, we cannot reject the null hypothesis.\n",
    "\n",
    "Thus, there is not a strong evidence that the majority of the students like Coke.\n"
   ]
  },
  {
   "cell_type": "markdown",
   "metadata": {},
   "source": [
    "## Problem 3.5."
   ]
  },
  {
   "cell_type": "markdown",
   "metadata": {},
   "source": [
    "The example in Section 3.1.4 simulated sampling distributions of the sample mean to determine how precise $\\bar{Y}$ for $n=25$ may estimate a population mean $\\mu.$"
   ]
  },
  {
   "cell_type": "markdown",
   "metadata": {},
   "source": [
    "a) Find the theoretical standard error of $\\bar{Y}$ for the scenario values of $\\sigma = 5$ and 8. How do they compare to the standard deviations of the 100,000 sample means in the simulations?"
   ]
  },
  {
   "cell_type": "markdown",
   "metadata": {},
   "source": [
    "For the first scenario with σ = 5 and n = 25: \n",
    "\n",
    "SE = 5 / √25 = 5 / 5 = 1.\n",
    "\n",
    "For the second scenario with σ = 8 and n = 25:\n",
    "\n",
    "SE = 8 / √25 = 8 / 5 = 1.6\n",
    "\n",
    "In the book, the mean and standard deviation are given as 19.9981 and 1.003612 for (mu, sigma) of (20,5), and the mean and standard deviation are given as 23.9949 and 1.603475 for (mu, sigma) of (24,8).\n",
    "\n",
    "Thus, the values of mean and standard deviation from the 100,000 simulations are very close to the actual mean and standard deviations."
   ]
  },
  {
   "cell_type": "markdown",
   "metadata": {},
   "source": [
    "b) In the first scenario, we chose $\\sigma = 5$ under the belief that if $\\mu = 20$, about 2/3 of the sample values would fall between `$`15 and `$`25. For the gamma distribution with $(\\mu, \\sigma) = (20,5),$ show that the actual probability between 15 and 25 is 0.688."
   ]
  },
  {
   "cell_type": "markdown",
   "metadata": {},
   "source": [
    "For the gamma distribution in Python, with parameters alpha and lambda\n",
    "\n",
    "np.random.gamma(shape = alpha, scale = lambda, size = 1000)\n",
    "\n",
    "Let beta = 1/lambda\n",
    "\n",
    "Therefore, mu = alpha * beta, sigma^2 = alpha*beta^2\n",
    "\n",
    "Hence, beta = sigma^2/mu = 5^2/25 = 1\n",
    "alpha = mu/beta = 20/1 = 20\n"
   ]
  },
  {
   "cell_type": "code",
   "execution_count": 129,
   "metadata": {},
   "outputs": [
    {
     "name": "stdout",
     "output_type": "stream",
     "text": [
      "Area between 15 and 25 = 0.688\n"
     ]
    }
   ],
   "source": [
    "import numpy as np\n",
    "import scipy.stats as stats\n",
    "import math\n",
    "from scipy.special import gamma\n",
    "import matplotlib.pyplot as plt\n",
    "\n",
    "mu = 20.0\n",
    "sigma = 5.0\n",
    "\n",
    "beta = sigma**2/mu\n",
    "alpha = mu/beta\n",
    "lmbda = 1/beta\n",
    "\n",
    "dx = 0.01\n",
    "x = np.arange(0,60,dx)\n",
    "\n",
    "# Calculate the gamma distribution PDF values\n",
    "pdf = lmbda**alpha * x**(alpha-1) * np.exp(-lmbda*x) / gamma(alpha)\n",
    "\n",
    "# Calculate and plot the gamma distribution CDF values\n",
    "cdf = np.cumsum(pdf)*dx\n",
    "# plt.plot(x,pdf)\n",
    "# plt.plot(x,cdf)\n",
    "\n",
    "for i in np.arange(len(x)):\n",
    "    if x[i] <= 15:\n",
    "        x1 = x[i]\n",
    "        p1 = cdf[i]\n",
    "    if x[i] <= 25:\n",
    "        p2 = cdf[i]\n",
    "        x2 = x[i]\n",
    "\n",
    "print(\"Area between 15 and 25 = \" + str(np.round(p2-p1,3)))\n"
   ]
  },
  {
   "cell_type": "markdown",
   "metadata": {},
   "source": [
    "## Problem 3.8."
   ]
  },
  {
   "cell_type": "markdown",
   "metadata": {},
   "source": [
    "Construct the sampling distribution of the sample proportion of heads, for flipping a balanced\n",
    "coin (a) once; (b) twice; (c) three times; (d) four times. Describe how the shape changes\n",
    "as the number of flips $n$ increases. What would happen if $n$ kept growing? Why?\n"
   ]
  },
  {
   "cell_type": "markdown",
   "metadata": {},
   "source": [
    "(a) For one flip, there are 2 options: H and T.\n",
    "(b) For two flips, there are 4 options: HH, HT, TH, TT.\n",
    "(c) For three flips, there are 8 options: HHH, HHT, HTH, THH, THT, TTH, HTT, TTT.\n",
    "(d) For four flips, there are 16 options: HHHH, HHHT, HHTH, HTHH, HTTH, HHTT, HTTT, THHH, THHHT, THTH, TTHH, TTTH, THTT, TTTT.\n",
    "\n",
    "Thus the probability of heads are 1-1/2^0, 1-1/2^1, 1-1/2^2, 1/2^3, ... 1-1/2^(inf).\n",
    "\n",
    "As n increases, the probability of a single head tends to 1.\n",
    "\n",
    "Thus the probability exponentially decays."
   ]
  },
  {
   "cell_type": "markdown",
   "metadata": {},
   "source": [
    "## Problem 3.13."
   ]
  },
  {
   "cell_type": "markdown",
   "metadata": {},
   "source": [
    "Simulate random sampling from a uniform population distribution with several $n$ values to\n",
    "illustrate the Central Limit Theorem."
   ]
  },
  {
   "cell_type": "markdown",
   "metadata": {},
   "source": [
    "We construct a vector of uniform random numbers between 0 and 1. The mean is 0.49995, which is close to 0.5. This shows the Central Limit Theorem."
   ]
  },
  {
   "cell_type": "code",
   "execution_count": 149,
   "metadata": {},
   "outputs": [
    {
     "name": "stdout",
     "output_type": "stream",
     "text": [
      "0.49994825412866567\n"
     ]
    },
    {
     "data": {
      "image/png": "[encoded data removed]",
      "text/plain": [
       "<Figure size 640x480 with 1 Axes>"
      ]
     },
     "metadata": {},
     "output_type": "display_data"
    }
   ],
   "source": [
    "n = 1000\n",
    "np.random.seed(1)\n",
    "\n",
    "mu_uni = np.zeros(n)\n",
    "for i in np.arange(0,n):\n",
    "    vec = np.random.uniform(low=0.0, high=1.0, size=n)\n",
    "    mu_uni[i] = np.mean(vec)\n",
    "\n",
    "plt.plot(np.arange(0,n),mu_uni)\n",
    "\n",
    "mu = np.mean(mu_uni)\n",
    "print(mu)\n"
   ]
  },
  {
   "cell_type": "markdown",
   "metadata": {},
   "source": [
    "## Problem 3.14."
   ]
  },
  {
   "cell_type": "markdown",
   "metadata": {},
   "source": [
    "On each bet in a sequence of bets, you win 1 dollar with probability 0.50 and lose 1 dollar (i.e., win negative 1 dollar) with probability 0.50. Let $Y$ denote the total of your winnings and losings after 100 bets. Giving your reasoning, state the approximate distribution of $Y.$ "
   ]
  },
  {
   "cell_type": "markdown",
   "metadata": {},
   "source": [
    "`Your answer goes here`"
   ]
  },
  {
   "cell_type": "code",
   "execution_count": null,
   "metadata": {},
   "outputs": [],
   "source": []
  },
  {
   "cell_type": "markdown",
   "metadata": {},
   "source": [
    "## Problem 3.15."
   ]
  },
  {
   "cell_type": "markdown",
   "metadata": {},
   "source": [
    "According to a General Social Survey, in the United States the population distribution of $Y$ =\n",
    "number of good friends (not including family members) has a mean of about 5.5 and a standard\n",
    "deviation of about 3.9."
   ]
  },
  {
   "cell_type": "markdown",
   "metadata": {},
   "source": [
    "a) Is it plausible that this population distribution is normal? Explain."
   ]
  },
  {
   "cell_type": "markdown",
   "metadata": {},
   "source": [
    "`Your answer here`"
   ]
  },
  {
   "cell_type": "code",
   "execution_count": null,
   "metadata": {},
   "outputs": [],
   "source": []
  },
  {
   "cell_type": "markdown",
   "metadata": {},
   "source": [
    "b) If a new survey takes a simple random sample of 1000 people, describe the sampling\n",
    "distribution of $\\bar{Y}$ by giving its shape and approximate mean and standard error."
   ]
  },
  {
   "cell_type": "markdown",
   "metadata": {},
   "source": [
    "`Your answer here`"
   ]
  },
  {
   "cell_type": "code",
   "execution_count": null,
   "metadata": {},
   "outputs": [],
   "source": []
  },
  {
   "cell_type": "markdown",
   "metadata": {},
   "source": [
    "c) Suppose that actually the mean of 5.5 and standard deviation of 3.9 are not population\n",
    "values but are based on a sample of 1000 people. Treating results as a simple random\n",
    "sample, give an interval of values within which you can be very sure that the population\n",
    "mean falls. Explain your reasoning."
   ]
  },
  {
   "cell_type": "markdown",
   "metadata": {},
   "source": [
    "`Your answer here`"
   ]
  },
  {
   "cell_type": "code",
   "execution_count": null,
   "metadata": {},
   "outputs": [],
   "source": []
  },
  {
   "cell_type": "markdown",
   "metadata": {},
   "source": [
    "## Problem 3.18."
   ]
  },
  {
   "cell_type": "markdown",
   "metadata": {},
   "source": [
    "Sunshine City, which attracts primarily retired people, has 90,000 residents with a mean age\n",
    "of 72 years and a standard deviation of 12 years. The age distribution is skewed to the left. A\n",
    "random sample of 100 residents of Sunshine City has $\\bar{y} = 70$ and $s = 11.$"
   ]
  },
  {
   "cell_type": "markdown",
   "metadata": {},
   "source": [
    "a)  Describe the center and spread of the (i) population distribution, (ii) sample data distribution. What shape does the sample data distribution probably have? Why?"
   ]
  },
  {
   "cell_type": "markdown",
   "metadata": {},
   "source": [
    "`Your answer here`"
   ]
  },
  {
   "cell_type": "code",
   "execution_count": null,
   "metadata": {},
   "outputs": [],
   "source": []
  },
  {
   "cell_type": "markdown",
   "metadata": {},
   "source": [
    "b) Find the center and spread of the sampling distribution of $\\bar{Y}$ for $n = 100.$ What shape does it have and what does it describe?\n"
   ]
  },
  {
   "cell_type": "markdown",
   "metadata": {},
   "source": [
    "`Your answer here`"
   ]
  },
  {
   "cell_type": "code",
   "execution_count": null,
   "metadata": {},
   "outputs": [],
   "source": []
  },
  {
   "cell_type": "markdown",
   "metadata": {},
   "source": [
    "c)  Explain why it would not be unusual to sample a person of age 60 in Sunshine City, but\n",
    "it would be highly unusual for the sample mean to be 60, for a random sample of 100\n",
    "residents."
   ]
  },
  {
   "cell_type": "markdown",
   "metadata": {},
   "source": [
    "`Your answer here`"
   ]
  },
  {
   "cell_type": "code",
   "execution_count": null,
   "metadata": {},
   "outputs": [],
   "source": []
  },
  {
   "cell_type": "markdown",
   "metadata": {},
   "source": [
    "d) Describe the sampling distribution of $\\bar{Y}$ : (i) for a random sample of size $n = 1$; (ii) if you sample all 90,000 residents."
   ]
  },
  {
   "cell_type": "markdown",
   "metadata": {},
   "source": [
    "`Your answer here`"
   ]
  },
  {
   "cell_type": "code",
   "execution_count": null,
   "metadata": {},
   "outputs": [],
   "source": []
  },
  {
   "cell_type": "markdown",
   "metadata": {},
   "source": [
    "## Problem 3.21."
   ]
  },
  {
   "cell_type": "markdown",
   "metadata": {},
   "source": [
    "In your school, suppose that GPA has an approximate normal distribution with $\\mu = 3.0, \\sigma = 0.40.$ Not knowing $\\mu$, you randomly sample $n = 25$ students to estimate it. Using simulation for this application, illustrate the difference between a sample data distribution and the sampling distribution of Y ."
   ]
  },
  {
   "cell_type": "markdown",
   "metadata": {},
   "source": [
    "`Your answer here`"
   ]
  },
  {
   "cell_type": "code",
   "execution_count": null,
   "metadata": {},
   "outputs": [],
   "source": []
  },
  {
   "cell_type": "markdown",
   "metadata": {},
   "source": [
    "## Problem 3.26."
   ]
  },
  {
   "cell_type": "markdown",
   "metadata": {},
   "source": [
    "When sample data were used to rank states by brain cancer rates, Ellenberg (2014) noted\n",
    "that the highest ranking state (South Dakota) and the nearly lowest ranking state (North\n",
    "Dakota) had relatively small sample sizes. Also, when schools in North Carolina were ranked\n",
    "by their average improvement in test scores, the best and the worst schools were very small\n",
    "schools. Explain how these results could merely reflect how the variability of sample means and\n",
    "proportions depends on the sample size."
   ]
  },
  {
   "cell_type": "markdown",
   "metadata": {},
   "source": [
    "`Your answer here`"
   ]
  },
  {
   "cell_type": "code",
   "execution_count": null,
   "metadata": {},
   "outputs": [],
   "source": []
  }
 ],
 "metadata": {
  "kernelspec": {
   "display_name": "Python 3 (ipykernel)",
   "language": "python",
   "name": "python3"
  },
  "language_info": {
   "codemirror_mode": {
    "name": "ipython",
    "version": 3
   },
   "file_extension": ".py",
   "mimetype": "text/x-python",
   "name": "python",
   "nbconvert_exporter": "python",
   "pygments_lexer": "ipython3",
   "version": "3.11.7"
  }
 },
 "nbformat": 4,
 "nbformat_minor": 4
}
