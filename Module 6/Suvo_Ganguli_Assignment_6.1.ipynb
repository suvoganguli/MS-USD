{
 "cells": [
  {
   "cell_type": "markdown",
   "metadata": {},
   "source": [
    "# Assignment 6.1\n",
    "\n",
    "Name: Subhabrata (Suvo) Ganguli\n",
    "\n",
    "Date: Feb 13, 2024"
   ]
  },
  {
   "cell_type": "markdown",
   "metadata": {},
   "source": [
    "For this assignment, you will refer to the textbook to solve the practice exercises. **Use Python to answer any coding problems (not R, even if indicated in your textbook).** Use Jupyter Notebook, Google Colab, or a similar software program to complete your assignment. Submit your answers as a **PDF or HTML** file. As a best practice, always label your axes and provide titles for any graphs generated on this assignment. Round all quantitative answers to 2 decimal places."
   ]
  },
  {
   "cell_type": "markdown",
   "metadata": {},
   "source": [
    "## Problem 6.1."
   ]
  },
  {
   "cell_type": "markdown",
   "metadata": {},
   "source": [
    "For the Scottish hill `Races` data, a linear model can predict men’s record times from women’s record times.  \n",
    "http://stat4ds.rwth-aachen.de/data/ScotsRaces.dat\n"
   ]
  },
  {
   "cell_type": "markdown",
   "metadata": {},
   "source": [
    "(a)  Show the scatterplot and report the prediction equation. Predict the men’s record time for the Highland Fling, for which timeW = 490.05 minutes.\n"
   ]
  },
  {
   "cell_type": "markdown",
   "metadata": {},
   "source": [
    "The code and result for the scatterplot are shown below.\n",
    "\n",
    "Prediction Equation: TimeM = 0.87 * TimeW -2.83\n"
   ]
  },
  {
   "cell_type": "code",
   "execution_count": 2,
   "metadata": {},
   "outputs": [
    {
     "name": "stdout",
     "output_type": "stream",
     "text": [
      "               race  distance  climb   timeM   timeW\n",
      "0        AnTeallach      10.6  1.062   74.68   89.72\n",
      "1      ArrocharAlps      25.0  2.400  187.32  222.03\n",
      "2  BaddinsgillRound      16.4  0.650   87.18  102.48\n",
      "3          BeinnLee      10.2  0.260   41.58   52.52\n",
      "4        BeinnRatha      12.0  0.240   47.75   58.78\n"
     ]
    }
   ],
   "source": [
    "import pandas as pd\n",
    "import matplotlib.pyplot as plt\n",
    "import seaborn as sns\n",
    "from sklearn.linear_model import LinearRegression\n",
    "\n",
    "# Load the data\n",
    "url = \"http://stat4ds.rwth-aachen.de/data/ScotsRaces.dat\"\n",
    "data = pd.read_csv(url, sep=\"\\s+\")\n",
    "\n",
    "# see data head\n",
    "print(data.head())"
   ]
  },
  {
   "cell_type": "code",
   "execution_count": 3,
   "metadata": {},
   "outputs": [
    {
     "data": {
      "text/plain": [
       "Text(0.5, 1.0, \"Men's vs Women's Time\")"
      ]
     },
     "execution_count": 3,
     "metadata": {},
     "output_type": "execute_result"
    },
    {
     "data": {
      "image/png": "[encoded data removed]",
      "text/plain": [
       "<Figure size 640x480 with 1 Axes>"
      ]
     },
     "metadata": {},
     "output_type": "display_data"
    }
   ],
   "source": [
    "# Scatterplot\n",
    "sns.scatterplot(x=\"timeW\", y=\"timeM\", data=data)\n",
    "plt.xlabel(\"Women's Time (minutes)\")\n",
    "plt.ylabel(\"Men's Time (minutes)\")\n",
    "plt.title(\"Men's vs Women's Time\")"
   ]
  },
  {
   "cell_type": "code",
   "execution_count": 4,
   "metadata": {},
   "outputs": [
    {
     "name": "stdout",
     "output_type": "stream",
     "text": [
      "Intercept = -2.83\n",
      "Slope = 0.87\n",
      "Men's record time (predicted): 423.94 minutes\n"
     ]
    }
   ],
   "source": [
    "# Linear Regression\n",
    "# Fit linear regression model\n",
    "x = data[[\"timeW\"]].values\n",
    "y = data[\"timeM\"].values\n",
    "model = LinearRegression()\n",
    "model.fit(x, y)\n",
    "\n",
    "# Prediction\n",
    "intercept = model.intercept_\n",
    "slope = model.coef_[0]\n",
    "\n",
    "print(\"Intercept = %.2f\" % intercept)\n",
    "print(\"Slope = %.2f\" % slope)\n",
    "\n",
    "# Predict men's record time for the Highland Fling\n",
    "timeW = 490.05\n",
    "timeM_pred = model.predict([[timeW]])\n",
    "print(\"Men's record time (predicted): %.2f minutes\" %timeM_pred[0])\n"
   ]
  },
  {
   "cell_type": "markdown",
   "metadata": {},
   "source": [
    "(b) Find and interpret the correlation."
   ]
  },
  {
   "cell_type": "markdown",
   "metadata": {},
   "source": [
    "The correlation is 0.99587.\n",
    "\n",
    "Since the correlation is almost 1, it indicates a strong positive linear relationship. Thus, as women's record times increase, men's record times also increase proportionally."
   ]
  },
  {
   "cell_type": "code",
   "execution_count": 5,
   "metadata": {},
   "outputs": [
    {
     "name": "stdout",
     "output_type": "stream",
     "text": [
      "Correlation = 0.99587\n"
     ]
    }
   ],
   "source": [
    "# import library\n",
    "import numpy as np\n",
    "\n",
    "# correlation\n",
    "correlation = np.corrcoef(data['timeW'], data['timeM'])[0, 1]\n",
    "print(\"Correlation = %.5f\" %correlation)\n"
   ]
  },
  {
   "cell_type": "markdown",
   "metadata": {},
   "source": [
    "(c) We could impose the natural constraint that when timeW = 0, then timeM = 0. Fit the model $E(Y_i)=\\beta x_i.$ Interpret the estimated slope."
   ]
  },
  {
   "cell_type": "markdown",
   "metadata": {},
   "source": [
    "Adding the constraint lead to a less positive linear relationship as compared to the case where there is an intercept."
   ]
  },
  {
   "cell_type": "code",
   "execution_count": 6,
   "metadata": {},
   "outputs": [
    {
     "name": "stdout",
     "output_type": "stream",
     "text": [
      "Beta =  [0.85227434]\n"
     ]
    }
   ],
   "source": [
    "# linear regression\n",
    "model = LinearRegression(fit_intercept=False)\n",
    "model.fit(x, y)\n",
    "\n",
    "# Get the estimated slope (beta)\n",
    "slope = model.coef_\n",
    "print(\"Beta = \", slope)"
   ]
  },
  {
   "cell_type": "markdown",
   "metadata": {},
   "source": [
    "## Problem 6.2."
   ]
  },
  {
   "cell_type": "markdown",
   "metadata": {},
   "source": [
    "For advanced industrialized nations, the Firearms data file at the text website shows annual homicide rates (per million population) and the number of firearms (per 100 people), with data taken from Wikipedia and [smallarmssurvey.org](smallarmssurvey.org)."
   ]
  },
  {
   "cell_type": "markdown",
   "metadata": {},
   "source": [
    "(a) Construct a scatterplot and highlight any observations that fall apart from the general trend."
   ]
  },
  {
   "cell_type": "markdown",
   "metadata": {},
   "source": [
    "Code and result for scatterplot are shown below.\n",
    "\n",
    "The outliers can be constructed as:\n",
    "- 'firearms' > 20 or 'deaths' > 6, and\n",
    "- 'firearms' <=80 or 'deaths' < 25"
   ]
  },
  {
   "cell_type": "code",
   "execution_count": 7,
   "metadata": {},
   "outputs": [
    {
     "data": {
      "text/html": [
       "<div>\n",
       "<style scoped>\n",
       "    .dataframe tbody tr th:only-of-type {\n",
       "        vertical-align: middle;\n",
       "    }\n",
       "\n",
       "    .dataframe tbody tr th {\n",
       "        vertical-align: top;\n",
       "    }\n",
       "\n",
       "    .dataframe thead th {\n",
       "        text-align: right;\n",
       "    }\n",
       "</style>\n",
       "<table border=\"1\" class=\"dataframe\">\n",
       "  <thead>\n",
       "    <tr style=\"text-align: right;\">\n",
       "      <th></th>\n",
       "      <th>Nation</th>\n",
       "      <th>deaths</th>\n",
       "      <th>firearms</th>\n",
       "    </tr>\n",
       "  </thead>\n",
       "  <tbody>\n",
       "    <tr>\n",
       "      <th>0</th>\n",
       "      <td>Austria</td>\n",
       "      <td>1.8</td>\n",
       "      <td>30</td>\n",
       "    </tr>\n",
       "    <tr>\n",
       "      <th>1</th>\n",
       "      <td>Belgium</td>\n",
       "      <td>2.9</td>\n",
       "      <td>17</td>\n",
       "    </tr>\n",
       "    <tr>\n",
       "      <th>2</th>\n",
       "      <td>Canada</td>\n",
       "      <td>5.1</td>\n",
       "      <td>31</td>\n",
       "    </tr>\n",
       "    <tr>\n",
       "      <th>3</th>\n",
       "      <td>Denmark</td>\n",
       "      <td>2.2</td>\n",
       "      <td>12</td>\n",
       "    </tr>\n",
       "    <tr>\n",
       "      <th>4</th>\n",
       "      <td>Finland</td>\n",
       "      <td>2.6</td>\n",
       "      <td>45</td>\n",
       "    </tr>\n",
       "  </tbody>\n",
       "</table>\n",
       "</div>"
      ],
      "text/plain": [
       "    Nation  deaths  firearms\n",
       "0  Austria     1.8        30\n",
       "1  Belgium     2.9        17\n",
       "2   Canada     5.1        31\n",
       "3  Denmark     2.2        12\n",
       "4  Finland     2.6        45"
      ]
     },
     "execution_count": 7,
     "metadata": {},
     "output_type": "execute_result"
    }
   ],
   "source": [
    "# read data\n",
    "\n",
    "data = pd.read_csv(\"Firearms.dat\", delimiter=r\"\\s+\")\n",
    "data.head()"
   ]
  },
  {
   "cell_type": "code",
   "execution_count": 8,
   "metadata": {},
   "outputs": [
    {
     "data": {
      "text/plain": [
       "Text(0.5, 1.0, 'Scatterplot of Firearms vs Death')"
      ]
     },
     "execution_count": 8,
     "metadata": {},
     "output_type": "execute_result"
    },
    {
     "data": {
      "image/png": "[encoded data removed]",
      "text/plain": [
       "<Figure size 640x480 with 1 Axes>"
      ]
     },
     "metadata": {},
     "output_type": "display_data"
    }
   ],
   "source": [
    "# scatterplot\n",
    "plt.figure()\n",
    "plt.scatter(data['firearms'], data['deaths'])\n",
    "plt.xlabel('firearms')\n",
    "plt.ylabel('deaths')\n",
    "plt.title('Scatterplot of Firearms vs Death')"
   ]
  },
  {
   "cell_type": "markdown",
   "metadata": {},
   "source": [
    "(b) Find the correlation with and without the outlying observation. Why is it so different in the two cases?"
   ]
  },
  {
   "cell_type": "markdown",
   "metadata": {},
   "source": [
    "The code and result for correlation between firearms and deaths with and without outliers are given below. For outliers we consider the values ot firearnms > 20 and < 80 or value of deaths > 6 and < 25.\n",
    "\n",
    "The correlation coefficient with outliers is 0.6344 and without outliers is 0.9836. This indicates that the regression without outlier has a strong correlation between firearms and deaths. Whereas the correlation coefficient with outliers has a weaker correlation between firearms and deaths."
   ]
  },
  {
   "cell_type": "code",
   "execution_count": 9,
   "metadata": {},
   "outputs": [
    {
     "name": "stdout",
     "output_type": "stream",
     "text": [
      "Correlation with outlier: 0.6344\n",
      "Correlation without outlier: 0.9836\n"
     ]
    },
    {
     "data": {
      "image/png": "[encoded data removed]",
      "text/plain": [
       "<Figure size 640x480 with 1 Axes>"
      ]
     },
     "metadata": {},
     "output_type": "display_data"
    },
    {
     "data": {
      "image/png": "[encoded data removed]",
      "text/plain": [
       "<Figure size 640x480 with 1 Axes>"
      ]
     },
     "metadata": {},
     "output_type": "display_data"
    },
    {
     "data": {
      "image/png": "[encoded data removed]",
      "text/plain": [
       "<Figure size 640x480 with 1 Axes>"
      ]
     },
     "metadata": {},
     "output_type": "display_data"
    }
   ],
   "source": [
    "# outliers\n",
    "outliers_1 = data[(data['firearms'] > 20) | (data['deaths'] > 6)]\n",
    "outliers =  outliers_1[(outliers_1['firearms'] <= 80) | (outliers_1['deaths'] <= 25)]\n",
    "plt.figure()\n",
    "plt.scatter(outliers['firearms'], outliers['deaths'], color='red')\n",
    "plt.xlim([0,100])\n",
    "plt.ylim([0,30])\n",
    "plt.xlabel('firearms')\n",
    "plt.ylabel('deaths')\n",
    "plt.title('Scatterplot of Outliers')\n",
    "\n",
    "# data without outliers\n",
    "data_no_outliers = data[((data['firearms'] <= 20) & (data['deaths'] <= 6)) | ((data['firearms'] >= 80) & (data['deaths'] >= 25))]\n",
    "plt.figure()\n",
    "plt.scatter(data_no_outliers['firearms'], data_no_outliers['deaths'], color='blue')\n",
    "plt.xlim([0,100])\n",
    "plt.ylim([0,30])\n",
    "plt.xlabel('firearms')\n",
    "plt.ylabel('deaths')\n",
    "plt.title('Scatterplot of Data without Outliers')\n",
    "\n",
    "# data with outliers\n",
    "plt.figure()\n",
    "plt.scatter(data['firearms'], data['deaths'], color='blue')\n",
    "plt.xlim([0,100])\n",
    "plt.ylim([0,30])\n",
    "plt.xlabel('firearms')\n",
    "plt.ylabel('deaths')\n",
    "plt.title('Scatterplot of Firearms vs Death - All Data')\n",
    "\n",
    "# Correlation - outlier\n",
    "corr_outlier = data['firearms'].corr(data['deaths'])\n",
    "\n",
    "# Data without outliers\n",
    "data_no_outlier = data[((data['firearms'] <= 20) & (data['deaths'] <= 6)) | ((data['firearms'] >= 80) & (data['deaths'] >= 25))]\n",
    "\n",
    "# Calculate correlation without outlier\n",
    "corr_no_outlier = data_no_outlier['firearms'].corr(data_no_outlier['deaths'])\n",
    "\n",
    "print(\"Correlation with outlier: %.4f\" % corr_outlier)\n",
    "print(\"Correlation without outlier: %.4f\" % corr_no_outlier)"
   ]
  },
  {
   "cell_type": "markdown",
   "metadata": {},
   "source": [
    "(c) Fit the linear regression model with and without the outlying observation, and note how influential an outlier can be on the fit."
   ]
  },
  {
   "cell_type": "markdown",
   "metadata": {},
   "source": [
    "See code and results below for linear regression model with and without the outlying observation.\n",
    "\n",
    "Prediction Equation (with outliers): y = -0.27 + 0.19\\*x\n",
    "\n",
    "Prediction Equation (without outliers): y = -0.35 + 0.32\\*x\n",
    "\n",
    "Note that the intercept changes from -0.27 to -0.35 and the slope changes from 0.19 to 0.32. These are significantly different."
   ]
  },
  {
   "cell_type": "code",
   "execution_count": 10,
   "metadata": {},
   "outputs": [
    {
     "name": "stdout",
     "output_type": "stream",
     "text": [
      "Prediction Equation (with outliers): y = -0.27 + 0.19*x\n",
      "Prediction Equation (without outliers): y = -0.35 + 0.32*x\n"
     ]
    }
   ],
   "source": [
    "# Create and fit the model - with outliers\n",
    "X = data[['firearms']]\n",
    "y = data['deaths']\n",
    "\n",
    "model = LinearRegression()\n",
    "model.fit(X, y)\n",
    "\n",
    "coeff = model.coef_[0]\n",
    "intercept = model.intercept_\n",
    "\n",
    "print(f\"Prediction Equation (with outliers): y = {intercept:.2f} + {coeff:.2f}*x\")\n",
    "\n",
    "X = data_no_outlier[['firearms']]\n",
    "y = data_no_outlier['deaths']\n",
    "\n",
    "model = LinearRegression()\n",
    "model.fit(X, y)\n",
    "\n",
    "coeff = model.coef_[0]\n",
    "intercept = model.intercept_\n",
    "\n",
    "print(f\"Prediction Equation (without outliers): y = {intercept:.2f} + {coeff:.2f}*x\")"
   ]
  },
  {
   "cell_type": "markdown",
   "metadata": {},
   "source": [
    "## Problem 6.5."
   ]
  },
  {
   "cell_type": "markdown",
   "metadata": {},
   "source": [
    "For the `Covid19` data file at the text website:  \n",
    "http://stat4ds.rwth-aachen.de/data/Covid19.dat "
   ]
  },
  {
   "cell_type": "markdown",
   "metadata": {},
   "source": [
    "(a) Construct the two scatterplots shown in Figure 6.3."
   ]
  },
  {
   "cell_type": "markdown",
   "metadata": {},
   "source": [
    "Code and results for the two scatterplots are shown below."
   ]
  },
  {
   "cell_type": "code",
   "execution_count": 11,
   "metadata": {},
   "outputs": [
    {
     "name": "stdout",
     "output_type": "stream",
     "text": [
      "   day  cases\n",
      "0    1     16\n",
      "1    2     24\n",
      "2    3     30\n",
      "3    4     53\n",
      "4    5     80\n"
     ]
    }
   ],
   "source": [
    "# Load the data\n",
    "url = \"http://stat4ds.rwth-aachen.de/data/Covid19.dat\"\n",
    "data = pd.read_csv(url, sep=\"\\s+\")\n",
    "\n",
    "# see data head\n",
    "print(data.head())"
   ]
  },
  {
   "cell_type": "code",
   "execution_count": 12,
   "metadata": {},
   "outputs": [
    {
     "data": {
      "text/plain": [
       "Text(0.5, 1.0, 'Scatterplot of Logarithm(Number of Cases) vs Day')"
      ]
     },
     "execution_count": 12,
     "metadata": {},
     "output_type": "execute_result"
    },
    {
     "data": {
      "image/png": "[encoded data removed]",
      "text/plain": [
       "<Figure size 640x480 with 1 Axes>"
      ]
     },
     "metadata": {},
     "output_type": "display_data"
    },
    {
     "data": {
      "image/png": "[encoded data removed]",
      "text/plain": [
       "<Figure size 640x480 with 1 Axes>"
      ]
     },
     "metadata": {},
     "output_type": "display_data"
    }
   ],
   "source": [
    "# import library\n",
    "import numpy as np\n",
    "\n",
    "plt.figure()\n",
    "plt.scatter(data['day'], data['cases'], color='blue')\n",
    "plt.xlabel('Day')\n",
    "plt.ylabel('Number of Cases')\n",
    "plt.title('Scatterplot of Number of Cases vs Day')\n",
    "\n",
    "plt.figure()\n",
    "plt.scatter(data['day'], np.log(data['cases']), color='blue')\n",
    "plt.xlabel('Day')\n",
    "plt.ylabel('Number of Cases')\n",
    "plt.title('Scatterplot of Logarithm(Number of Cases) vs Day')"
   ]
  },
  {
   "cell_type": "markdown",
   "metadata": {},
   "source": [
    "(b) Find and interpret the correlation between time and (i) cases, (ii) log(cases)."
   ]
  },
  {
   "cell_type": "markdown",
   "metadata": {},
   "source": [
    "Correlation between Day and Cases = 0.7937\n",
    "\n",
    "Correlation between Day and Logarithm(Cases) = 0.9968\n",
    "\n",
    "The fact that the correlation between days and log(cases) is almost 1 indicates that there is a very strong positive correlation between days and log(cases). The correlation between days and cases is 0.79 indicates that comparatively there is a not a strong positive correlation between days and cases."
   ]
  },
  {
   "cell_type": "code",
   "execution_count": 13,
   "metadata": {},
   "outputs": [
    {
     "name": "stdout",
     "output_type": "stream",
     "text": [
      "Correlation between Day and Cases = 0.7937\n",
      "Correlation between Day and Logarithm(Cases) = 0.9968\n"
     ]
    }
   ],
   "source": [
    "corr_cases = data['day'].corr(data['cases'])\n",
    "corr_log_cases = data['day'].corr(np.log(data['cases']))\n",
    "\n",
    "print(\"Correlation between Day and Cases = %.4f\" % corr_cases)\n",
    "print(\"Correlation between Day and Logarithm(Cases) = %.4f\" % corr_log_cases)"
   ]
  },
  {
   "cell_type": "markdown",
   "metadata": {},
   "source": [
    "(c)  Fit the linear model for the log-transformed counts and report the prediction equation.$^{29}.$ Explain why the predicted count at day $x+1$ equals the predicted count at day $x$ multiplied by $\\text{exp}(\\hat\\beta_1)=1.36.$"
   ]
  },
  {
   "cell_type": "markdown",
   "metadata": {},
   "source": [
    "Prediction Equation: log(y) = 0.3088 * day + 2.8439\n",
    "\n",
    "We calculate the prediction for day x = 1. Then we calculate the prediction at day x + 1 and product of prediction at day x and exp(beta1). The values are:\n",
    "- Predicted number of cases at day x + 1: 336272.44\n",
    "- Predicted number of cases at day x: 246932.40\n",
    "\n",
    "The ratio is 1.36 as shown by the code below."
   ]
  },
  {
   "cell_type": "code",
   "execution_count": 14,
   "metadata": {},
   "outputs": [
    {
     "name": "stdout",
     "output_type": "stream",
     "text": [
      "Prediction equation: log(y) = 0.3088 * day + 2.8439\n",
      "Predicted number of cases at day x + 1: 336272.44\n",
      "Predicted number of cases at day x: 246932.40\n",
      "Ratio: 1.36\n"
     ]
    }
   ],
   "source": [
    "import pandas as pd\n",
    "import numpy as np\n",
    "from sklearn.linear_model import LinearRegression\n",
    "\n",
    "# Load the Covid19 data\n",
    "data_url = \"http://stat4ds.rwth-aachen.de/data/Covid19.dat\"\n",
    "covid_data = pd.read_csv(data_url, delim_whitespace=True)\n",
    "\n",
    "# Get X and y\n",
    "X = np.array(covid_data['day']).reshape(-1,1)\n",
    "y = covid_data['cases']\n",
    "\n",
    "# Find log\n",
    "y_log = np.log(y)\n",
    "\n",
    "# linear regression\n",
    "model = LinearRegression()\n",
    "model.fit(X, y_log)\n",
    "\n",
    "# Print the coefficient and prediction equation\n",
    "print(\"Prediction equation: log(y) = {:.4f} * day + {:.4f}\".format(model.coef_[0], model.intercept_))\n",
    "\n",
    "# Calculate the predicted count at day x + 1\n",
    "case_x_plus_1 = np.exp(model.predict([[X.max() + 1]]))\n",
    "case_x = np.exp(model.predict([[X.max()]]))\n",
    "ratio = case_x_plus_1 / case_x\n",
    "\n",
    "# Comparison\n",
    "print(\"Predicted number of cases at day x + 1: %.2f\" % case_x_plus_1[0])\n",
    "print(\"Predicted number of cases at day x: %.2f\" % case_x[0])\n",
    "print(\"Ratio: %.2f\" % ratio[0])\n"
   ]
  },
  {
   "cell_type": "markdown",
   "metadata": {},
   "source": [
    "## Problem 6.8."
   ]
  },
  {
   "cell_type": "markdown",
   "metadata": {},
   "source": [
    "Refer to the example in Section 6.2.5 of the crime rate in Florida counties."
   ]
  },
  {
   "cell_type": "markdown",
   "metadata": {},
   "source": [
    "(a) Explain what it means when we say these data exhibit *Simpson’s paradox*. What could cause this change in the direction of the association between crime rate and education\n",
    "when we adjust for urbanization?"
   ]
  },
  {
   "cell_type": "markdown",
   "metadata": {},
   "source": [
    "Simpson's paradox here means that as education increases, the crime rate also increases. This is counter-intuitive.\n",
    "\n",
    "With the independent variable as \"education\" only - (a) intercept = 50.85 (b) coefficient for HS = 1.486. Here the slope of HS is 1.486 > 0. This means there is a positive correlation.\n",
    "\n",
    "With the independent variables as \"education\" and \"urbanization\" - (a) intercept = 59.1181 (b) slope for HS = -0.5834 (c) slope for Urban  0.6835. Here the slope of HS is < 0 - which makes sense.\n",
    "\n",
    "The reason for the Simpson's paradox can be explained by the scatterplot Figure 6.5 in the textbook. We see that if we do linear regression with the urban and rural data separately, we get negative slope for education, which makes sense. However, when we take the full dataset, due to the specific distribution, we get a positive slope for education for the linear regression. That is why the interpretation becomes counterintuitive.\n"
   ]
  },
  {
   "cell_type": "code",
   "execution_count": 15,
   "metadata": {},
   "outputs": [
    {
     "name": "stdout",
     "output_type": "stream",
     "text": [
      "     County  Crime  Income    HS  Urban\n",
      "0   ALACHUA    104    22.1  82.7   73.2\n",
      "1     BAKER     20    25.8  64.1   21.5\n",
      "2       BAY     64    24.7  74.7   85.0\n",
      "3  BRADFORD     50    24.6  65.0   23.2\n",
      "4   BREVARD     64    30.5  82.3   91.9\n"
     ]
    }
   ],
   "source": [
    "# import libraries\n",
    "import statsmodels.api as sm\n",
    "import statsmodels.formula.api as smf\n",
    "\n",
    "# Load the data\n",
    "url = \"http://stat4ds.rwth-aachen.de/data/Florida.dat\"\n",
    "data = pd.read_csv(url, sep=\"\\s+\")\n",
    "\n",
    "# see data head\n",
    "print(data.head())"
   ]
  },
  {
   "cell_type": "code",
   "execution_count": 16,
   "metadata": {},
   "outputs": [
    {
     "data": {
      "text/html": [
       "<table class=\"simpletable\">\n",
       "<caption>OLS Regression Results</caption>\n",
       "<tr>\n",
       "  <th>Dep. Variable:</th>          <td>Crime</td>      <th>  R-squared:         </th> <td>   0.218</td>\n",
       "</tr>\n",
       "<tr>\n",
       "  <th>Model:</th>                   <td>OLS</td>       <th>  Adj. R-squared:    </th> <td>   0.206</td>\n",
       "</tr>\n",
       "<tr>\n",
       "  <th>Method:</th>             <td>Least Squares</td>  <th>  F-statistic:       </th> <td>   18.12</td>\n",
       "</tr>\n",
       "<tr>\n",
       "  <th>Date:</th>             <td>Tue, 13 Feb 2024</td> <th>  Prob (F-statistic):</th> <td>6.81e-05</td>\n",
       "</tr>\n",
       "<tr>\n",
       "  <th>Time:</th>                 <td>14:53:52</td>     <th>  Log-Likelihood:    </th> <td> -310.05</td>\n",
       "</tr>\n",
       "<tr>\n",
       "  <th>No. Observations:</th>      <td>    67</td>      <th>  AIC:               </th> <td>   624.1</td>\n",
       "</tr>\n",
       "<tr>\n",
       "  <th>Df Residuals:</th>          <td>    65</td>      <th>  BIC:               </th> <td>   628.5</td>\n",
       "</tr>\n",
       "<tr>\n",
       "  <th>Df Model:</th>              <td>     1</td>      <th>                     </th>     <td> </td>   \n",
       "</tr>\n",
       "<tr>\n",
       "  <th>Covariance Type:</th>      <td>nonrobust</td>    <th>                     </th>     <td> </td>   \n",
       "</tr>\n",
       "</table>\n",
       "<table class=\"simpletable\">\n",
       "<tr>\n",
       "      <td></td>         <th>coef</th>     <th>std err</th>      <th>t</th>      <th>P>|t|</th>  <th>[0.025</th>    <th>0.975]</th>  \n",
       "</tr>\n",
       "<tr>\n",
       "  <th>Intercept</th> <td>  -50.8569</td> <td>   24.451</td> <td>   -2.080</td> <td> 0.041</td> <td>  -99.688</td> <td>   -2.026</td>\n",
       "</tr>\n",
       "<tr>\n",
       "  <th>HS</th>        <td>    1.4860</td> <td>    0.349</td> <td>    4.257</td> <td> 0.000</td> <td>    0.789</td> <td>    2.183</td>\n",
       "</tr>\n",
       "</table>\n",
       "<table class=\"simpletable\">\n",
       "<tr>\n",
       "  <th>Omnibus:</th>       <td> 4.854</td> <th>  Durbin-Watson:     </th> <td>   1.713</td>\n",
       "</tr>\n",
       "<tr>\n",
       "  <th>Prob(Omnibus):</th> <td> 0.088</td> <th>  Jarque-Bera (JB):  </th> <td>   4.181</td>\n",
       "</tr>\n",
       "<tr>\n",
       "  <th>Skew:</th>          <td> 0.601</td> <th>  Prob(JB):          </th> <td>   0.124</td>\n",
       "</tr>\n",
       "<tr>\n",
       "  <th>Kurtosis:</th>      <td> 3.225</td> <th>  Cond. No.          </th> <td>    558.</td>\n",
       "</tr>\n",
       "</table><br/><br/>Notes:<br/>[1] Standard Errors assume that the covariance matrix of the errors is correctly specified."
      ],
      "text/latex": [
       "\\begin{center}\n",
       "\\begin{tabular}{lclc}\n",
       "\\toprule\n",
       "\\textbf{Dep. Variable:}    &      Crime       & \\textbf{  R-squared:         } &     0.218   \\\\\n",
       "\\textbf{Model:}            &       OLS        & \\textbf{  Adj. R-squared:    } &     0.206   \\\\\n",
       "\\textbf{Method:}           &  Least Squares   & \\textbf{  F-statistic:       } &     18.12   \\\\\n",
       "\\textbf{Date:}             & Tue, 13 Feb 2024 & \\textbf{  Prob (F-statistic):} &  6.81e-05   \\\\\n",
       "\\textbf{Time:}             &     14:53:52     & \\textbf{  Log-Likelihood:    } &   -310.05   \\\\\n",
       "\\textbf{No. Observations:} &          67      & \\textbf{  AIC:               } &     624.1   \\\\\n",
       "\\textbf{Df Residuals:}     &          65      & \\textbf{  BIC:               } &     628.5   \\\\\n",
       "\\textbf{Df Model:}         &           1      & \\textbf{                     } &             \\\\\n",
       "\\textbf{Covariance Type:}  &    nonrobust     & \\textbf{                     } &             \\\\\n",
       "\\bottomrule\n",
       "\\end{tabular}\n",
       "\\begin{tabular}{lcccccc}\n",
       "                   & \\textbf{coef} & \\textbf{std err} & \\textbf{t} & \\textbf{P$> |$t$|$} & \\textbf{[0.025} & \\textbf{0.975]}  \\\\\n",
       "\\midrule\n",
       "\\textbf{Intercept} &     -50.8569  &       24.451     &    -2.080  &         0.041        &      -99.688    &       -2.026     \\\\\n",
       "\\textbf{HS}        &       1.4860  &        0.349     &     4.257  &         0.000        &        0.789    &        2.183     \\\\\n",
       "\\bottomrule\n",
       "\\end{tabular}\n",
       "\\begin{tabular}{lclc}\n",
       "\\textbf{Omnibus:}       &  4.854 & \\textbf{  Durbin-Watson:     } &    1.713  \\\\\n",
       "\\textbf{Prob(Omnibus):} &  0.088 & \\textbf{  Jarque-Bera (JB):  } &    4.181  \\\\\n",
       "\\textbf{Skew:}          &  0.601 & \\textbf{  Prob(JB):          } &    0.124  \\\\\n",
       "\\textbf{Kurtosis:}      &  3.225 & \\textbf{  Cond. No.          } &     558.  \\\\\n",
       "\\bottomrule\n",
       "\\end{tabular}\n",
       "%\\caption{OLS Regression Results}\n",
       "\\end{center}\n",
       "\n",
       "Notes: \\newline\n",
       " [1] Standard Errors assume that the covariance matrix of the errors is correctly specified."
      ],
      "text/plain": [
       "<class 'statsmodels.iolib.summary.Summary'>\n",
       "\"\"\"\n",
       "                            OLS Regression Results                            \n",
       "==============================================================================\n",
       "Dep. Variable:                  Crime   R-squared:                       0.218\n",
       "Model:                            OLS   Adj. R-squared:                  0.206\n",
       "Method:                 Least Squares   F-statistic:                     18.12\n",
       "Date:                Tue, 13 Feb 2024   Prob (F-statistic):           6.81e-05\n",
       "Time:                        14:53:52   Log-Likelihood:                -310.05\n",
       "No. Observations:                  67   AIC:                             624.1\n",
       "Df Residuals:                      65   BIC:                             628.5\n",
       "Df Model:                           1                                         \n",
       "Covariance Type:            nonrobust                                         \n",
       "==============================================================================\n",
       "                 coef    std err          t      P>|t|      [0.025      0.975]\n",
       "------------------------------------------------------------------------------\n",
       "Intercept    -50.8569     24.451     -2.080      0.041     -99.688      -2.026\n",
       "HS             1.4860      0.349      4.257      0.000       0.789       2.183\n",
       "==============================================================================\n",
       "Omnibus:                        4.854   Durbin-Watson:                   1.713\n",
       "Prob(Omnibus):                  0.088   Jarque-Bera (JB):                4.181\n",
       "Skew:                           0.601   Prob(JB):                        0.124\n",
       "Kurtosis:                       3.225   Cond. No.                         558.\n",
       "==============================================================================\n",
       "\n",
       "Notes:\n",
       "[1] Standard Errors assume that the covariance matrix of the errors is correctly specified.\n",
       "\"\"\""
      ]
     },
     "execution_count": 16,
     "metadata": {},
     "output_type": "execute_result"
    }
   ],
   "source": [
    "# with R-style formulas\n",
    "res = smf.ols(\"Crime ~ HS\", data = data).fit()\n",
    "res.summary()"
   ]
  },
  {
   "cell_type": "code",
   "execution_count": 17,
   "metadata": {},
   "outputs": [
    {
     "data": {
      "text/html": [
       "<table class=\"simpletable\">\n",
       "<caption>OLS Regression Results</caption>\n",
       "<tr>\n",
       "  <th>Dep. Variable:</th>          <td>Crime</td>      <th>  R-squared:         </th> <td>   0.471</td>\n",
       "</tr>\n",
       "<tr>\n",
       "  <th>Model:</th>                   <td>OLS</td>       <th>  Adj. R-squared:    </th> <td>   0.455</td>\n",
       "</tr>\n",
       "<tr>\n",
       "  <th>Method:</th>             <td>Least Squares</td>  <th>  F-statistic:       </th> <td>   28.54</td>\n",
       "</tr>\n",
       "<tr>\n",
       "  <th>Date:</th>             <td>Tue, 13 Feb 2024</td> <th>  Prob (F-statistic):</th> <td>1.38e-09</td>\n",
       "</tr>\n",
       "<tr>\n",
       "  <th>Time:</th>                 <td>14:53:52</td>     <th>  Log-Likelihood:    </th> <td> -296.93</td>\n",
       "</tr>\n",
       "<tr>\n",
       "  <th>No. Observations:</th>      <td>    67</td>      <th>  AIC:               </th> <td>   599.9</td>\n",
       "</tr>\n",
       "<tr>\n",
       "  <th>Df Residuals:</th>          <td>    64</td>      <th>  BIC:               </th> <td>   606.5</td>\n",
       "</tr>\n",
       "<tr>\n",
       "  <th>Df Model:</th>              <td>     2</td>      <th>                     </th>     <td> </td>   \n",
       "</tr>\n",
       "<tr>\n",
       "  <th>Covariance Type:</th>      <td>nonrobust</td>    <th>                     </th>     <td> </td>   \n",
       "</tr>\n",
       "</table>\n",
       "<table class=\"simpletable\">\n",
       "<tr>\n",
       "      <td></td>         <th>coef</th>     <th>std err</th>      <th>t</th>      <th>P>|t|</th>  <th>[0.025</th>    <th>0.975]</th>  \n",
       "</tr>\n",
       "<tr>\n",
       "  <th>Intercept</th> <td>   59.1181</td> <td>   28.365</td> <td>    2.084</td> <td> 0.041</td> <td>    2.452</td> <td>  115.784</td>\n",
       "</tr>\n",
       "<tr>\n",
       "  <th>HS</th>        <td>   -0.5834</td> <td>    0.472</td> <td>   -1.235</td> <td> 0.221</td> <td>   -1.527</td> <td>    0.360</td>\n",
       "</tr>\n",
       "<tr>\n",
       "  <th>Urban</th>     <td>    0.6825</td> <td>    0.123</td> <td>    5.539</td> <td> 0.000</td> <td>    0.436</td> <td>    0.929</td>\n",
       "</tr>\n",
       "</table>\n",
       "<table class=\"simpletable\">\n",
       "<tr>\n",
       "  <th>Omnibus:</th>       <td> 4.652</td> <th>  Durbin-Watson:     </th> <td>   1.848</td>\n",
       "</tr>\n",
       "<tr>\n",
       "  <th>Prob(Omnibus):</th> <td> 0.098</td> <th>  Jarque-Bera (JB):  </th> <td>   4.252</td>\n",
       "</tr>\n",
       "<tr>\n",
       "  <th>Skew:</th>          <td> 0.543</td> <th>  Prob(JB):          </th> <td>   0.119</td>\n",
       "</tr>\n",
       "<tr>\n",
       "  <th>Kurtosis:</th>      <td> 2.414</td> <th>  Cond. No.          </th> <td>    997.</td>\n",
       "</tr>\n",
       "</table><br/><br/>Notes:<br/>[1] Standard Errors assume that the covariance matrix of the errors is correctly specified."
      ],
      "text/latex": [
       "\\begin{center}\n",
       "\\begin{tabular}{lclc}\n",
       "\\toprule\n",
       "\\textbf{Dep. Variable:}    &      Crime       & \\textbf{  R-squared:         } &     0.471   \\\\\n",
       "\\textbf{Model:}            &       OLS        & \\textbf{  Adj. R-squared:    } &     0.455   \\\\\n",
       "\\textbf{Method:}           &  Least Squares   & \\textbf{  F-statistic:       } &     28.54   \\\\\n",
       "\\textbf{Date:}             & Tue, 13 Feb 2024 & \\textbf{  Prob (F-statistic):} &  1.38e-09   \\\\\n",
       "\\textbf{Time:}             &     14:53:52     & \\textbf{  Log-Likelihood:    } &   -296.93   \\\\\n",
       "\\textbf{No. Observations:} &          67      & \\textbf{  AIC:               } &     599.9   \\\\\n",
       "\\textbf{Df Residuals:}     &          64      & \\textbf{  BIC:               } &     606.5   \\\\\n",
       "\\textbf{Df Model:}         &           2      & \\textbf{                     } &             \\\\\n",
       "\\textbf{Covariance Type:}  &    nonrobust     & \\textbf{                     } &             \\\\\n",
       "\\bottomrule\n",
       "\\end{tabular}\n",
       "\\begin{tabular}{lcccccc}\n",
       "                   & \\textbf{coef} & \\textbf{std err} & \\textbf{t} & \\textbf{P$> |$t$|$} & \\textbf{[0.025} & \\textbf{0.975]}  \\\\\n",
       "\\midrule\n",
       "\\textbf{Intercept} &      59.1181  &       28.365     &     2.084  &         0.041        &        2.452    &      115.784     \\\\\n",
       "\\textbf{HS}        &      -0.5834  &        0.472     &    -1.235  &         0.221        &       -1.527    &        0.360     \\\\\n",
       "\\textbf{Urban}     &       0.6825  &        0.123     &     5.539  &         0.000        &        0.436    &        0.929     \\\\\n",
       "\\bottomrule\n",
       "\\end{tabular}\n",
       "\\begin{tabular}{lclc}\n",
       "\\textbf{Omnibus:}       &  4.652 & \\textbf{  Durbin-Watson:     } &    1.848  \\\\\n",
       "\\textbf{Prob(Omnibus):} &  0.098 & \\textbf{  Jarque-Bera (JB):  } &    4.252  \\\\\n",
       "\\textbf{Skew:}          &  0.543 & \\textbf{  Prob(JB):          } &    0.119  \\\\\n",
       "\\textbf{Kurtosis:}      &  2.414 & \\textbf{  Cond. No.          } &     997.  \\\\\n",
       "\\bottomrule\n",
       "\\end{tabular}\n",
       "%\\caption{OLS Regression Results}\n",
       "\\end{center}\n",
       "\n",
       "Notes: \\newline\n",
       " [1] Standard Errors assume that the covariance matrix of the errors is correctly specified."
      ],
      "text/plain": [
       "<class 'statsmodels.iolib.summary.Summary'>\n",
       "\"\"\"\n",
       "                            OLS Regression Results                            \n",
       "==============================================================================\n",
       "Dep. Variable:                  Crime   R-squared:                       0.471\n",
       "Model:                            OLS   Adj. R-squared:                  0.455\n",
       "Method:                 Least Squares   F-statistic:                     28.54\n",
       "Date:                Tue, 13 Feb 2024   Prob (F-statistic):           1.38e-09\n",
       "Time:                        14:53:52   Log-Likelihood:                -296.93\n",
       "No. Observations:                  67   AIC:                             599.9\n",
       "Df Residuals:                      64   BIC:                             606.5\n",
       "Df Model:                           2                                         \n",
       "Covariance Type:            nonrobust                                         \n",
       "==============================================================================\n",
       "                 coef    std err          t      P>|t|      [0.025      0.975]\n",
       "------------------------------------------------------------------------------\n",
       "Intercept     59.1181     28.365      2.084      0.041       2.452     115.784\n",
       "HS            -0.5834      0.472     -1.235      0.221      -1.527       0.360\n",
       "Urban          0.6825      0.123      5.539      0.000       0.436       0.929\n",
       "==============================================================================\n",
       "Omnibus:                        4.652   Durbin-Watson:                   1.848\n",
       "Prob(Omnibus):                  0.098   Jarque-Bera (JB):                4.252\n",
       "Skew:                           0.543   Prob(JB):                        0.119\n",
       "Kurtosis:                       2.414   Cond. No.                         997.\n",
       "==============================================================================\n",
       "\n",
       "Notes:\n",
       "[1] Standard Errors assume that the covariance matrix of the errors is correctly specified.\n",
       "\"\"\""
      ]
     },
     "execution_count": 17,
     "metadata": {},
     "output_type": "execute_result"
    }
   ],
   "source": [
    "# with R-style formulas\n",
    "res = smf.ols(\"Crime ~ HS + Urban\", data = data).fit()\n",
    "res.summary()"
   ]
  },
  {
   "cell_type": "markdown",
   "metadata": {},
   "source": [
    "(b) Using the Florida data file, construct the scatterplot between *x* = education (HS) and *y* = income (Income), for which the correlation is 0.79. If we had data at the individual\n",
    "level as well as aggregated for a county, sketch a scatterplot to show that at that level the correlation could be much weaker. So, predictions about individuals based on the\n",
    "behavior of aggregate groups, known as the *ecological fallacy*, can be quite misleading."
   ]
  },
  {
   "cell_type": "markdown",
   "metadata": {},
   "source": [
    "See code and results below for the scatterplot.\n",
    "\n",
    "The aggregate is calculated as data['Crime'] + data['HS'] + data['Urban']\n",
    "\n",
    "After the analysis we have:\n",
    "- Correlation for Education vs Crime = 0.7926\n",
    "- Correlation for Aggregate vs Crime = 0.6939\n",
    "\n",
    "Thus, we see that the correlation between the aggregate data and income is much weaker compared to the correlation between education and income. "
   ]
  },
  {
   "cell_type": "code",
   "execution_count": 18,
   "metadata": {},
   "outputs": [
    {
     "name": "stdout",
     "output_type": "stream",
     "text": [
      "Correlation for Education vs Crime = 0.4669\n",
      "Correlation for Aggregate vs Crime = 0.8713\n"
     ]
    },
    {
     "data": {
      "text/plain": [
       "Text(0.5, 1.0, 'Scatterplot of Aggregate vs Crime. Correlation = 0.87')"
      ]
     },
     "execution_count": 18,
     "metadata": {},
     "output_type": "execute_result"
    },
    {
     "data": {
      "image/png": "[encoded data removed]",
      "text/plain": [
       "<Figure size 640x480 with 1 Axes>"
      ]
     },
     "metadata": {},
     "output_type": "display_data"
    },
    {
     "data": {
      "image/png": "[encoded data removed]",
      "text/plain": [
       "<Figure size 640x480 with 1 Axes>"
      ]
     },
     "metadata": {},
     "output_type": "display_data"
    }
   ],
   "source": [
    "corr = data['HS'].corr(data['Crime'])\n",
    "print(f\"Correlation for Education vs Crime = {corr:.4f}\")\n",
    "\n",
    "plt.figure()\n",
    "plt.scatter(data['HS'], data['Income'])\n",
    "plt.xlabel('Education')\n",
    "plt.ylabel('Crime')\n",
    "plt.title(f\"Scatterplot of Education vs Crime. Correlation = {corr:.2f}\")\n",
    "\n",
    "data['Aggregate'] = data['Crime'] + data['HS'] + data['Urban']\n",
    "corr_aggregate = data['Aggregate'].corr(data['Crime'])\n",
    "print(f\"Correlation for Aggregate vs Crime = {corr_aggregate:.4f}\")\n",
    "\n",
    "plt.figure()\n",
    "plt.scatter(data['Aggregate'], data['Income'])\n",
    "plt.title(f\"Scatterplot of Aggregate vs Crime. Correlation = {corr_aggregate:.2f}\")\n"
   ]
  },
  {
   "cell_type": "markdown",
   "metadata": {},
   "source": [
    "(c) Refer to (b), in which *x* falls between 54.5 and 84.9. Is it sensible to use the least squares line to predict a county’s median income if *x* = 0? Sketch a hypothetical true relationship between *x* and *E(Y)* to show the danger of *extrapolation*, using a fitted line to predict *E(Y)* far from the observed *x* values."
   ]
  },
  {
   "cell_type": "markdown",
   "metadata": {},
   "source": [
    "No, it is not sensible to use the least squares line for predicting y outside the range used for linear regression.\n",
    "\n",
    "Below, we construct a true relation as y_true = a + b*x^2. Using the data points (54.5, 21.0) and (84.9, 27.3), we solve for a and b. We get a = 16.5843 and b = 0.0015.\n",
    "\n",
    "See below the equations for the linear regression line and the true line.\n",
    "\n",
    "- Predicted y for x = 0 from linear regression line = -4.60\n",
    "- Predicted y for x = 0 from true line = 16.58\n",
    "\n",
    "Thus, the predicted value fron the linear regression line and the true equation are quite differen.\n",
    "\n",
    "The scatter plot, the linear regression line and the line for the true equation are plotted below."
   ]
  },
  {
   "cell_type": "code",
   "execution_count": 19,
   "metadata": {},
   "outputs": [
    {
     "name": "stdout",
     "output_type": "stream",
     "text": [
      "Min Education = 54.5\n",
      "Max Education = 84.9\n",
      "y_pred for x = 0 (linear regression): -4.60\n",
      "x1 = 54.50, x2 = 84.90\n",
      "x1_chk = 54.50, x2_chk = 84.90\n",
      "y1_chk = 21.00, y2_chk = 27.30\n",
      "a = 16.5843, b = 0.0015\n",
      "Equation: y_true (true) = 16.5843 + 0.0015*x\n",
      "y_pred for x = 0: 16.58\n"
     ]
    },
    {
     "name": "stderr",
     "output_type": "stream",
     "text": [
      "/usr/local/lib/python3.11/site-packages/sklearn/base.py:465: UserWarning: X does not have valid feature names, but LinearRegression was fitted with feature names\n",
      "  warnings.warn(\n",
      "/usr/local/lib/python3.11/site-packages/sklearn/base.py:465: UserWarning: X does not have valid feature names, but LinearRegression was fitted with feature names\n",
      "  warnings.warn(\n"
     ]
    },
    {
     "data": {
      "text/plain": [
       "[<matplotlib.lines.Line2D at 0x12da6b5d0>,\n",
       " <matplotlib.lines.Line2D at 0x12d6a2910>]"
      ]
     },
     "execution_count": 19,
     "metadata": {},
     "output_type": "execute_result"
    },
    {
     "data": {
      "image/png": "[encoded data removed]",
      "text/plain": [
       "<Figure size 640x480 with 1 Axes>"
      ]
     },
     "metadata": {},
     "output_type": "display_data"
    }
   ],
   "source": [
    "# min and max edu\n",
    "edu_min = np.min(data['HS'])\n",
    "print(f\"Min Education = {edu_min:.1f}\")\n",
    "edu_max = np.max(data['HS'])\n",
    "print(f\"Max Education = {edu_max:.1f}\")\n",
    "\n",
    "# get X and y\n",
    "X = data[['HS']]\n",
    "y = data['Income']\n",
    "\n",
    "# linear regression\n",
    "model = LinearRegression()\n",
    "model.fit(X,y)\n",
    "\n",
    "# Prediction\n",
    "y_pred = model.predict([[0]])\n",
    "print(f\"y_pred for x = 0 (linear regression): {y_pred[0]:.2f}\")\n",
    "\n",
    "# true equation: y = a + b*x^2\n",
    "x1 = 54.5\n",
    "x2 = 84.9\n",
    "\n",
    "for i in range(0,len(data)):\n",
    "    x = data.iloc[i, 3]\n",
    "    if x == x1:\n",
    "        y1 = data['Income'][i]\n",
    "        i1 = i\n",
    "    if x == x2:\n",
    "        y2 = data['Income'][i]\n",
    "        i2 = i\n",
    "\n",
    "x1_chk = data['HS'][i1]\n",
    "x2_chk = data['HS'][i2]\n",
    "y1_chk = data['Income'][i1]\n",
    "y2_chk = data['Income'][i2]\n",
    "\n",
    "# print x1 and x2\n",
    "print(f\"x1 = {x1:.2f}, x2 = {x2:.2f}\")\n",
    "print(f\"x1_chk = {x1_chk:.2f}, x2_chk = {x2_chk:.2f}\")\n",
    "print(f\"y1_chk = {y1_chk:.2f}, y2_chk = {y2_chk:.2f}\")\n",
    "\n",
    "# solve for a and b\n",
    "b = (y2 - y1) / (x2**2 - x1**2)\n",
    "a = y1 - b * x1**2\n",
    "\n",
    "# print coefficients and equation\n",
    "print(f\"a = {a:.4f}, b = {b:.4f}\")\n",
    "print(f\"Equation: y_true (true) = {a:.4f} + {b:.4f}*x\")\n",
    "\n",
    "# y_pred for x = 0\n",
    "y_pred_x0 = a + b*0**2\n",
    "print(f\"y_pred for x = 0: {y_pred_x0:.2f}\")\n",
    "\n",
    "# scatter plot\n",
    "plt.figure()\n",
    "plt.scatter(data['HS'], data['Income'])\n",
    "\n",
    "# create vectors for the linear regression line and the true equation line\n",
    "xvec = np.array(np.arange(0, 84.9, 0.1)).reshape(-1,1)\n",
    "yvec_pred = model.predict(xvec)\n",
    "yvec_true = a + b*xvec**2\n",
    "\n",
    "# plot the linear regression line and the true equation line\n",
    "plt.plot(xvec, yvec_pred, 'black', xvec, yvec_true, 'red')"
   ]
  },
  {
   "cell_type": "markdown",
   "metadata": {},
   "source": [
    "## Problem 6.10."
   ]
  },
  {
   "cell_type": "markdown",
   "metadata": {},
   "source": [
    "The `Students` data file shows responses on variables summarized in Exercise 1.2."
   ]
  },
  {
   "cell_type": "markdown",
   "metadata": {},
   "source": [
    "(a) Fit the linear model using *hsgpa* = high school GPA, *tv* = weekly hours watching TV, and *sport* = weekly hours participating in sports as predictors of *cogpa* = college GPA. Report the prediction equation. What do the *P*-values suggest?"
   ]
  },
  {
   "cell_type": "markdown",
   "metadata": {},
   "source": [
    "Prediction equation:\n",
    "cogpa_pred = 2.82 + 0.21 x hsgpa + 0.00 x tv - 0.01xsport\n",
    "\n",
    "The p-values are follows:\n",
    "- p-value for constant = 0.0000\n",
    "- p-value for hsgpa = 0.0439\n",
    "- p-value for tv = 0.6291\n",
    "- p-value for sport = 0.2303\n",
    "\n",
    "Since the p-values for the constant and hsgpa are < 0.05, we can reject the null hypothesis that there is sufficient evidence to suggest a relationship between the predictor variables (constant and hsgpa) and the response variable.\n",
    "\n",
    "Since the p-values for the tv and sport are > 0.05, we fail to reject the null hypothesis. Thus there is not sufficient evidence to suggest a relationship between the predictor variables (tv and sport) and the response variable.\n",
    "\n",
    "The summary of the conclusions for rejection/fail-to-reject for null hyothesis are as follows:\n",
    "- Reject null hypothesis for constant\n",
    "- Reject null hypothesis for hsgpa\n",
    "- Fail to reject null hypothesis for tv\n",
    "- Fail to reject null hypothesis for sport"
   ]
  },
  {
   "cell_type": "code",
   "execution_count": 21,
   "metadata": {},
   "outputs": [
    {
     "name": "stdout",
     "output_type": "stream",
     "text": [
      "Prediction equation:\n",
      "cogpa_pred = 2.82 + 0.21*hsgpa + 0.00*tv + -0.01*sport\n",
      "\n",
      "Summary of p-values:\n",
      "const    2.862880e-10\n",
      "hsgpa    4.391478e-02\n",
      "tv       6.290793e-01\n",
      "sport    2.303431e-01\n",
      "dtype: float64\n",
      "Reject null hypothesis for constant\n",
      "Reject null hypothesis for hsgpa\n",
      "Fail to reject null hypothesis for tv\n",
      "Fail to reject null hypothesis for sport\n"
     ]
    }
   ],
   "source": [
    "# import library\n",
    "import statsmodels.api as sm\n",
    "import warnings\n",
    "\n",
    "data = pd.read_csv(\"Students.csv\")\n",
    "\n",
    "# predictor and response\n",
    "X = data[['hsgpa','tv','sport']]\n",
    "y = data['cogpa']\n",
    "\n",
    "# linear regression\n",
    "model = LinearRegression()\n",
    "model.fit(X,y)\n",
    "\n",
    "# Prediction equation\n",
    "print(f\"Prediction equation:\")\n",
    "print(f\"cogpa_pred = {model.intercept_:.2f} + {model.coef_[0]:.2f}*hsgpa + {model.coef_[1]:.2f}*tv + {model.coef_[2]:.2f}*sport\")\n",
    "print(\"\")\n",
    "\n",
    "# Add constant\n",
    "X = sm.add_constant(X)\n",
    "\n",
    "# OLS\n",
    "ols_model = sm.OLS(y, X)\n",
    "\n",
    "# result and p-values\n",
    "results = ols_model.fit()\n",
    "p_values = results.pvalues\n",
    "\n",
    "# print p-values\n",
    "print(\"Summary of p-values:\")\n",
    "print(p_values)\n",
    "\n",
    "with warnings.catch_warnings():\n",
    "    warnings.simplefilter(\"ignore\")\n",
    "    #print(f\"p-value for constant = {p_values[0]:.4f}\")\n",
    "    #print(f\"p-value for hsgpa = {p_values[1]:.4f}\")\n",
    "    #print(f\"p-value for tv = {p_values[2]:.4f}\")\n",
    "    #print(f\"p-value for sport = {p_values[3]:.4f}\")\n",
    "\n",
    "    # draw conclusions\n",
    "    if p_values[0] < 0.05:\n",
    "        print(\"Reject null hypothesis for constant\")\n",
    "    else:\n",
    "        print(\"Fail to reject null hypothesis for constant\")\n",
    "    \n",
    "    if p_values[1] < 0.05:\n",
    "        print(\"Reject null hypothesis for hsgpa\")\n",
    "    else:\n",
    "        print(\"Fail to reject null hypothesis for hsgpa\")\n",
    "    \n",
    "    if p_values[2] < 0.05:\n",
    "        print(\"Reject null hypothesis for tv\")\n",
    "    else:\n",
    "        print(\"Fail to reject null hypothesis for tv\")\n",
    "    \n",
    "    if p_values[3] < 0.05:\n",
    "        print(\"Reject null hypothesis for sport\")\n",
    "    else:\n",
    "        print(\"Fail to reject null hypothesis for sport\")\n",
    "    "
   ]
  },
  {
   "cell_type": "markdown",
   "metadata": {},
   "source": [
    "(b)  Summarize the estimated effect of *hsgpa.*"
   ]
  },
  {
   "cell_type": "markdown",
   "metadata": {},
   "source": [
    "In the prediction equation, the coefficient for hsgpa = 0.21. Thus, hsgpa affects the cogpa to some extent. \n",
    "\n",
    "This is also suggested by the p_value which is 0.0439 and is < 0.05. Thus, we reject the hypothesis and conclude that there is sufficient evidence to support that there is significant evidence of a relationship between hsgpa and cogpa."
   ]
  },
  {
   "cell_type": "markdown",
   "metadata": {},
   "source": [
    "(c) Report and interpret $R^2$, adjusted $R^2$, and the multiple correlation."
   ]
  },
  {
   "cell_type": "markdown",
   "metadata": {},
   "source": [
    "The R-squared value = 0.105\n",
    "\n",
    "The adjusted R-squared value = 0.057\n",
    "\n",
    "An R-squared value of 0.105 indicates that approximately 10.5% of the variance in the dependent variable (cogpa, college GPA) is explained by the independent variables (hsgpa, tv, sport). While the R-squared value provides information about the goodness of fit of the linear regression model, an R-squared value of 0.105 suggests that the model has limited explanatory power and may not be very effective in predicting college GPA based on the given predictors."
   ]
  },
  {
   "cell_type": "code",
   "execution_count": 22,
   "metadata": {},
   "outputs": [
    {
     "data": {
      "text/html": [
       "<table class=\"simpletable\">\n",
       "<caption>OLS Regression Results</caption>\n",
       "<tr>\n",
       "  <th>Dep. Variable:</th>          <td>cogpa</td>      <th>  R-squared:         </th> <td>   0.105</td>\n",
       "</tr>\n",
       "<tr>\n",
       "  <th>Model:</th>                   <td>OLS</td>       <th>  Adj. R-squared:    </th> <td>   0.057</td>\n",
       "</tr>\n",
       "<tr>\n",
       "  <th>Method:</th>             <td>Least Squares</td>  <th>  F-statistic:       </th> <td>   2.179</td>\n",
       "</tr>\n",
       "<tr>\n",
       "  <th>Date:</th>             <td>Tue, 13 Feb 2024</td> <th>  Prob (F-statistic):</th>  <td> 0.101</td> \n",
       "</tr>\n",
       "<tr>\n",
       "  <th>Time:</th>                 <td>14:54:27</td>     <th>  Log-Likelihood:    </th> <td> -18.587</td>\n",
       "</tr>\n",
       "<tr>\n",
       "  <th>No. Observations:</th>      <td>    60</td>      <th>  AIC:               </th> <td>   45.17</td>\n",
       "</tr>\n",
       "<tr>\n",
       "  <th>Df Residuals:</th>          <td>    56</td>      <th>  BIC:               </th> <td>   53.55</td>\n",
       "</tr>\n",
       "<tr>\n",
       "  <th>Df Model:</th>              <td>     3</td>      <th>                     </th>     <td> </td>   \n",
       "</tr>\n",
       "<tr>\n",
       "  <th>Covariance Type:</th>      <td>nonrobust</td>    <th>                     </th>     <td> </td>   \n",
       "</tr>\n",
       "</table>\n",
       "<table class=\"simpletable\">\n",
       "<tr>\n",
       "    <td></td>       <th>coef</th>     <th>std err</th>      <th>t</th>      <th>P>|t|</th>  <th>[0.025</th>    <th>0.975]</th>  \n",
       "</tr>\n",
       "<tr>\n",
       "  <th>const</th> <td>    2.8154</td> <td>    0.368</td> <td>    7.655</td> <td> 0.000</td> <td>    2.079</td> <td>    3.552</td>\n",
       "</tr>\n",
       "<tr>\n",
       "  <th>hsgpa</th> <td>    0.2088</td> <td>    0.101</td> <td>    2.061</td> <td> 0.044</td> <td>    0.006</td> <td>    0.412</td>\n",
       "</tr>\n",
       "<tr>\n",
       "  <th>tv</th>    <td>    0.0033</td> <td>    0.007</td> <td>    0.486</td> <td> 0.629</td> <td>   -0.010</td> <td>    0.017</td>\n",
       "</tr>\n",
       "<tr>\n",
       "  <th>sport</th> <td>   -0.0141</td> <td>    0.012</td> <td>   -1.213</td> <td> 0.230</td> <td>   -0.037</td> <td>    0.009</td>\n",
       "</tr>\n",
       "</table>\n",
       "<table class=\"simpletable\">\n",
       "<tr>\n",
       "  <th>Omnibus:</th>       <td> 3.507</td> <th>  Durbin-Watson:     </th> <td>   1.600</td>\n",
       "</tr>\n",
       "<tr>\n",
       "  <th>Prob(Omnibus):</th> <td> 0.173</td> <th>  Jarque-Bera (JB):  </th> <td>   1.919</td>\n",
       "</tr>\n",
       "<tr>\n",
       "  <th>Skew:</th>          <td>-0.148</td> <th>  Prob(JB):          </th> <td>   0.383</td>\n",
       "</tr>\n",
       "<tr>\n",
       "  <th>Kurtosis:</th>      <td> 2.175</td> <th>  Cond. No.          </th> <td>    97.6</td>\n",
       "</tr>\n",
       "</table><br/><br/>Notes:<br/>[1] Standard Errors assume that the covariance matrix of the errors is correctly specified."
      ],
      "text/latex": [
       "\\begin{center}\n",
       "\\begin{tabular}{lclc}\n",
       "\\toprule\n",
       "\\textbf{Dep. Variable:}    &      cogpa       & \\textbf{  R-squared:         } &     0.105   \\\\\n",
       "\\textbf{Model:}            &       OLS        & \\textbf{  Adj. R-squared:    } &     0.057   \\\\\n",
       "\\textbf{Method:}           &  Least Squares   & \\textbf{  F-statistic:       } &     2.179   \\\\\n",
       "\\textbf{Date:}             & Tue, 13 Feb 2024 & \\textbf{  Prob (F-statistic):} &    0.101    \\\\\n",
       "\\textbf{Time:}             &     14:54:27     & \\textbf{  Log-Likelihood:    } &   -18.587   \\\\\n",
       "\\textbf{No. Observations:} &          60      & \\textbf{  AIC:               } &     45.17   \\\\\n",
       "\\textbf{Df Residuals:}     &          56      & \\textbf{  BIC:               } &     53.55   \\\\\n",
       "\\textbf{Df Model:}         &           3      & \\textbf{                     } &             \\\\\n",
       "\\textbf{Covariance Type:}  &    nonrobust     & \\textbf{                     } &             \\\\\n",
       "\\bottomrule\n",
       "\\end{tabular}\n",
       "\\begin{tabular}{lcccccc}\n",
       "               & \\textbf{coef} & \\textbf{std err} & \\textbf{t} & \\textbf{P$> |$t$|$} & \\textbf{[0.025} & \\textbf{0.975]}  \\\\\n",
       "\\midrule\n",
       "\\textbf{const} &       2.8154  &        0.368     &     7.655  &         0.000        &        2.079    &        3.552     \\\\\n",
       "\\textbf{hsgpa} &       0.2088  &        0.101     &     2.061  &         0.044        &        0.006    &        0.412     \\\\\n",
       "\\textbf{tv}    &       0.0033  &        0.007     &     0.486  &         0.629        &       -0.010    &        0.017     \\\\\n",
       "\\textbf{sport} &      -0.0141  &        0.012     &    -1.213  &         0.230        &       -0.037    &        0.009     \\\\\n",
       "\\bottomrule\n",
       "\\end{tabular}\n",
       "\\begin{tabular}{lclc}\n",
       "\\textbf{Omnibus:}       &  3.507 & \\textbf{  Durbin-Watson:     } &    1.600  \\\\\n",
       "\\textbf{Prob(Omnibus):} &  0.173 & \\textbf{  Jarque-Bera (JB):  } &    1.919  \\\\\n",
       "\\textbf{Skew:}          & -0.148 & \\textbf{  Prob(JB):          } &    0.383  \\\\\n",
       "\\textbf{Kurtosis:}      &  2.175 & \\textbf{  Cond. No.          } &     97.6  \\\\\n",
       "\\bottomrule\n",
       "\\end{tabular}\n",
       "%\\caption{OLS Regression Results}\n",
       "\\end{center}\n",
       "\n",
       "Notes: \\newline\n",
       " [1] Standard Errors assume that the covariance matrix of the errors is correctly specified."
      ],
      "text/plain": [
       "<class 'statsmodels.iolib.summary.Summary'>\n",
       "\"\"\"\n",
       "                            OLS Regression Results                            \n",
       "==============================================================================\n",
       "Dep. Variable:                  cogpa   R-squared:                       0.105\n",
       "Model:                            OLS   Adj. R-squared:                  0.057\n",
       "Method:                 Least Squares   F-statistic:                     2.179\n",
       "Date:                Tue, 13 Feb 2024   Prob (F-statistic):              0.101\n",
       "Time:                        14:54:27   Log-Likelihood:                -18.587\n",
       "No. Observations:                  60   AIC:                             45.17\n",
       "Df Residuals:                      56   BIC:                             53.55\n",
       "Df Model:                           3                                         \n",
       "Covariance Type:            nonrobust                                         \n",
       "==============================================================================\n",
       "                 coef    std err          t      P>|t|      [0.025      0.975]\n",
       "------------------------------------------------------------------------------\n",
       "const          2.8154      0.368      7.655      0.000       2.079       3.552\n",
       "hsgpa          0.2088      0.101      2.061      0.044       0.006       0.412\n",
       "tv             0.0033      0.007      0.486      0.629      -0.010       0.017\n",
       "sport         -0.0141      0.012     -1.213      0.230      -0.037       0.009\n",
       "==============================================================================\n",
       "Omnibus:                        3.507   Durbin-Watson:                   1.600\n",
       "Prob(Omnibus):                  0.173   Jarque-Bera (JB):                1.919\n",
       "Skew:                          -0.148   Prob(JB):                        0.383\n",
       "Kurtosis:                       2.175   Cond. No.                         97.6\n",
       "==============================================================================\n",
       "\n",
       "Notes:\n",
       "[1] Standard Errors assume that the covariance matrix of the errors is correctly specified.\n",
       "\"\"\""
      ]
     },
     "execution_count": 22,
     "metadata": {},
     "output_type": "execute_result"
    }
   ],
   "source": [
    "results.summary()"
   ]
  },
  {
   "cell_type": "markdown",
   "metadata": {},
   "source": [
    "## Problem 6.11."
   ]
  },
  {
   "cell_type": "markdown",
   "metadata": {},
   "source": [
    "Refer to the model fitted in the previous exercise to predict college GPA."
   ]
  },
  {
   "cell_type": "markdown",
   "metadata": {},
   "source": [
    "(a) Test $H_0:\\beta_1 = \\beta_2 = \\beta_3 =0.$ Report the *P*-value and interpret.\n"
   ]
  },
  {
   "cell_type": "markdown",
   "metadata": {},
   "source": [
    "If the coefficient are all zero, then the p-value is 1.0. Thus, we reject the hypothesis that there is sufficient evidence to suggest that there is a significant evidence of a relationship between the predictor variables (hsgpa, tv, sport) and the response variable (cogpa)."
   ]
  },
  {
   "cell_type": "markdown",
   "metadata": {},
   "source": [
    "(b) Show how to conduct a significance test about the individual effect of hsgpa, adjusting for tv and sport, using $\\alpha = 0.05$. Interpret."
   ]
  },
  {
   "cell_type": "markdown",
   "metadata": {},
   "source": [
    "See code and results below."
   ]
  },
  {
   "cell_type": "code",
   "execution_count": 24,
   "metadata": {},
   "outputs": [
    {
     "name": "stdout",
     "output_type": "stream",
     "text": [
      "p-value for hsgpa: 0.0439\n",
      "\n",
      "Reject the null hypothesis. There is sufficient evidence of effect of hsgpa on cogpa\n"
     ]
    }
   ],
   "source": [
    "# predictors\n",
    "X = data[['hsgpa','tv','sport']]\n",
    "y = data['cogpa']\n",
    "\n",
    "X = sm.add_constant(X)\n",
    "\n",
    "# regression\n",
    "ols_model = sm.OLS(y, X)\n",
    "results = ols_model.fit()\n",
    "\n",
    "# significance level\n",
    "alpha = 0.05\n",
    "\n",
    "with warnings.catch_warnings():\n",
    "    warnings.simplefilter(\"ignore\")\n",
    "    \n",
    "    # p-value for hsgpa\n",
    "    p_value_hsgpa = results.pvalues[1]\n",
    "    print(f\"p-value for hsgpa: {p_value_hsgpa:.4f}\")\n",
    "    print(\"\")\n",
    "\n",
    "    if p_value_hsgpa < alpha:\n",
    "        print(\"Reject the null hypothesis. There is sufficient evidence of effect of hsgpa on cogpa\")\n",
    "    else:\n",
    "        print(\"Fail to reject the null hypothesis. There is insufficient evidence of effect of hsgpa on cogpa\")\n"
   ]
  },
  {
   "cell_type": "markdown",
   "metadata": {},
   "source": [
    "(c)  Is the effect in (b) significant at the $\\alpha = 0.05$ level if we use the Bonferroni approach to test the family of three individual effects? Explain."
   ]
  },
  {
   "cell_type": "markdown",
   "metadata": {},
   "source": [
    "See code and results below.\n",
    "\n",
    "Here, since we are interested in the effect of the three predictor variables only, we don't add the constant for X.\n",
    "\n",
    "The p-value for hsgpa:\n",
    "- p_value_hsgpa = 0.0000\n",
    "\n",
    "Here is our conclusion if we use the Bonferroni approach:\n",
    "- Significant effect of hsgpa at the alpha = 0.05, alpha_bonferroni = 0.0167 level\n",
    "\n",
    "This is because the p-values is less than 0.0167 for hsgpa."
   ]
  },
  {
   "cell_type": "code",
   "execution_count": 25,
   "metadata": {},
   "outputs": [
    {
     "name": "stdout",
     "output_type": "stream",
     "text": [
      "p_value_hsgpa = 0.0000\n",
      "p_value_tv = 0.0138\n",
      "p_value_sport = 0.4448\n",
      "Significant effect of hsgpa at the alpha = 0.05, alpha_bonferroni = 0.0167 level\n",
      "Significant effect of tv at the alpha = 0.05, alpha_bonferroni = 0.0167 level\n",
      "Not significant effect of sport at the alpha = 0.05, alpha_bonferroni = 0.0167 level\n"
     ]
    }
   ],
   "source": [
    "# predictors\n",
    "X = data[['hsgpa','tv','sport']]\n",
    "y = data['cogpa']\n",
    "\n",
    "#X = sm.add_constant(X)\n",
    "\n",
    "# regression\n",
    "ols_model = sm.OLS(y, X)\n",
    "results = ols_model.fit()\n",
    "\n",
    "# significance level\n",
    "alpha = 0.05\n",
    "alpha_bon = alpha / 3\n",
    "\n",
    "with warnings.catch_warnings():\n",
    "    warnings.simplefilter(\"ignore\")\n",
    "    \n",
    "    # p-values excluding intercept\n",
    "    p_value_hsgpa = results.pvalues[0]\n",
    "    p_value_tv = results.pvalues[1]\n",
    "    p_value_sport = results.pvalues[2]\n",
    "\n",
    "    print(f\"p_value_hsgpa = {p_value_hsgpa:.4f}\")\n",
    "    print(f\"p_value_tv = {p_value_tv:.4f}\")\n",
    "    print(f\"p_value_sport = {p_value_sport:.4f}\")\n",
    "    \n",
    "    if p_value_hsgpa <= alpha_bon:\n",
    "        print(f\"Significant effect of hsgpa at the alpha = 0.05, alpha_bonferroni = {alpha_bon:.4f} level\")\n",
    "    else:\n",
    "        print(f\"Not significant effect of hsgpa at the alpha = 0.05, alpha_bonferroni = {alpha_bon:.4f} level\")\n",
    "\n",
    "    if p_value_tv <= alpha_bon:\n",
    "        print(f\"Significant effect of tv at the alpha = 0.05, alpha_bonferroni = {alpha_bon:.4f} level\")\n",
    "    else:\n",
    "        print(f\"Not significant effect of tv at the alpha = 0.05, alpha_bonferroni = {alpha_bon:.4f} level\")\n",
    "\n",
    "    if p_value_sport <= alpha_bon:\n",
    "        print(f\"Significant effect of sport at the alpha = 0.05, alpha_bonferroni = {alpha_bon:.4f} level\")\n",
    "    else:\n",
    "        print(f\"Not significant effect of sport at the alpha = 0.05, alpha_bonferroni = {alpha_bon:.4f} level\")"
   ]
  },
  {
   "cell_type": "markdown",
   "metadata": {},
   "source": [
    "(d) Are the effects of *tv* and *sport* significant? Propose an alternative model."
   ]
  },
  {
   "cell_type": "markdown",
   "metadata": {},
   "source": [
    "The p-values are:\n",
    "- p_value_tv = 0.0138\n",
    "- p_value_sport = 0.4448\n",
    "\n",
    "Here is our conclusion if we use the Bonferroni approach:\n",
    "- Significant effect of tv at the alpha = 0.05, alpha_bonferroni = 0.0167 level\n",
    "- Not significant effect of sport at the alpha = 0.05, alpha_bonferroni = 0.0167 level\n",
    "\n",
    "This is because the p-value is less than 0.0167 for tv, and is greater than 0.0167 for sport."
   ]
  },
  {
   "cell_type": "code",
   "execution_count": 26,
   "metadata": {},
   "outputs": [
    {
     "name": "stdout",
     "output_type": "stream",
     "text": [
      "p_value_tv = 0.0138\n",
      "p_value_sport = 0.4448\n",
      "Significant effect of tv at the alpha = 0.05, alpha_bonferroni = 0.0167 level\n",
      "Not significant effect of sport at the alpha = 0.05, alpha_bonferroni = 0.0167 level\n"
     ]
    }
   ],
   "source": [
    "with warnings.catch_warnings():\n",
    "    warnings.simplefilter(\"ignore\")\n",
    "    \n",
    "    # p-values excluding intercept\n",
    "    p_value_hsgpa = results.pvalues[0]\n",
    "    p_value_tv = results.pvalues[1]\n",
    "    p_value_sport = results.pvalues[2]\n",
    "\n",
    "    # print results\n",
    "    print(f\"p_value_tv = {p_value_tv:.4f}\")\n",
    "    print(f\"p_value_sport = {p_value_sport:.4f}\")\n",
    "\n",
    "    # draw conclusion\n",
    "    if p_value_tv <= alpha_bon:\n",
    "        print(f\"Significant effect of tv at the alpha = 0.05, alpha_bonferroni = {alpha_bon:.4f} level\")\n",
    "    else:\n",
    "        print(f\"Not significant effect of tv at the alpha = 0.05, alpha_bonferroni = {alpha_bon:.4f} level\")\n",
    "\n",
    "    if p_value_sport <= alpha_bon:\n",
    "        print(f\"Significant effect of sport at the alpha = 0.05, alpha_bonferroni = {alpha_bon:.4f} level\")\n",
    "    else:\n",
    "        print(f\"Not significant effect of sport at the alpha = 0.05, alpha_bonferroni = {alpha_bon:.4f} level\")"
   ]
  },
  {
   "cell_type": "markdown",
   "metadata": {},
   "source": [
    "## Problem 6.12."
   ]
  },
  {
   "cell_type": "markdown",
   "metadata": {},
   "source": [
    "For the `UN` data file at the book’s website (see Exercise 1.24), construct a multiple regression model predicting Internet using all the other variables. Use the concept of multicollinearity to explain why adjusted $R^2$ is not dramatically greater than when GDP is the sole predictor. Compare the estimated GDP effect in the bivariate model and the multiple regression model and explain why it is so much weaker in the multiple regression model."
   ]
  },
  {
   "cell_type": "markdown",
   "metadata": {},
   "source": [
    "The Nation data is categorical. When I do one-hot-encoding for that, the adjusted R-squared is coming out to be nan. This is because the calculations encountered a large condition number.\n",
    "\n",
    "So, for further analysis, I dropped the Nation column.\n",
    "\n",
    "The adjusted R-squared with only GDP column is slightly lower than if we use all columns. This is due to the fact that all the other predictor variables are highly correlated with GDP and they are not providing additional information.\n",
    "\n",
    "The OLS results summary shows that the coefficients for HDI and GII is much greater than that of GDP (even considering a scale factor of 10 between HDO, GII vs GDP). However, it is not the case when only GDP is used. The coefficients for the two cases are:\n",
    "- GDP coefficient with all columns = 0.4066\n",
    "- HDI coefficient with all columns = 68.79\n",
    "- GII coefficient with all columsn = -68.38\n",
    "- GDP coefficient with only GDP column = 2.1455.\n",
    "  \n",
    "This is because the HDI and GDII are highly correlated with the response variable \"Internet\" (coefficients are 68.79 and -68.38), whereas the correlation between GDP and Internet are comparatively not that strong (0.4066). This can be also concluded from the standard error which shows that the value for the case of using all columns is greater than when using just GDP.\n"
   ]
  },
  {
   "cell_type": "code",
   "execution_count": 27,
   "metadata": {},
   "outputs": [
    {
     "data": {
      "text/html": [
       "<div>\n",
       "<style scoped>\n",
       "    .dataframe tbody tr th:only-of-type {\n",
       "        vertical-align: middle;\n",
       "    }\n",
       "\n",
       "    .dataframe tbody tr th {\n",
       "        vertical-align: top;\n",
       "    }\n",
       "\n",
       "    .dataframe thead th {\n",
       "        text-align: right;\n",
       "    }\n",
       "</style>\n",
       "<table border=\"1\" class=\"dataframe\">\n",
       "  <thead>\n",
       "    <tr style=\"text-align: right;\">\n",
       "      <th></th>\n",
       "      <th>Nation</th>\n",
       "      <th>GDP</th>\n",
       "      <th>HDI</th>\n",
       "      <th>GII</th>\n",
       "      <th>Fertility</th>\n",
       "      <th>CO2</th>\n",
       "      <th>Homicide</th>\n",
       "      <th>Prison</th>\n",
       "      <th>Internet</th>\n",
       "    </tr>\n",
       "  </thead>\n",
       "  <tbody>\n",
       "    <tr>\n",
       "      <th>0</th>\n",
       "      <td>Algeria</td>\n",
       "      <td>12.8</td>\n",
       "      <td>0.72</td>\n",
       "      <td>0.42</td>\n",
       "      <td>2.8</td>\n",
       "      <td>3.2</td>\n",
       "      <td>0.8</td>\n",
       "      <td>162</td>\n",
       "      <td>17</td>\n",
       "    </tr>\n",
       "    <tr>\n",
       "      <th>1</th>\n",
       "      <td>Argentina</td>\n",
       "      <td>14.7</td>\n",
       "      <td>0.81</td>\n",
       "      <td>0.38</td>\n",
       "      <td>2.2</td>\n",
       "      <td>4.7</td>\n",
       "      <td>5.5</td>\n",
       "      <td>147</td>\n",
       "      <td>60</td>\n",
       "    </tr>\n",
       "    <tr>\n",
       "      <th>2</th>\n",
       "      <td>Australia</td>\n",
       "      <td>42.3</td>\n",
       "      <td>0.93</td>\n",
       "      <td>0.11</td>\n",
       "      <td>1.9</td>\n",
       "      <td>16.5</td>\n",
       "      <td>1.1</td>\n",
       "      <td>130</td>\n",
       "      <td>83</td>\n",
       "    </tr>\n",
       "    <tr>\n",
       "      <th>3</th>\n",
       "      <td>Austria</td>\n",
       "      <td>43.1</td>\n",
       "      <td>0.88</td>\n",
       "      <td>0.06</td>\n",
       "      <td>1.4</td>\n",
       "      <td>7.8</td>\n",
       "      <td>0.8</td>\n",
       "      <td>98</td>\n",
       "      <td>81</td>\n",
       "    </tr>\n",
       "    <tr>\n",
       "      <th>4</th>\n",
       "      <td>Belgium</td>\n",
       "      <td>39.5</td>\n",
       "      <td>0.88</td>\n",
       "      <td>0.07</td>\n",
       "      <td>1.8</td>\n",
       "      <td>8.8</td>\n",
       "      <td>1.8</td>\n",
       "      <td>108</td>\n",
       "      <td>82</td>\n",
       "    </tr>\n",
       "  </tbody>\n",
       "</table>\n",
       "</div>"
      ],
      "text/plain": [
       "      Nation   GDP   HDI   GII  Fertility   CO2  Homicide  Prison  Internet\n",
       "0    Algeria  12.8  0.72  0.42        2.8   3.2       0.8     162        17\n",
       "1  Argentina  14.7  0.81  0.38        2.2   4.7       5.5     147        60\n",
       "2  Australia  42.3  0.93  0.11        1.9  16.5       1.1     130        83\n",
       "3    Austria  43.1  0.88  0.06        1.4   7.8       0.8      98        81\n",
       "4    Belgium  39.5  0.88  0.07        1.8   8.8       1.8     108        82"
      ]
     },
     "execution_count": 27,
     "metadata": {},
     "output_type": "execute_result"
    }
   ],
   "source": [
    "# read data\n",
    "df = pd.read_csv(\"UN.dat\", delimiter=r\"\\s+\")\n",
    "df.head()"
   ]
  },
  {
   "cell_type": "code",
   "execution_count": 28,
   "metadata": {},
   "outputs": [
    {
     "name": "stdout",
     "output_type": "stream",
     "text": [
      "                                 OLS Regression Results                                \n",
      "=======================================================================================\n",
      "Dep. Variable:               Internet   R-squared (uncentered):                   0.981\n",
      "Model:                            OLS   Adj. R-squared (uncentered):              0.977\n",
      "Method:                 Least Squares   F-statistic:                              254.3\n",
      "Date:                Tue, 13 Feb 2024   Prob (F-statistic):                    4.55e-28\n",
      "Time:                        14:54:56   Log-Likelihood:                         -154.09\n",
      "No. Observations:                  42   AIC:                                      322.2\n",
      "Df Residuals:                      35   BIC:                                      334.3\n",
      "Df Model:                           7                                                  \n",
      "Covariance Type:            nonrobust                                                  \n",
      "==============================================================================\n",
      "                 coef    std err          t      P>|t|      [0.025      0.975]\n",
      "------------------------------------------------------------------------------\n",
      "GDP            0.4066      0.262      1.554      0.129      -0.125       0.938\n",
      "HDI           68.7924     12.255      5.613      0.000      43.913      93.672\n",
      "GII          -68.3840     20.786     -3.290      0.002    -110.582     -26.185\n",
      "Fertility      4.5305      2.625      1.726      0.093      -0.799       9.860\n",
      "CO2            0.3026      0.646      0.469      0.642      -1.008       1.613\n",
      "Homicide       0.3804      0.296      1.287      0.207      -0.220       0.981\n",
      "Prison         0.0079      0.018      0.447      0.658      -0.028       0.044\n",
      "==============================================================================\n",
      "Omnibus:                        1.718   Durbin-Watson:                   1.801\n",
      "Prob(Omnibus):                  0.424   Jarque-Bera (JB):                0.824\n",
      "Skew:                           0.050   Prob(JB):                        0.662\n",
      "Kurtosis:                       3.679   Cond. No.                     2.75e+03\n",
      "==============================================================================\n",
      "\n",
      "Notes:\n",
      "[1] R² is computed without centering (uncentered) since the model does not contain a constant.\n",
      "[2] Standard Errors assume that the covariance matrix of the errors is correctly specified.\n",
      "[3] The condition number is large, 2.75e+03. This might indicate that there are\n",
      "strong multicollinearity or other numerical problems.\n",
      "\n",
      "Adjusted R-squared with all columns = 0.9769\n",
      "                                 OLS Regression Results                                \n",
      "=======================================================================================\n",
      "Dep. Variable:               Internet   R-squared (uncentered):                   0.936\n",
      "Model:                            OLS   Adj. R-squared (uncentered):              0.934\n",
      "Method:                 Least Squares   F-statistic:                              594.8\n",
      "Date:                Tue, 13 Feb 2024   Prob (F-statistic):                    5.02e-26\n",
      "Time:                        14:54:56   Log-Likelihood:                         -179.44\n",
      "No. Observations:                  42   AIC:                                      360.9\n",
      "Df Residuals:                      41   BIC:                                      362.6\n",
      "Df Model:                           1                                                  \n",
      "Covariance Type:            nonrobust                                                  \n",
      "==============================================================================\n",
      "                 coef    std err          t      P>|t|      [0.025      0.975]\n",
      "------------------------------------------------------------------------------\n",
      "GDP            2.1445      0.088     24.388      0.000       1.967       2.322\n",
      "==============================================================================\n",
      "Omnibus:                        2.611   Durbin-Watson:                   1.865\n",
      "Prob(Omnibus):                  0.271   Jarque-Bera (JB):                1.614\n",
      "Skew:                          -0.434   Prob(JB):                        0.446\n",
      "Kurtosis:                       3.411   Cond. No.                         1.00\n",
      "==============================================================================\n",
      "\n",
      "Notes:\n",
      "[1] R² is computed without centering (uncentered) since the model does not contain a constant.\n",
      "[2] Standard Errors assume that the covariance matrix of the errors is correctly specified.\n",
      "\n",
      "Adjusted R-squared with GDP = 0.9339\n"
     ]
    }
   ],
   "source": [
    "\"\"\"\n",
    "# Initialize OneHotEncoder\n",
    "encoder = OneHotEncoder()\n",
    "\n",
    "# Fit and transform the data\n",
    "encoded_data = encoder.fit_transform(df[[\"Nation\"]])\n",
    "\n",
    "# Convert the encoded data to DataFrame\n",
    "encoded_df = pd.DataFrame(encoded_data.toarray(), columns=encoder.get_feature_names_out([\"Nation\"]))\n",
    "\n",
    "# Concatenate the original DataFrame with the encoded DataFrame\n",
    "df_encoded = pd.concat([df, encoded_df], axis=1)\n",
    "\n",
    "# Get X and y data for linear regression\n",
    "X = df_encoded.drop(columns=[\"Nation\",\"Internet\"])\n",
    "y = df_encoded[\"Internet\"]\n",
    "\n",
    "ols_model = sm.OLS(y, X)\n",
    "results = ols_model.fit()\n",
    "\n",
    "print(results.summary())\n",
    "\"\"\"\n",
    "\n",
    "# get X and y data\n",
    "data = df.drop(columns=\"Nation\")\n",
    "X = data.drop(columns=\"Internet\")\n",
    "y = data[\"Internet\"]\n",
    "\n",
    "# Do linear regression\n",
    "ols_model = sm.OLS(y, X)\n",
    "results = ols_model.fit()\n",
    "\n",
    "# Print result summary\n",
    "print(results.summary())\n",
    "\n",
    "# adjusted R-squared\n",
    "adj_R_squared = results.rsquared_adj\n",
    "print(f\"\\nAdjusted R-squared with all columns = {adj_R_squared:.4f}\")\n",
    "\n",
    "X2 = df[\"GDP\"]\n",
    "y2 = df[\"Internet\"]\n",
    "\n",
    "# Do linear regression\n",
    "ols_model2 = sm.OLS(y2, X2)\n",
    "results2 = ols_model2.fit()\n",
    "\n",
    "# Print result summary\n",
    "print(results2.summary())\n",
    "\n",
    "adj_R_squared2 = results2.rsquared_adj\n",
    "print(f\"\\nAdjusted R-squared with GDP = {adj_R_squared2:.4f}\")\n"
   ]
  },
  {
   "cell_type": "markdown",
   "metadata": {},
   "source": [
    "## Problem 7.1."
   ]
  },
  {
   "cell_type": "markdown",
   "metadata": {},
   "source": [
    "For the `Houses` data file described in Section 7.1.3, consider $Y$ = selling price, $x_1$ = tax bill (in dollars), and $x_2$ = whether the house is new."
   ]
  },
  {
   "cell_type": "markdown",
   "metadata": {},
   "source": [
    "(a) Form the scatterplot of $y$ and $x_1$. Does the normal GLM structure of constant variability in $y$ seem approproate? If not, how does it seem to be violated?"
   ]
  },
  {
   "cell_type": "markdown",
   "metadata": {},
   "source": [
    "From the scatterplot we observe that the variability in y w.r.t. x1 is systematically increasing. Thus, the assumption of constant variability for GLM is not appropriate."
   ]
  },
  {
   "cell_type": "code",
   "execution_count": 29,
   "metadata": {},
   "outputs": [
    {
     "data": {
      "text/html": [
       "<div>\n",
       "<style scoped>\n",
       "    .dataframe tbody tr th:only-of-type {\n",
       "        vertical-align: middle;\n",
       "    }\n",
       "\n",
       "    .dataframe tbody tr th {\n",
       "        vertical-align: top;\n",
       "    }\n",
       "\n",
       "    .dataframe thead th {\n",
       "        text-align: right;\n",
       "    }\n",
       "</style>\n",
       "<table border=\"1\" class=\"dataframe\">\n",
       "  <thead>\n",
       "    <tr style=\"text-align: right;\">\n",
       "      <th></th>\n",
       "      <th>case</th>\n",
       "      <th>price</th>\n",
       "      <th>size</th>\n",
       "      <th>new</th>\n",
       "      <th>taxes</th>\n",
       "      <th>bedrooms</th>\n",
       "      <th>baths</th>\n",
       "    </tr>\n",
       "  </thead>\n",
       "  <tbody>\n",
       "    <tr>\n",
       "      <th>0</th>\n",
       "      <td>1</td>\n",
       "      <td>419.85</td>\n",
       "      <td>2048</td>\n",
       "      <td>0</td>\n",
       "      <td>3104</td>\n",
       "      <td>4</td>\n",
       "      <td>2</td>\n",
       "    </tr>\n",
       "    <tr>\n",
       "      <th>1</th>\n",
       "      <td>2</td>\n",
       "      <td>219.75</td>\n",
       "      <td>912</td>\n",
       "      <td>0</td>\n",
       "      <td>1173</td>\n",
       "      <td>2</td>\n",
       "      <td>1</td>\n",
       "    </tr>\n",
       "    <tr>\n",
       "      <th>2</th>\n",
       "      <td>3</td>\n",
       "      <td>356.55</td>\n",
       "      <td>1654</td>\n",
       "      <td>0</td>\n",
       "      <td>3076</td>\n",
       "      <td>4</td>\n",
       "      <td>2</td>\n",
       "    </tr>\n",
       "    <tr>\n",
       "      <th>3</th>\n",
       "      <td>4</td>\n",
       "      <td>300.00</td>\n",
       "      <td>2068</td>\n",
       "      <td>0</td>\n",
       "      <td>1608</td>\n",
       "      <td>3</td>\n",
       "      <td>2</td>\n",
       "    </tr>\n",
       "    <tr>\n",
       "      <th>4</th>\n",
       "      <td>5</td>\n",
       "      <td>239.85</td>\n",
       "      <td>1477</td>\n",
       "      <td>0</td>\n",
       "      <td>1454</td>\n",
       "      <td>3</td>\n",
       "      <td>3</td>\n",
       "    </tr>\n",
       "  </tbody>\n",
       "</table>\n",
       "</div>"
      ],
      "text/plain": [
       "   case   price  size  new  taxes  bedrooms  baths\n",
       "0     1  419.85  2048    0   3104         4      2\n",
       "1     2  219.75   912    0   1173         2      1\n",
       "2     3  356.55  1654    0   3076         4      2\n",
       "3     4  300.00  2068    0   1608         3      2\n",
       "4     5  239.85  1477    0   1454         3      3"
      ]
     },
     "execution_count": 29,
     "metadata": {},
     "output_type": "execute_result"
    }
   ],
   "source": [
    "# read data\n",
    "df = pd.read_csv(\"Houses.dat\", delimiter=r\"\\s+\")\n",
    "df.head()"
   ]
  },
  {
   "cell_type": "code",
   "execution_count": 30,
   "metadata": {},
   "outputs": [
    {
     "data": {
      "text/plain": [
       "<matplotlib.collections.PathCollection at 0x12fbebfd0>"
      ]
     },
     "execution_count": 30,
     "metadata": {},
     "output_type": "execute_result"
    },
    {
     "data": {
      "image/png": "[encoded data removed]",
      "text/plain": [
       "<Figure size 640x480 with 1 Axes>"
      ]
     },
     "metadata": {},
     "output_type": "display_data"
    }
   ],
   "source": [
    "# get x1 and y\n",
    "x1 = df[\"taxes\"]\n",
    "y = df[\"price\"]\n",
    "\n",
    "# plot\n",
    "plt.figure()\n",
    "plt.scatter(x1, y, color=\"blue\")"
   ]
  },
  {
   "cell_type": "markdown",
   "metadata": {},
   "source": [
    "(b) Using the identity link function, fit the (i) normal GLM, (ii) gamma GLM. For each model, interpret the effect of $x_2$."
   ]
  },
  {
   "cell_type": "markdown",
   "metadata": {},
   "source": [
    "See code and results below for the two GLMs.\n",
    "\n",
    "The coefficients for \"new\" (x2) are as follows:\n",
    "- normal GLM: 86.2001\n",
    "- gamma GLM: -0.0010\n",
    "\n",
    "Thus, we can conclude that in the normal GLM, there is some correlation between \"new\" and \"price\". Whereas the correlation is almost zero for the gamma GLM model."
   ]
  },
  {
   "cell_type": "code",
   "execution_count": 31,
   "metadata": {},
   "outputs": [
    {
     "name": "stdout",
     "output_type": "stream",
     "text": [
      "Normal GLM:\n",
      "                 Generalized Linear Model Regression Results                  \n",
      "==============================================================================\n",
      "Dep. Variable:                  price   No. Observations:                  100\n",
      "Model:                            GLM   Df Residuals:                       97\n",
      "Model Family:                Gaussian   Df Model:                            2\n",
      "Link Function:               Identity   Scale:                          6212.7\n",
      "Method:                          IRLS   Log-Likelihood:                -577.09\n",
      "Date:                Tue, 13 Feb 2024   Deviance:                   6.0264e+05\n",
      "Time:                        14:55:04   Pearson chi2:                 6.03e+05\n",
      "No. Iterations:                     3   Pseudo R-squ. (CS):             0.9333\n",
      "Covariance Type:            nonrobust                                         \n",
      "==============================================================================\n",
      "                 coef    std err          z      P>|z|      [0.025      0.975]\n",
      "------------------------------------------------------------------------------\n",
      "Intercept     41.9651     14.695      2.856      0.004      13.163      70.767\n",
      "taxes          0.0951      0.007     13.722      0.000       0.082       0.109\n",
      "new           86.2001     27.245      3.164      0.002      32.801     139.599\n",
      "==============================================================================\n",
      "\n",
      "Gamma GLM:\n",
      "                 Generalized Linear Model Regression Results                  \n",
      "==============================================================================\n",
      "Dep. Variable:                  price   No. Observations:                  100\n",
      "Model:                            GLM   Df Residuals:                       97\n",
      "Model Family:                   Gamma   Df Model:                            2\n",
      "Link Function:           InversePower   Scale:                         0.11332\n",
      "Method:                          IRLS   Log-Likelihood:                -566.44\n",
      "Date:                Tue, 13 Feb 2024   Deviance:                       12.090\n",
      "Time:                        14:55:04   Pearson chi2:                     11.0\n",
      "No. Iterations:                    12   Pseudo R-squ. (CS):             0.8265\n",
      "Covariance Type:            nonrobust                                         \n",
      "==============================================================================\n",
      "                 coef    std err          z      P>|z|      [0.025      0.975]\n",
      "------------------------------------------------------------------------------\n",
      "Intercept      0.0068      0.000     25.987      0.000       0.006       0.007\n",
      "taxes      -8.955e-07   6.21e-08    -14.430      0.000   -1.02e-06   -7.74e-07\n",
      "new           -0.0010      0.000     -3.745      0.000      -0.001      -0.000\n",
      "==============================================================================\n"
     ]
    },
    {
     "name": "stderr",
     "output_type": "stream",
     "text": [
      "/usr/local/lib/python3.11/site-packages/statsmodels/genmod/generalized_linear_model.py:305: DomainWarning: The InversePower link function does not respect the domain of the Gamma family.\n",
      "  warnings.warn((f\"The {type(family.link).__name__} link function \"\n"
     ]
    }
   ],
   "source": [
    "# normal GLM\n",
    "normal_model = smf.glm(\"price ~ taxes + new\", data=df, family=sm.families.Gaussian()).fit()\n",
    "\n",
    "# gamma GLM\n",
    "gamma_model = smf.glm(\"price ~ taxes + new\", data=df, family=sm.families.Gamma()).fit()\n",
    "\n",
    "print(\"Normal GLM:\")\n",
    "print(normal_model.summary())\n",
    "\n",
    "# Print summary of gamma GLM\n",
    "print(\"\\nGamma GLM:\")\n",
    "print(gamma_model.summary())"
   ]
  },
  {
   "cell_type": "markdown",
   "metadata": {},
   "source": [
    "(c) For each model, describe how the estimated variability in selling prices varies as the mean selling price varies from 100 thousand to 500 thousand dollars."
   ]
  },
  {
   "cell_type": "markdown",
   "metadata": {},
   "source": [
    "As the mean selling price increases from 100 thousand to 500 thousand dollars, the standard deviation for the normal GLM is higher than that of the gamma GLM - as can be seen from the plot. This indicates that the gamma GLM is a better fit for the data."
   ]
  },
  {
   "cell_type": "code",
   "execution_count": 32,
   "metadata": {},
   "outputs": [
    {
     "data": {
      "image/png": "[encoded data removed]",
      "text/plain": [
       "<Figure size 640x480 with 1 Axes>"
      ]
     },
     "metadata": {},
     "output_type": "display_data"
    }
   ],
   "source": [
    "# create vector from 100 thousand to 500 thousand\n",
    "spvec = np.linspace(100000, 500000, 100)\n",
    "\n",
    "# create empty vector for data storage\n",
    "std_normal_vec = [] \n",
    "std_gamma_vec = []\n",
    "\n",
    "with warnings.catch_warnings():\n",
    "    warnings.simplefilter(\"ignore\")\n",
    "\n",
    "    np.random.seed(123)\n",
    "\n",
    "    # run loop to calculate standard deviations for the normal and gamma GLMs\n",
    "    for sp in spvec:\n",
    "        \n",
    "        # Generate data with random noise\n",
    "        data[\"selling_price\"] = sp + np.random.normal(scale=sp*0.2, size=len(data))\n",
    "        \n",
    "        # Fit normal GLM\n",
    "        normal_model = smf.glm(\"price ~ taxes + new\", data=df, family=sm.families.Gaussian()).fit()\n",
    "        std_normal_vec.append(normal_model.scale ** 0.5)  # Standard deviation is the square root of scale parameter\n",
    "        \n",
    "        # Fit gamma GLM\n",
    "        gamma_model = smf.glm(\"price ~ taxes + new\", data=df, family=sm.families.Gamma()).fit()\n",
    "        std_gamma_vec.append(gamma_model.scale ** 0.5)  # Standard deviation is the square root of scale parameter\n",
    "\n",
    "\n",
    "\"\"\"\n",
    "y_normal_pred = normal_model.predict(df)\n",
    "y_gamma_pred = gamma_model.predict(df)\n",
    "plt.figure()\n",
    "plt.subplots(2)\n",
    "plt.subplot(211)\n",
    "plt.plot(df[\"taxes\"],df[\"price\"],'r.',df[\"taxes\"],y_normal_pred,'b.')\n",
    "plt.ylim([0,1250])\n",
    "plt.subplot(212)\n",
    "plt.plot(df[\"taxes\"],df[\"price\"],'r.',df[\"taxes\"],y_gamma_pred,'b.')\n",
    "plt.ylim([0,1250])\n",
    "\"\"\"\n",
    "\n",
    "plt.figure()\n",
    "plt.plot(spvec, std_normal_vec, label=\"Normal GLM\")\n",
    "plt.plot(spvec, std_gamma_vec, label=\"Gamma GLM\")\n",
    "plt.xlabel(\"Mean Selling Price ($)\")\n",
    "plt.ylabel(\"Standard Deviation of Selling Price ($)\")\n",
    "plt.title(\"Variability in Selling Prices vs. Mean Selling Price\")\n",
    "plt.legend()\n",
    "plt.grid(True)\n",
    "plt.show()"
   ]
  },
  {
   "cell_type": "markdown",
   "metadata": {},
   "source": [
    "(d) Which model is preferred according to AIC?"
   ]
  },
  {
   "cell_type": "markdown",
   "metadata": {},
   "source": [
    "Lower AIC is preferred when comparing two models. This is because the model with the lower AIC is expected to provide a better balance between model fit and complexity.\n",
    "\n",
    "In ths example, we will choose the gamma model since its AIC is lower."
   ]
  },
  {
   "cell_type": "code",
   "execution_count": 33,
   "metadata": {},
   "outputs": [
    {
     "name": "stdout",
     "output_type": "stream",
     "text": [
      "normal aic = 1160.178\n",
      "gamma aic = 1138.876\n"
     ]
    }
   ],
   "source": [
    "# get AIC\n",
    "normal_aic = normal_model.aic\n",
    "gamma_aic = gamma_model.aic\n",
    " \n",
    "# print AIC\n",
    "print(f\"normal aic = {normal_aic:.3f}\")\n",
    "print(f\"gamma aic = {gamma_aic:.3f}\")"
   ]
  },
  {
   "cell_type": "markdown",
   "metadata": {},
   "source": [
    "## Problem 7.5."
   ]
  },
  {
   "cell_type": "markdown",
   "metadata": {},
   "source": [
    "A study of sheep mentioned in Exercise 1.27 analyzed whether the sheep survived for a year from the original observation time (1 = yes, 0 = no) as a function of their weight (*kg*) at the original observation."
   ]
  },
  {
   "cell_type": "markdown",
   "metadata": {},
   "source": [
    "(a) Does the survival of the sheep seem to depend on their weight? If so, how does the weight of a sheep affect its probability of survival? Answer by fitting a generalized linear model for the survival probability."
   ]
  },
  {
   "cell_type": "markdown",
   "metadata": {},
   "source": [
    "`Your answer goes here`"
   ]
  },
  {
   "cell_type": "code",
   "execution_count": 34,
   "metadata": {},
   "outputs": [
    {
     "data": {
      "text/html": [
       "<div>\n",
       "<style scoped>\n",
       "    .dataframe tbody tr th:only-of-type {\n",
       "        vertical-align: middle;\n",
       "    }\n",
       "\n",
       "    .dataframe tbody tr th {\n",
       "        vertical-align: top;\n",
       "    }\n",
       "\n",
       "    .dataframe thead th {\n",
       "        text-align: right;\n",
       "    }\n",
       "</style>\n",
       "<table border=\"1\" class=\"dataframe\">\n",
       "  <thead>\n",
       "    <tr style=\"text-align: right;\">\n",
       "      <th></th>\n",
       "      <th>sheep</th>\n",
       "      <th>weight</th>\n",
       "      <th>survival</th>\n",
       "    </tr>\n",
       "  </thead>\n",
       "  <tbody>\n",
       "    <tr>\n",
       "      <th>0</th>\n",
       "      <td>1</td>\n",
       "      <td>20.8</td>\n",
       "      <td>0</td>\n",
       "    </tr>\n",
       "    <tr>\n",
       "      <th>1</th>\n",
       "      <td>2</td>\n",
       "      <td>23.0</td>\n",
       "      <td>1</td>\n",
       "    </tr>\n",
       "    <tr>\n",
       "      <th>2</th>\n",
       "      <td>3</td>\n",
       "      <td>28.0</td>\n",
       "      <td>1</td>\n",
       "    </tr>\n",
       "    <tr>\n",
       "      <th>3</th>\n",
       "      <td>4</td>\n",
       "      <td>27.5</td>\n",
       "      <td>1</td>\n",
       "    </tr>\n",
       "    <tr>\n",
       "      <th>4</th>\n",
       "      <td>5</td>\n",
       "      <td>26.0</td>\n",
       "      <td>0</td>\n",
       "    </tr>\n",
       "  </tbody>\n",
       "</table>\n",
       "</div>"
      ],
      "text/plain": [
       "   sheep  weight  survival\n",
       "0      1    20.8         0\n",
       "1      2    23.0         1\n",
       "2      3    28.0         1\n",
       "3      4    27.5         1\n",
       "4      5    26.0         0"
      ]
     },
     "execution_count": 34,
     "metadata": {},
     "output_type": "execute_result"
    }
   ],
   "source": [
    "# read data\n",
    "data = pd.read_csv(\"Sheep.dat\", sep = r\"\\s+\")\n",
    "data.head()"
   ]
  },
  {
   "cell_type": "code",
   "execution_count": 35,
   "metadata": {},
   "outputs": [
    {
     "name": "stdout",
     "output_type": "stream",
     "text": [
      "                 Generalized Linear Model Regression Results                  \n",
      "==============================================================================\n",
      "Dep. Variable:               survival   No. Observations:                 1359\n",
      "Model:                            GLM   Df Residuals:                     1357\n",
      "Model Family:                Binomial   Df Model:                            1\n",
      "Link Function:                  Logit   Scale:                          1.0000\n",
      "Method:                          IRLS   Log-Likelihood:                -645.22\n",
      "Date:                Tue, 13 Feb 2024   Deviance:                       1290.4\n",
      "Time:                        14:55:13   Pearson chi2:                 1.44e+03\n",
      "No. Iterations:                     5   Pseudo R-squ. (CS):             0.1294\n",
      "Covariance Type:            nonrobust                                         \n",
      "==============================================================================\n",
      "                 coef    std err          z      P>|z|      [0.025      0.975]\n",
      "------------------------------------------------------------------------------\n",
      "Intercept     -2.0298      0.251     -8.103      0.000      -2.521      -1.539\n",
      "weight         0.1755      0.014     12.588      0.000       0.148       0.203\n",
      "==============================================================================\n",
      "Intercept    5.382863e-16\n",
      "weight       2.450561e-36\n",
      "dtype: float64\n",
      "There is sufficient evidence that there is a correlation between the weight and survivability\n"
     ]
    }
   ],
   "source": [
    "# generalized least squares\n",
    "model = smf.glm(\"survival ~ weight\", data=data, family=sm.families.Binomial()).fit()\n",
    "\n",
    "with warnings.catch_warnings():\n",
    "    warnings.simplefilter(\"ignore\")\n",
    "\n",
    "    # glm model summary\n",
    "    print(model.summary())\n",
    "\n",
    "    # p-values\n",
    "    pvalues = model.pvalues\n",
    "    print(pvalues)\n",
    "\n",
    "    # conclusion\n",
    "    if pvalues[0] < 0.05:\n",
    "        print(\"There is sufficient evidence that there is a correlation between the weight and survivability\")\n",
    "    else:\n",
    "        print(\"There is insufficient evidence that there is a correlatin between the weight and survivability\")"
   ]
  },
  {
   "cell_type": "markdown",
   "metadata": {},
   "source": [
    "(b)  For what weight values do the sheep have more than a 50% chance of survival?"
   ]
  },
  {
   "cell_type": "markdown",
   "metadata": {},
   "source": [
    "The code and results for the question are given below. For the weight vector created, the min and max weight for 50% chance of survival are 12.1 and 34.1 respectively."
   ]
  },
  {
   "cell_type": "code",
   "execution_count": 36,
   "metadata": {},
   "outputs": [
    {
     "name": "stdout",
     "output_type": "stream",
     "text": [
      "Min weight = 3.1\n",
      "Max weight = 34.2\n",
      "[12.1 13.1 14.1 15.1 16.1 17.1 18.1 19.1 20.1 21.1 22.1 23.1 24.1 25.1\n",
      " 26.1 27.1 28.1 29.1 30.1 31.1 32.1 33.1 34.1]\n"
     ]
    }
   ],
   "source": [
    "# min and max weight\n",
    "print(\"Min weight = %.1f\" % data['weight'].min())\n",
    "print(\"Max weight = %.1f\" % data['weight'].max())\n",
    "\n",
    "# get X and y\n",
    "X = data[\"weight\"]\n",
    "y = data[\"survival\"]\n",
    "X = sm.add_constant(X)\n",
    "\n",
    "# fit GLM model\n",
    "glm_model = smf.glm(\"survival ~ weight\", data=data, family=sm.families.Binomial()).fit()\n",
    "\n",
    "# create vector between min and max weiht\n",
    "weights = np.arange(data['weight'].min(), data['weight'].max(), 1)\n",
    "\n",
    "# create dataframe for use in model\n",
    "df = pd.DataFrame({'weight': weights})\n",
    "\n",
    "# predict\n",
    "prob = glm_model.predict(df)\n",
    "weights_50perc_plus = weights[prob > 0.5]\n",
    "\n",
    "# print weights for which survivability > 50%\n",
    "print(weights_50perc_plus)\n"
   ]
  },
  {
   "cell_type": "markdown",
   "metadata": {},
   "source": [
    "## Problem 7.9."
   ]
  },
  {
   "cell_type": "markdown",
   "metadata": {},
   "source": [
    "The `SoreThroat` data file at the book’s website contains data from from a study$^{23}$ about *Y* = whether a patient having surgery had a sore throat on waking (1 = yes, 0 = no) as a function of *D* = duration of the surgery (in minutes) and *T* = type of device used to secure the airway (1 = tracheal tube, 0 = laryngeal mask airway)."
   ]
  },
  {
   "cell_type": "markdown",
   "metadata": {},
   "source": [
    "(a) Fit a GLM using both explanatory variables as main effects. Interpret effects."
   ]
  },
  {
   "cell_type": "markdown",
   "metadata": {},
   "source": [
    "The code and results of the GLM fit is shown below.\n",
    "\n",
    "The p-value for:\n",
    "- T: 0.072240 > 0.05\n",
    "- D: 0.009316 < 0.05\n",
    "\n",
    "Hence, we can conclude the following:\n",
    "- For T, we reject the null hypothesis. That is there is significant evidence of the effect of T on Y.\n",
    "- For D, we cannot reject the null hypothesis. That is there is insufficient evidence of the effect of D on Y."
   ]
  },
  {
   "cell_type": "code",
   "execution_count": 37,
   "metadata": {},
   "outputs": [
    {
     "data": {
      "text/html": [
       "<div>\n",
       "<style scoped>\n",
       "    .dataframe tbody tr th:only-of-type {\n",
       "        vertical-align: middle;\n",
       "    }\n",
       "\n",
       "    .dataframe tbody tr th {\n",
       "        vertical-align: top;\n",
       "    }\n",
       "\n",
       "    .dataframe thead th {\n",
       "        text-align: right;\n",
       "    }\n",
       "</style>\n",
       "<table border=\"1\" class=\"dataframe\">\n",
       "  <thead>\n",
       "    <tr style=\"text-align: right;\">\n",
       "      <th></th>\n",
       "      <th>D</th>\n",
       "      <th>T</th>\n",
       "      <th>Y</th>\n",
       "    </tr>\n",
       "  </thead>\n",
       "  <tbody>\n",
       "    <tr>\n",
       "      <th>0</th>\n",
       "      <td>45</td>\n",
       "      <td>0</td>\n",
       "      <td>0</td>\n",
       "    </tr>\n",
       "    <tr>\n",
       "      <th>1</th>\n",
       "      <td>15</td>\n",
       "      <td>0</td>\n",
       "      <td>0</td>\n",
       "    </tr>\n",
       "    <tr>\n",
       "      <th>2</th>\n",
       "      <td>40</td>\n",
       "      <td>0</td>\n",
       "      <td>1</td>\n",
       "    </tr>\n",
       "    <tr>\n",
       "      <th>3</th>\n",
       "      <td>83</td>\n",
       "      <td>1</td>\n",
       "      <td>1</td>\n",
       "    </tr>\n",
       "    <tr>\n",
       "      <th>4</th>\n",
       "      <td>90</td>\n",
       "      <td>1</td>\n",
       "      <td>1</td>\n",
       "    </tr>\n",
       "  </tbody>\n",
       "</table>\n",
       "</div>"
      ],
      "text/plain": [
       "    D  T  Y\n",
       "0  45  0  0\n",
       "1  15  0  0\n",
       "2  40  0  1\n",
       "3  83  1  1\n",
       "4  90  1  1"
      ]
     },
     "execution_count": 37,
     "metadata": {},
     "output_type": "execute_result"
    }
   ],
   "source": [
    "# read data\n",
    "data = pd.read_csv(\"soreThroat.dat\", sep = r\"\\s+\")\n",
    "data.head()"
   ]
  },
  {
   "cell_type": "code",
   "execution_count": 38,
   "metadata": {},
   "outputs": [
    {
     "name": "stdout",
     "output_type": "stream",
     "text": [
      "                 Generalized Linear Model Regression Results                  \n",
      "==============================================================================\n",
      "Dep. Variable:                      Y   No. Observations:                   35\n",
      "Model:                            GLM   Df Residuals:                       32\n",
      "Model Family:                Binomial   Df Model:                            2\n",
      "Link Function:                  Logit   Scale:                          1.0000\n",
      "Method:                          IRLS   Log-Likelihood:                -15.069\n",
      "Date:                Tue, 13 Feb 2024   Deviance:                       30.138\n",
      "Time:                        14:55:22   Pearson chi2:                     37.0\n",
      "No. Iterations:                     6   Pseudo R-squ. (CS):             0.3677\n",
      "Covariance Type:            nonrobust                                         \n",
      "==============================================================================\n",
      "                 coef    std err          z      P>|z|      [0.025      0.975]\n",
      "------------------------------------------------------------------------------\n",
      "Intercept     -1.4173      1.095     -1.295      0.195      -3.563       0.728\n",
      "T             -1.6589      0.923     -1.798      0.072      -3.468       0.150\n",
      "D              0.0687      0.026      2.600      0.009       0.017       0.120\n",
      "==============================================================================\n",
      "\n",
      "Intercept    0.195371\n",
      "T            0.072240\n",
      "D            0.009316\n",
      "dtype: float64\n"
     ]
    }
   ],
   "source": [
    "# GLM model\n",
    "model = smf.glm(\"Y ~ T + D\", data=data, family=sm.families.Binomial()).fit()\n",
    "\n",
    "# Summary of results\n",
    "print(model.summary())\n",
    "\n",
    "# p-values\n",
    "print(\"\")\n",
    "print(model.pvalues)"
   ]
  },
  {
   "cell_type": "markdown",
   "metadata": {},
   "source": [
    "(b) Fit a GLM permitting interaction between the explanatory variables. Interpret the effect of *D* at each category of *T*."
   ]
  },
  {
   "cell_type": "markdown",
   "metadata": {},
   "source": [
    "Since the p-value of D is higher than 0.05 (0.888), it suggests that the effect of duration of surgery on the probability of having a sore throat may not be statistically significant within each category of T."
   ]
  },
  {
   "cell_type": "code",
   "execution_count": 39,
   "metadata": {},
   "outputs": [
    {
     "name": "stdout",
     "output_type": "stream",
     "text": [
      "                 Generalized Linear Model Regression Results                  \n",
      "==============================================================================\n",
      "Dep. Variable:                      T   No. Observations:                   35\n",
      "Model:                            GLM   Df Residuals:                       33\n",
      "Model Family:                Binomial   Df Model:                            1\n",
      "Link Function:                  Logit   Scale:                          1.0000\n",
      "Method:                          IRLS   Log-Likelihood:                -24.236\n",
      "Date:                Tue, 13 Feb 2024   Deviance:                       48.472\n",
      "Time:                        14:55:26   Pearson chi2:                     35.0\n",
      "No. Iterations:                     3   Pseudo R-squ. (CS):          0.0005688\n",
      "Covariance Type:            nonrobust                                         \n",
      "==============================================================================\n",
      "                 coef    std err          z      P>|z|      [0.025      0.975]\n",
      "------------------------------------------------------------------------------\n",
      "Intercept     -0.1369      0.659     -0.208      0.835      -1.428       1.154\n",
      "D              0.0017      0.012      0.141      0.888      -0.022       0.026\n",
      "==============================================================================\n",
      "\n",
      "Intercept    0.835393\n",
      "D            0.887815\n",
      "dtype: float64\n"
     ]
    }
   ],
   "source": [
    "# GLM model\n",
    "model = smf.glm(\"T ~ D\", data=data, family=sm.families.Binomial()).fit()\n",
    "\n",
    "# Summary of results\n",
    "print(model.summary())\n",
    "\n",
    "# p-values\n",
    "print(\"\")\n",
    "print(model.pvalues)"
   ]
  },
  {
   "cell_type": "markdown",
   "metadata": {},
   "source": [
    "&nbsp;\n",
    "&nbsp;\n",
    "&nbsp;\n",
    "&nbsp;\n",
    "&nbsp;\n",
    "&nbsp;\n",
    "&nbsp;\n",
    "&nbsp;\n",
    "\n",
    "\n",
    "----------------\n",
    "$^{23}$ Described in “Binary Data” by D. Collett, *Encyclopedia of Biostatistics*, 2nd ed. (Wiley, 2005), pp. 439–446.\n",
    "\n",
    "$^{29}$ Some lack of fit the last few days reflects the impact of increasing “social distancing.”"
   ]
  }
 ],
 "metadata": {
  "kernelspec": {
   "display_name": "Python 3 (ipykernel)",
   "language": "python",
   "name": "python3"
  },
  "language_info": {
   "codemirror_mode": {
    "name": "ipython",
    "version": 3
   },
   "file_extension": ".py",
   "mimetype": "text/x-python",
   "name": "python",
   "nbconvert_exporter": "python",
   "pygments_lexer": "ipython3",
   "version": "3.11.7"
  },
  "vscode": {
   "interpreter": {
    "hash": "b61bb2d7a674932f79ec86662a4165aa288473e6e47a51dc8e3ab9a9cd94608c"
   }
  }
 },
 "nbformat": 4,
 "nbformat_minor": 4
}
