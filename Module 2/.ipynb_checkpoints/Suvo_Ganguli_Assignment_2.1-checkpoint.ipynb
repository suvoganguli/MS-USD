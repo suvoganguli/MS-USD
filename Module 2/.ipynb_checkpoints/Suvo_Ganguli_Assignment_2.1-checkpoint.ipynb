{
 "cells": [
  {
   "attachments": {},
   "cell_type": "markdown",
   "metadata": {},
   "source": [
    "# Assignment 2.1\n",
    "\n",
    "Name: Subhabrata (Suvo) Ganguli\n",
    "\n",
    "Date: Jan 21, 2024"
   ]
  },
  {
   "attachments": {},
   "cell_type": "markdown",
   "metadata": {},
   "source": [
    "For this assignment, you will refer to the textbook to solve the practice exercises. **Use Python to answer any coding problems (not R, even if indicated in your textbook).** Use Jupyter Notebook, Google Colab, or a similar software program to complete your assignment. Submit your answers as a **PDF or HTML** file. As a best practice, always label your axes and provide titles for any graphs generated on this assignment. Round all quantitative answers to 2 decimal places."
   ]
  },
  {
   "attachments": {},
   "cell_type": "markdown",
   "metadata": {},
   "source": [
    "## Problem # 2.1."
   ]
  },
  {
   "attachments": {},
   "cell_type": "markdown",
   "metadata": {},
   "source": [
    "For the rain simulation example in Section 2.1.1, but with probability of rain 0.30 on any\n",
    "given day, simulate the outcome (a) on the next day, (b) the next 10 days. (c) Simulate the\n",
    "proportion of days of rain for the next (i) 100 days, (ii) 10,000 days, (iii) 1,000,000 days. Use\n",
    "the simulation to explain the long-run relative frequency definition of probability."
   ]
  },
  {
   "attachments": {},
   "cell_type": "markdown",
   "metadata": {},
   "source": [
    "(a) See code below"
   ]
  },
  {
   "cell_type": "code",
   "execution_count": 118,
   "metadata": {},
   "outputs": [
    {
     "name": "stdout",
     "output_type": "stream",
     "text": [
      "True = rain, False = no rain\n",
      "Next day: \n",
      "False\n"
     ]
    }
   ],
   "source": [
    "import random\n",
    "import numpy as np\n",
    "\n",
    "p_rain = 0.3\n",
    "\n",
    "print('True = rain, False = no rain')\n",
    "\n",
    "# next day\n",
    "next_day = random.random() < p_rain\n",
    "print('Next day: ')\n",
    "print(next_day)    "
   ]
  },
  {
   "attachments": {},
   "cell_type": "markdown",
   "metadata": {},
   "source": [
    "(b) See code below.\n",
    "\n",
    "As number of days increases, the proportion converges to the probability value set (0.3)"
   ]
  },
  {
   "cell_type": "code",
   "execution_count": 119,
   "metadata": {},
   "outputs": [
    {
     "name": "stdout",
     "output_type": "stream",
     "text": [
      "Day 1:\n",
      "False\n",
      "Day 2:\n",
      "False\n",
      "Day 3:\n",
      "False\n",
      "Day 4:\n",
      "True\n",
      "Day 5:\n",
      "True\n",
      "Day 6:\n",
      "False\n",
      "Day 7:\n",
      "True\n",
      "Day 8:\n",
      "False\n",
      "Day 9:\n",
      "False\n",
      "Day 10:\n",
      "False\n"
     ]
    }
   ],
   "source": [
    "# next 10 days\n",
    "for i in np.arange(10):\n",
    "    print('Day ' + str(i+1) + ':')\n",
    "    print(random.random() < p_rain)"
   ]
  },
  {
   "attachments": {},
   "cell_type": "markdown",
   "metadata": {},
   "source": [
    "(c) See code below\n",
    "\n",
    "As the number of days increases, the proportion converges to the probability value modeled (0.3)"
   ]
  },
  {
   "cell_type": "code",
   "execution_count": 120,
   "metadata": {},
   "outputs": [
    {
     "name": "stdout",
     "output_type": "stream",
     "text": [
      "Proportion of rainy days for the next 100 days: 0.32\n",
      "Proportion of rainy days for the next 10,000 days: 0.2941\n",
      "Proportion of rainy days for the next 1,000,000 days: 0.300291\n"
     ]
    }
   ],
   "source": [
    "def prop_day(n):\n",
    "\n",
    "    p_rain = 0.30\n",
    "    \n",
    "    val = 0\n",
    "    for i in np.arange(n):\n",
    "        val = val + (random.random() < p_rain)\n",
    "\n",
    "    prop_day_out = val / n\n",
    "\n",
    "    return prop_day_out\n",
    "\n",
    "prop_rain_100 = prop_day(100)\n",
    "prop_rain_10000 = prop_day(10000)\n",
    "prop_rain_1000000 = prop_day(1000000)\n",
    "\n",
    "print(\"Proportion of rainy days for the next 100 days:\", prop_rain_100)\n",
    "print(\"Proportion of rainy days for the next 10,000 days:\", prop_rain_10000)\n",
    "print(\"Proportion of rainy days for the next 1,000,000 days:\", prop_rain_1000000)\n"
   ]
  },
  {
   "attachments": {},
   "cell_type": "markdown",
   "metadata": {},
   "source": [
    "## Problem # 2.2."
   ]
  },
  {
   "attachments": {},
   "cell_type": "markdown",
   "metadata": {},
   "source": [
    "Data analysts often implement statistical inference methods by setting the probability of a\n",
    "correct inference equal to 0.95. Let *A* denote the event that an inference for the population\n",
    "about men is correct. Let *B* represent the event of a corresponding inference about women\n",
    "being correct. Suppose that these are independent events.\n"
   ]
  },
  {
   "attachments": {},
   "cell_type": "markdown",
   "metadata": {},
   "source": [
    "(a) Find the probability that (i) *both* inferences are correct, (ii) *neither* inference is correct.  \n",
    "(b) Construct the probability distribution for *Y* = number of correct inferences.  \n",
    "(c) With what probability would each inference need to be correct in order for the probability to be 0.95 that *both* are correct?\n",
    "\n"
   ]
  },
  {
   "attachments": {},
   "cell_type": "markdown",
   "metadata": {},
   "source": [
    "(a) \n",
    "\n",
    "P(A) = probability of correct inference for men = 0.95\n",
    "\n",
    "P(B) = probability of correct inference for women = 0.95\n",
    "\n",
    "Therefore:\n",
    "\n",
    "Probability of correct inference for both men and women = P(AB) = 0.95 x 0.95 = 0.9025\n",
    "\n",
    "Probability that neither inference is correct = 1 - (P(A) + P(B) - P(AB)) = 1 - (0.95x2 - 0.9025) = 0.0025"
   ]
  },
  {
   "cell_type": "markdown",
   "metadata": {},
   "source": [
    "Let us construct Y as follows:\n",
    "\n",
    "Y = 0: Probability that neither inference is correct\n",
    "\n",
    "Y = 1: Probability that one inference is correct and the other is not\n",
    "\n",
    "Y = 2: Probability that both inferences are correct\n",
    "\n",
    "P(Y=0) = 0.0025\n",
    "\n",
    "P(Y=1) = 2x0.95x0.05 = 0.095\n",
    "\n",
    "P(Y=2) = 0.9025"
   ]
  },
  {
   "attachments": {},
   "cell_type": "markdown",
   "metadata": {},
   "source": [
    "(c) Let probability of correct inference = p\n",
    "\n",
    "Therefore, P(A)*P(B) = p^2 = 0.95\n",
    "\n",
    "p = 0.9747"
   ]
  },
  {
   "attachments": {},
   "cell_type": "markdown",
   "metadata": {},
   "source": [
    "## Problem # 2.4."
   ]
  },
  {
   "attachments": {},
   "cell_type": "markdown",
   "metadata": {},
   "source": [
    "A wine connoisseur is asked to match five glasses of red wine with the bottles from which they\n",
    "came, representing five different grape types.\n"
   ]
  },
  {
   "attachments": {},
   "cell_type": "markdown",
   "metadata": {},
   "source": [
    "(a) Set up a sample space for the five guesses.  \n",
    "(b) With random guessing, find the probability of getting all five correct."
   ]
  },
  {
   "attachments": {},
   "cell_type": "markdown",
   "metadata": {},
   "source": [
    "(a) The code is given below. There are 120 permutations."
   ]
  },
  {
   "cell_type": "code",
   "execution_count": 121,
   "metadata": {},
   "outputs": [
    {
     "name": "stdout",
     "output_type": "stream",
     "text": [
      "There are 120 possible permutations\n",
      "The probability of getting all 5 guesses correct is 0.0083\n"
     ]
    }
   ],
   "source": [
    "# read in the permutations library\n",
    "from itertools import permutations\n",
    "\n",
    "# Set up sample space\n",
    "wine_guesses = permutations([1,2,3,4,5])\n",
    "\n",
    "# Find all permutations of the sample space\n",
    "prob = 0\n",
    "for i in wine_guesses:\n",
    "    prob+=1\n",
    "print('There are {} possible permutations'.format(prob))\n",
    "print('The probability of getting all 5 guesses correct is {}'.format(round(1/prob, 4)))"
   ]
  },
  {
   "attachments": {},
   "cell_type": "markdown",
   "metadata": {},
   "source": [
    "(b) The probability that all guesses are correct is 0.0083"
   ]
  },
  {
   "attachments": {},
   "cell_type": "markdown",
   "metadata": {},
   "source": [
    "## Problem # 2.15."
   ]
  },
  {
   "attachments": {},
   "cell_type": "markdown",
   "metadata": {},
   "source": [
    "Each week an insurance company records *Y* = number of payments because of a home burning\n",
    "down. State conditions under which we would expect *Y* to approximately have a Poisson\n",
    "distribution.\n"
   ]
  },
  {
   "attachments": {},
   "cell_type": "markdown",
   "metadata": {},
   "source": [
    "The conditions under which we would expect Y to approximate a Poission distribution are:\n",
    "\n",
    "(a) all events are independent of each other\n",
    "\n",
    "(b) the rate of events through time is constant, and\n",
    "\n",
    "(c) events cannot occur simultaneously."
   ]
  },
  {
   "attachments": {},
   "cell_type": "markdown",
   "metadata": {},
   "source": [
    "## Problem # 2.16."
   ]
  },
  {
   "attachments": {},
   "cell_type": "markdown",
   "metadata": {},
   "source": [
    "Each day a hospital records the number of people who come to the emergency room for treatment."
   ]
  },
  {
   "attachments": {},
   "cell_type": "markdown",
   "metadata": {},
   "source": [
    "(a)  In the first week, the observations from Sunday to Saturday are 10, 8, 14, 7, 21, 44, 60.\n",
    "Do you think that the Poisson distribution might describe the random variability of this\n",
    "phenomenon adequately. Why or why not?  \n",
    "(b) Would you expect the Poisson distribution to better describe, or more poorly describe,\n",
    "the number of weekly admissions to the hospital for a rare disease? Why?"
   ]
  },
  {
   "attachments": {},
   "cell_type": "markdown",
   "metadata": {},
   "source": [
    "(a) To some extent, the random fluctuation of the number of persons visiting the emergency room could be described by the Poisson distribution, which is commonly used to characterize random events like dice rolls. It is impossible to predict how many individuals will end up at the emergency room because it is a random event. Therefore, it is possible that the Poisson distribution could appropriately capture the random variability of this occurrence. \n",
    "\n",
    "When the following requirements are satisfied, the Poisson distribution is the appropriate choice:\n",
    "1. The events are independent.\n",
    "2. The frequency of the occurrences is unchanging.\n",
    "3. Two events cannot occur at the same time.\n",
    "\n",
    "If the events (people arriving to the emergency department) are independent, the events occur at a constant rate, and two events cannot occur simultaneously, then the Poisson distribution is an appropriate model for the number of individuals that arrive to the emergency room.\n",
    "\n",
    "In \"real life,\" the requirements necessary for the Poisson distribution are not always satisfied. For example, it may be that the number of patients who visit the emergency room is not necessarily a completely independent variable. In the event that there is an accident, it is possible that a greater number of people will present themselves at the emergency room in comparison to when there is no accident. "
   ]
  },
  {
   "attachments": {},
   "cell_type": "markdown",
   "metadata": {},
   "source": [
    "(b) The weekly rates of admissions in the hospital due to the rare disease must be very low compared to the weekly rates of people who come to hospital for all types of disease.\n",
    "\n",
    "Given that the admission events of rare diseases are likely independent, the events occur at a constant rate, and the rate is small, then the Poisson distribution is an appropriate model for the number of individuals that arrive to the emergency room with rare disease.\n",
    "\n"
   ]
  },
  {
   "attachments": {},
   "cell_type": "markdown",
   "metadata": {},
   "source": [
    "## Problem # 2.17."
   ]
  },
  {
   "attachments": {},
   "cell_type": "markdown",
   "metadata": {},
   "source": [
    "An instructor gives a course grade of B to students who have total score on exams and homeworks between 800 and 900, where the maximum possible is 1000. If the total scores have\n",
    "approximately a normal distribution with mean 830 and standard deviation 50, about what proportion of the students receive a B?\n"
   ]
  },
  {
   "attachments": {},
   "cell_type": "markdown",
   "metadata": {},
   "source": [
    "Based on the code below, the z-scores for 800 and 900 are -0.6 and 1.4.\n",
    "\n",
    "Using the z-score table:\n",
    "\n",
    "Percentage corresponding to -0.6 = 1 - 0.7257 = 0.2743\n",
    "\n",
    "Percentage corresponding to 1.4 = 0.9192\n",
    "\n",
    "Therefore, proportion of students receiving a B = 0.9192 - 0.2743 = 0.6449"
   ]
  },
  {
   "cell_type": "code",
   "execution_count": 122,
   "metadata": {},
   "outputs": [
    {
     "name": "stdout",
     "output_type": "stream",
     "text": [
      "-0.6 1.4\n"
     ]
    }
   ],
   "source": [
    "import scipy.stats as sp\n",
    "\n",
    "z1 = (800 - 830)/50\n",
    "z2 = (900 - 830)/50\n",
    "\n",
    "print(z1,z2)"
   ]
  },
  {
   "attachments": {},
   "cell_type": "markdown",
   "metadata": {},
   "source": [
    "## Problem # 2.20."
   ]
  },
  {
   "attachments": {},
   "cell_type": "markdown",
   "metadata": {},
   "source": [
    "Create a data file with the income values in the `Income` data file at the text website."
   ]
  },
  {
   "attachments": {},
   "cell_type": "markdown",
   "metadata": {},
   "source": [
    "(a) Construct a histogram or a smooth-curve approximation for the *pdf* of income in the\n",
    "corresponding population by plotting results using the density function in R (explained\n",
    "in Exercise 1.18).  \n",
    "(b)  Of the probability distributions studied in this chapter, which do you think might be\n",
    "most appropriate for these data? Why? Plot the probability function of that distribution\n",
    "having the same mean and standard deviation as the income values. Does it seem to\n",
    "describe the income distribution well?\n"
   ]
  },
  {
   "attachments": {},
   "cell_type": "markdown",
   "metadata": {},
   "source": [
    "(a) The histogram is plotted below."
   ]
  },
  {
   "cell_type": "code",
   "execution_count": 123,
   "metadata": {},
   "outputs": [
    {
     "name": "stdout",
     "output_type": "stream",
     "text": [
      "   income  education race\n",
      "0      16         10    B\n",
      "1      18          7    B\n",
      "2      26          9    B\n",
      "3      16         11    B\n",
      "4      34         14    B\n"
     ]
    },
    {
     "data": {
      "text/plain": [
       "Text(0.5, 1.0, 'Income')"
      ]
     },
     "execution_count": 123,
     "metadata": {},
     "output_type": "execute_result"
    },
    {
     "data": {
      "image/png": "[encoded data removed]",
      "text/plain": [
       "<Figure size 640x480 with 1 Axes>"
      ]
     },
     "metadata": {},
     "output_type": "display_data"
    }
   ],
   "source": [
    "# Include library\n",
    "import matplotlib.pyplot as plt \n",
    "import pandas as pd\n",
    "\n",
    "# Read in the data file\n",
    "data = pd.read_csv('Income.dat', sep='\\s+')\n",
    "\n",
    "# See the data\n",
    "print(data.head())\n",
    "\n",
    "# Plot\n",
    "fig, ax = plt.subplots(1,1)\n",
    "ax.hist(data = data, x = 'income')\n",
    "ax.set_title('Income')"
   ]
  },
  {
   "attachments": {},
   "cell_type": "markdown",
   "metadata": {},
   "source": [
    "(b) Based on the shape of the histogram, a good representation of the data will using a Poisson distribution. This is because the data is skewed towards the right.\n",
    "\n",
    "We can verify the above by plotting a Poisson distribution with lambda = 0.5 and comparing with the histogram plotted earlier."
   ]
  },
  {
   "cell_type": "code",
   "execution_count": 128,
   "metadata": {},
   "outputs": [
    {
     "data": {
      "text/plain": [
       "<Axes: ylabel='Count'>"
      ]
     },
     "execution_count": 128,
     "metadata": {},
     "output_type": "execute_result"
    },
    {
     "data": {
      "image/png": "[encoded data removed]",
      "text/plain": [
       "<Figure size 640x480 with 1 Axes>"
      ]
     },
     "metadata": {},
     "output_type": "display_data"
    }
   ],
   "source": [
    "# import library\n",
    "from numpy import random\n",
    "import seaborn as sns\n",
    "\n",
    "# plot poission distribution histrogram\n",
    "sns.histplot(random.poisson(lam=0.5, size=500), kde=False)"
   ]
  },
  {
   "attachments": {},
   "cell_type": "markdown",
   "metadata": {},
   "source": [
    "## Problem # 2.21."
   ]
  },
  {
   "attachments": {},
   "cell_type": "markdown",
   "metadata": {},
   "source": [
    "Plot the gamma distribution by fixing the shape parameter *k* = 3 and setting the scale parameter\n",
    "= 0.5, 1, 2, 3, 4, 5. What is the effect of increasing the scale parameter? (See also Exercise 2.48.)"
   ]
  },
  {
   "attachments": {},
   "cell_type": "markdown",
   "metadata": {},
   "source": [
    "See code and output below.\n",
    "\n",
    "As the scale parameter increases, the curve flattens and peak moves towards the right."
   ]
  },
  {
   "cell_type": "code",
   "execution_count": 125,
   "metadata": {},
   "outputs": [
    {
     "data": {
      "image/png": "[encoded data removed]",
      "text/plain": [
       "<Figure size 640x480 with 1 Axes>"
      ]
     },
     "metadata": {},
     "output_type": "display_data"
    }
   ],
   "source": [
    "#define x-axis values\n",
    "x = np.linspace (0, 20, 100) \n",
    "\n",
    "k = 3\n",
    "scl = [0.1, 1, 2, 3, 4, 5]\n",
    "\n",
    "#calculate pdf of Gamma distribution for each x-value\n",
    "for i in np.arange(len(scl)):\n",
    "    y = sp.gamma.pdf(x, a=k, scale=scl[i])\n",
    "    \n",
    "    #create plot of Gamma distribution\n",
    "    plt.plot(x, y)\n",
    "\n",
    "plt.legend(['0.5','1','2','3','4','5'])\n",
    "\n",
    "#display plot\n",
    "plt.show()"
   ]
  },
  {
   "attachments": {},
   "cell_type": "markdown",
   "metadata": {},
   "source": [
    "## Problem # 2.22."
   ]
  },
  {
   "attachments": {},
   "cell_type": "markdown",
   "metadata": {},
   "source": [
    "Consider the mammogram diagnostic example in Section 2.1.4."
   ]
  },
  {
   "attachments": {},
   "cell_type": "markdown",
   "metadata": {},
   "source": [
    "(a) Show that the joint probability distribution of diagnosis and disease status is as shown in\n",
    "Table 2.6. Given that a diagnostic test result is positive, explain how this joint distribution\n",
    "shows that the 12% of incorrect diagnoses for the 99% of women not having breast cancer\n",
    "swamp the 86% of correct diagnoses for the 1% of women actually having breast cancer.  \n",
    "(b) The first test for detecting HIV-positive status had a sensitivity of 0.999 and specificity\n",
    "of 0.9999. Explain what these mean. If at that time 1 in 10,000 men were truly HIVpositive, find the positive predictive value. Based on this example, explain the potential\n",
    "disadvantage of routine diagnostic screening of a population for a rare disease.\n",
    "\n",
    "**TABLE 2.6** Joint probability distribution for disease status and diagnosis of breast cancer\n",
    "mammogram, based on conditional probabilities in Table 2.1\n",
    "\n",
    "| **Disease Status** | **Diagnosis from Mammogram** |              |           |\n",
    "|--------------------|------------------------------|--------------|-----------|\n",
    "|                    | Positive (+)                 | Negative (-) | **Total** |\n",
    "| Yes (D)            | 0.0086                       | 0.0014       | 0.01      |\n",
    "| No ($D^c$)         | 0.1188                       | 0.8712       | 0.99      |"
   ]
  },
  {
   "attachments": {},
   "cell_type": "markdown",
   "metadata": {},
   "source": [
    "(a) Define the events:\n",
    "\n",
    "D = An event that women is having breast cancer\n",
    "\n",
    "Dc = An even that women is not having breast cancer\n",
    "\n",
    "P = Positive test\n",
    "\n",
    "N = Negative test\n",
    "\n",
    "The probability of incorrect diagnoses given that a women not having breast cancer is\n",
    "\n",
    "p(P/Dc) = p(P and Dc)/p(Dc) = 0.1188/0.99 = 0.12 --> 12%\n",
    "\n",
    "The probability of correct diagnoses given that a women actually having breast cancer is\n",
    "\n",
    "p(p/D) = p(P and D)/p(D) = 0.0086/0.01 = 0.86 --> 86%"
   ]
  },
  {
   "cell_type": "markdown",
   "metadata": {},
   "source": [
    "(b) Define the events\n",
    "\n",
    "D = An event that a person has HIV\n",
    "\n",
    "Dc = An even that a person does not have HIV\n",
    "\n",
    "P = Positive test\n",
    "\n",
    "N = Negative test\n",
    "\n",
    "The sensitivity of the test is 0.999, means that the probability that a person's test is positive given that the person is having HIV is 0.999. This means\n",
    "\n",
    "p(P/D) = 0.999\n",
    "p(N/D) = 1 - 0.999 = 0.001\n",
    "\n",
    "The specificity of the test is 0.9999 means that the probability that a person's test is negative given that the person is not having HIV is 0.9999. This means\n",
    "\n",
    "p(P/Dc) = 0.9999\n",
    "p(N/Dc) = 0.0001\n",
    "\n",
    "Given p(D) = 1/10000 = 0.0001\n",
    "p(N) = 1-0.0001 = 0.9999\n",
    "\n",
    "The positive productive value indicates the probability that a person actually have HIV given that the test is test is positive. In the given terms we have to find p(D/P)\n",
    "\n",
    "p(D/P) = p(p/D)xp(D) / ( p(P/D)xp(D) + p(P/Dc)xp(Dc) ) \n",
    "\n",
    "= 0.999x0.0001 / (0.999x0.0001 + 0.0001x0.9999) = 0.4997\n",
    "\n",
    "Since, p(P/Dc)=1-0.999=0.0001, the disadvantage of the routine test is that there is 0.01% chance that the routine test is positive even the person is not having HIV."
   ]
  },
  {
   "attachments": {},
   "cell_type": "markdown",
   "metadata": {},
   "source": [
    "## Problem # 2.27."
   ]
  },
  {
   "attachments": {},
   "cell_type": "markdown",
   "metadata": {},
   "source": [
    "The distribution of *X* = heights *(cm)* of women in the U.K. is approximately *N*(162, $7^2$).\n",
    "Conditional on *X = x*, suppose *Y* = weight *(kg)* has a *N*(3.0 + 0.40x, $8^2$) distribution. Simulate\n",
    "and plot 1000 observations from this approximate bivariate normal distribution. Approximate\n",
    "the marginal means and standard deviations for *X* and *Y*. Approximate and interpret the\n",
    "correlation.\n"
   ]
  },
  {
   "attachments": {},
   "cell_type": "markdown",
   "metadata": {},
   "source": [
    "See code and output below.\n",
    "\n",
    "A positive correlation indicates that taller women tend to have higher weights. The value 0.33 means there is relatively medium correlation between the height and the weight of the women. "
   ]
  },
  {
   "cell_type": "code",
   "execution_count": 126,
   "metadata": {},
   "outputs": [
    {
     "data": {
      "image/png": "[encoded data removed]",
      "text/plain": [
       "<Figure size 640x480 with 1 Axes>"
      ]
     },
     "metadata": {},
     "output_type": "display_data"
    },
    {
     "name": "stdout",
     "output_type": "stream",
     "text": [
      "Mean X approx = 162.2716873331172\n",
      "Std X approx = 6.867028937525482\n",
      "Mean Y approx = 68.1272784804035\n",
      "Std Y approx = 8.742822939380673\n",
      "Correlation coef = 0.3347796720017178\n"
     ]
    }
   ],
   "source": [
    "# Parameters for X distribution\n",
    "mean_X = 162\n",
    "std_X = 7\n",
    "\n",
    "# Parameters for Y distribution conditional on X\n",
    "mean_Y = lambda x: 3.0 + 0.40 * x\n",
    "std_Y = 8\n",
    "\n",
    "# Simulate 1000 observations\n",
    "np.random.seed(1)\n",
    "X = np.random.normal(mean_X, std_X, 1000)\n",
    "Y = np.random.normal(mean_Y(X), std_Y)\n",
    "\n",
    "# Plot the observations\n",
    "plt.scatter(X, Y)\n",
    "plt.xlabel('Height (cm)')\n",
    "plt.ylabel('Weight (kg)')\n",
    "plt.title('Simulated Bivariate Normal Distribution')\n",
    "plt.show()\n",
    "\n",
    "# Approximate marginal means and standard deviations\n",
    "mean_X_approx = np.mean(X)\n",
    "std_X_approx = np.std(X)\n",
    "mean_Y_approx = np.mean(Y)\n",
    "std_Y_approx = np.std(Y)\n",
    "\n",
    "print('Mean X approx = ' + str(mean_X_approx))\n",
    "print('Std X approx = ' + str(std_X_approx))\n",
    "print('Mean Y approx = ' + str(mean_Y_approx))\n",
    "print('Std Y approx = ' + str(std_Y_approx))\n",
    "\n",
    "# Approximate correlation\n",
    "corr = np.corrcoef(X, Y)[0, 1]\n",
    "\n",
    "print('Correlation coef = ' + str(corr))\n",
    "\n"
   ]
  }
 ],
 "metadata": {
  "kernelspec": {
   "display_name": "Python 3 (ipykernel)",
   "language": "python",
   "name": "python3"
  },
  "language_info": {
   "codemirror_mode": {
    "name": "ipython",
    "version": 3
   },
   "file_extension": ".py",
   "mimetype": "text/x-python",
   "name": "python",
   "nbconvert_exporter": "python",
   "pygments_lexer": "ipython3",
   "version": "3.11.7"
  }
 },
 "nbformat": 4,
 "nbformat_minor": 4
}
