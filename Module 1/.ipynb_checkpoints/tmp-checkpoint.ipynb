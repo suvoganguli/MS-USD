{
 "cells": [
  {
   "cell_type": "markdown",
   "metadata": {},
   "source": [
    "# Assignment 1.1"
   ]
  },
  {
   "cell_type": "markdown",
   "metadata": {},
   "source": [
    "Name: Subhabrata (Suvo) Ganguli\n",
    "\n",
    "Date: Jan 13, 2024"
   ]
  },
  {
   "cell_type": "markdown",
   "metadata": {},
   "source": [
    "For this assignment, you will refer to the textbook to solve the practice exercises. **Use Python to answer any coding problems (not R, even if indicated in your textbook).** Use Jupyter Notebook, Google Colab, or a similar software program to complete your assignment. Submit your answers as a **PDF or HTML** file. As a best practice, always label your axes and provide titles for any graphs generated on this assignment. Round all quantitative answers to 2 decimal places."
   ]
  },
  {
   "cell_type": "markdown",
   "metadata": {},
   "source": [
    "## **Problem # 1.1.** \n",
    "In the 2018 election for Senate in California, a CNN exit poll of 1882 voters stated that 52.5% voted for the Democratic candidate, Diane Feinstein. Of all 11.1 million voters, 54.2% voted for Feinstein.\n",
    "\n",
    "(a) What was the (i) subject, (ii) sample, (iii) population? \n"
   ]
  },
  {
   "cell_type": "markdown",
   "metadata": {},
   "source": [
    "(i) Subject: Voting results of Democratic Candidate, Diana Feinstein\n",
    "(ii) Sample: 1882 voters from the CNN exit poll\n",
    "(iii) Population: 11.1 million voters"
   ]
  },
  {
   "cell_type": "markdown",
   "metadata": {},
   "source": [
    "## **Problem # 1.2.** \n",
    "The `Students` data file at [http://stat4ds.rwth-aachen.de/data/Students.dat](http://stat4ds.rwth-aachen.de/data/Students.dat) responses of a class of 60 \n",
    "social science graduate students at the University of Florida to a questionnaire that asked about *gender* (1 = female, 0 = male), *age*, *hsgpa* = high school GPA (on a four-point scale), cogpa = college GPA, *dhome* = distance (in miles) of the campus from your home town, *dres* = distance (in miles) of the classroom from your current residence, *tv* = average number of hours per week that you watch TV, *sport* = average number of hours per week that you participate in sports or have other physical exercise, *news* = number of \n",
    "times a week you read a newspaper, *aids* = number of people you know who have died from AIDS or who \n",
    "are HIV+, *veg* = whether you are a vegetarian (1 = yes, 0 = no), *affil* = political affiliation (1 = Democrat, 2 \n",
    "= Republican, 3 = independent), *ideol* = political ideology (1 = very liberal, 2 = liberal, 3 = slightly liberal, 4 \n",
    "= moderate, 5 = slightly conservative, 6 = conservative, 7 = very conservative), *relig* = how often you \n",
    "attend religious services (0 = never, 1 = occasionally, 2 = most weeks, 3 = every week), *abor* = opinion \n",
    "about whether abortion should be legal in the first three months of pregnancy (1 = yes, 0 = no), *affirm* = \n",
    "support affirmative action (1 = yes, 0 = no), and *life* = belief in life after death (1 = yes, 2 = no, 3 = \n",
    "undecided). You will use this data file for some exercises in this book. \n"
   ]
  },
  {
   "cell_type": "markdown",
   "metadata": {},
   "source": [
    "(a) Practice accessing a data file for statistical analysis with your software by going to the book’s \n",
    "     website and copying and then displaying this data file.\n"
   ]
  },
  {
   "cell_type": "markdown",
   "metadata": {},
   "source": [
    "(b) Using responses on *abor*, state a question that could be addressed with (i) descriptive \n",
    "     statistics, (ii) inferential statistics."
   ]
  },
  {
   "cell_type": "markdown",
   "metadata": {},
   "source": [
    "`(a) Code and outputs are shown below:"
   ]
  },
  {
   "cell_type": "code",
   "execution_count": 1,
   "metadata": {},
   "outputs": [
    {
     "data": {
      "text/html": [
       "<div>\n",
       "<style scoped>\n",
       "    .dataframe tbody tr th:only-of-type {\n",
       "        vertical-align: middle;\n",
       "    }\n",
       "\n",
       "    .dataframe tbody tr th {\n",
       "        vertical-align: top;\n",
       "    }\n",
       "\n",
       "    .dataframe thead th {\n",
       "        text-align: right;\n",
       "    }\n",
       "</style>\n",
       "<table border=\"1\" class=\"dataframe\">\n",
       "  <thead>\n",
       "    <tr style=\"text-align: right;\">\n",
       "      <th></th>\n",
       "      <th>subject</th>\n",
       "      <th>gender</th>\n",
       "      <th>age</th>\n",
       "      <th>hsgpa</th>\n",
       "      <th>cogpa</th>\n",
       "      <th>dhome</th>\n",
       "      <th>dres</th>\n",
       "      <th>tv</th>\n",
       "      <th>sport</th>\n",
       "      <th>news</th>\n",
       "      <th>aids</th>\n",
       "      <th>veg</th>\n",
       "      <th>affil</th>\n",
       "      <th>ideol</th>\n",
       "      <th>relig</th>\n",
       "      <th>abor</th>\n",
       "      <th>affirm</th>\n",
       "      <th>life</th>\n",
       "    </tr>\n",
       "  </thead>\n",
       "  <tbody>\n",
       "    <tr>\n",
       "      <th>0</th>\n",
       "      <td>1</td>\n",
       "      <td>0</td>\n",
       "      <td>32</td>\n",
       "      <td>2.2</td>\n",
       "      <td>3.5</td>\n",
       "      <td>0</td>\n",
       "      <td>5.0</td>\n",
       "      <td>3.0</td>\n",
       "      <td>5</td>\n",
       "      <td>0</td>\n",
       "      <td>0</td>\n",
       "      <td>0</td>\n",
       "      <td>2</td>\n",
       "      <td>6</td>\n",
       "      <td>2</td>\n",
       "      <td>0</td>\n",
       "      <td>0</td>\n",
       "      <td>1</td>\n",
       "    </tr>\n",
       "    <tr>\n",
       "      <th>1</th>\n",
       "      <td>2</td>\n",
       "      <td>1</td>\n",
       "      <td>23</td>\n",
       "      <td>2.1</td>\n",
       "      <td>3.5</td>\n",
       "      <td>1200</td>\n",
       "      <td>0.3</td>\n",
       "      <td>15.0</td>\n",
       "      <td>7</td>\n",
       "      <td>5</td>\n",
       "      <td>6</td>\n",
       "      <td>1</td>\n",
       "      <td>1</td>\n",
       "      <td>2</td>\n",
       "      <td>1</td>\n",
       "      <td>1</td>\n",
       "      <td>1</td>\n",
       "      <td>3</td>\n",
       "    </tr>\n",
       "    <tr>\n",
       "      <th>2</th>\n",
       "      <td>3</td>\n",
       "      <td>1</td>\n",
       "      <td>27</td>\n",
       "      <td>3.3</td>\n",
       "      <td>3.0</td>\n",
       "      <td>1300</td>\n",
       "      <td>1.5</td>\n",
       "      <td>0.0</td>\n",
       "      <td>4</td>\n",
       "      <td>3</td>\n",
       "      <td>0</td>\n",
       "      <td>1</td>\n",
       "      <td>1</td>\n",
       "      <td>2</td>\n",
       "      <td>2</td>\n",
       "      <td>1</td>\n",
       "      <td>1</td>\n",
       "      <td>3</td>\n",
       "    </tr>\n",
       "    <tr>\n",
       "      <th>3</th>\n",
       "      <td>4</td>\n",
       "      <td>1</td>\n",
       "      <td>35</td>\n",
       "      <td>3.5</td>\n",
       "      <td>3.2</td>\n",
       "      <td>1500</td>\n",
       "      <td>8.0</td>\n",
       "      <td>5.0</td>\n",
       "      <td>5</td>\n",
       "      <td>6</td>\n",
       "      <td>3</td>\n",
       "      <td>0</td>\n",
       "      <td>3</td>\n",
       "      <td>4</td>\n",
       "      <td>1</td>\n",
       "      <td>1</td>\n",
       "      <td>1</td>\n",
       "      <td>2</td>\n",
       "    </tr>\n",
       "    <tr>\n",
       "      <th>4</th>\n",
       "      <td>5</td>\n",
       "      <td>0</td>\n",
       "      <td>23</td>\n",
       "      <td>3.1</td>\n",
       "      <td>3.5</td>\n",
       "      <td>1600</td>\n",
       "      <td>10.0</td>\n",
       "      <td>6.0</td>\n",
       "      <td>6</td>\n",
       "      <td>3</td>\n",
       "      <td>0</td>\n",
       "      <td>0</td>\n",
       "      <td>3</td>\n",
       "      <td>1</td>\n",
       "      <td>0</td>\n",
       "      <td>1</td>\n",
       "      <td>0</td>\n",
       "      <td>2</td>\n",
       "    </tr>\n",
       "  </tbody>\n",
       "</table>\n",
       "</div>"
      ],
      "text/plain": [
       "   subject  gender  age  hsgpa  cogpa  dhome  dres    tv  sport  news  aids  \\\n",
       "0        1       0   32    2.2    3.5      0   5.0   3.0      5     0     0   \n",
       "1        2       1   23    2.1    3.5   1200   0.3  15.0      7     5     6   \n",
       "2        3       1   27    3.3    3.0   1300   1.5   0.0      4     3     0   \n",
       "3        4       1   35    3.5    3.2   1500   8.0   5.0      5     6     3   \n",
       "4        5       0   23    3.1    3.5   1600  10.0   6.0      6     3     0   \n",
       "\n",
       "   veg  affil  ideol  relig  abor  affirm  life  \n",
       "0    0      2      6      2     0       0     1  \n",
       "1    1      1      2      1     1       1     3  \n",
       "2    1      1      2      2     1       1     3  \n",
       "3    0      3      4      1     1       1     2  \n",
       "4    0      3      1      0     1       0     2  "
      ]
     },
     "execution_count": 1,
     "metadata": {},
     "output_type": "execute_result"
    }
   ],
   "source": [
    "# Import necessary libraries\n",
    "import numpy as np\n",
    "import pandas as pd\n",
    "\n",
    "# Read in the Students data file\n",
    "students = pd.read_csv('Students.dat', sep='\\s+')\n",
    "\n",
    "# Show first five rows of the data\n",
    "students.head()"
   ]
  },
  {
   "cell_type": "markdown",
   "metadata": {},
   "source": [
    "(b)\n",
    "\n",
    "(i) Descriptive Statistics: Find the number of students who are for or against whether abortion should be legal in the first three months of pregnancy. Use a bargraph for the data.\n",
    "\n",
    "(ii) Inferential Statistics: Estimate the number of students in the overall population who are for or against whether abortion should be legal in the first three months of pregnancy (from the sample statistics)."
   ]
  },
  {
   "cell_type": "markdown",
   "metadata": {},
   "source": [
    "## **Problem # 1.3.** \n",
    "Identify each of the following variables as categorical or quantitative: (a) Number of smartphones that you own; (b) County of residence; (c) Choice of diet (vegetarian, nonvegetarian); (d) Distance, in kilometers, commute to work"
   ]
  },
  {
   "cell_type": "markdown",
   "metadata": {},
   "source": [
    "(a) Number of smartphones that you own: Quantitative\n",
    "\n",
    "(b) County of residence: Categorical\n",
    "\n",
    "(c) Choice of diet (vegetarian, nonvegetarian): Categorical\n",
    "\n",
    "(d) Distance, in kilometers, commute to work: Quantitative"
   ]
  },
  {
   "cell_type": "markdown",
   "metadata": {},
   "source": [
    "## **Problem # 1.4.** \n",
    "Give an example of a variable that is (a) categorical; (b) quantitative; (c) discrete; (d) continuous"
   ]
  },
  {
   "cell_type": "markdown",
   "metadata": {},
   "source": [
    "(a) Categorical: County of residence\n",
    "\n",
    "(b) Quantative: BMI of a sample of population\n",
    "\n",
    "(c) Discrete: Number of cell phones owned by individuals\n",
    "\n",
    "(d) Continuous: Distance, in kilometers, commute to work"
   ]
  },
  {
   "cell_type": "markdown",
   "metadata": {},
   "source": [
    "## **Problem # 1.10.** \n",
    "Analyze the `Carbon_West` ([http://stat4ds.rwth-aachen.de/data/Carbon_West.dat](http://stat4ds.rwth-aachen.de/data/Carbon_West.dat)) data file at the book’s website by **(a)** constructing a frequency distribution and  a histogram, **(b)** finding the mean, median, and standard deviation. Interpret each."
   ]
  },
  {
   "cell_type": "markdown",
   "metadata": {},
   "source": [
    "`(a)` Code and outputs are shown below:"
   ]
  },
  {
   "cell_type": "code",
   "execution_count": 2,
   "metadata": {},
   "outputs": [
    {
     "name": "stdout",
     "output_type": "stream",
     "text": [
      "      Nation   CO2\n",
      "0    Albania   2.0\n",
      "1  Australia  15.4\n",
      "2    Austria   6.9\n",
      "3    Belgium   8.3\n",
      "4     Bosnia   6.2\n",
      " \n",
      "Frequency Distribution:\n",
      "CO2\n",
      "4.3     3\n",
      "6.2     3\n",
      "5.3     3\n",
      "3.5     2\n",
      "5.9     2\n",
      "6.5     1\n",
      "4.5     1\n",
      "5.0     1\n",
      "5.7     1\n",
      "9.3     1\n",
      "7.7     1\n",
      "9.9     1\n",
      "3.6     1\n",
      "5.4     1\n",
      "4.4     1\n",
      "2.0     1\n",
      "7.3     1\n",
      "15.4    1\n",
      "8.9     1\n",
      "4.6     1\n",
      "8.7     1\n",
      "9.2     1\n",
      "4.0     1\n",
      "15.1    1\n",
      "8.3     1\n",
      "6.9     1\n",
      "16.5    1\n",
      "Name: count, dtype: int64\n"
     ]
    },
    {
     "data": {
      "text/plain": [
       "<Axes: xlabel='CO2', ylabel='Count'>"
      ]
     },
     "execution_count": 2,
     "metadata": {},
     "output_type": "execute_result"
    },
    {
     "data": {
      "image/png": "[encoded data removed]",
      "text/plain": [
       "<Figure size 640x480 with 1 Axes>"
      ]
     },
     "metadata": {},
     "output_type": "display_data"
    }
   ],
   "source": [
    "# Import seaborn library\n",
    "import seaborn as sns\n",
    "\n",
    "# Read in the data file\n",
    "data = pd.read_csv('Carbon_West.dat', sep='\\s+')\n",
    "\n",
    "# Show data\n",
    "print(data.head())\n",
    "print(' ')\n",
    "\n",
    "# Frequency distribution\n",
    "print('Frequency Distribution:')\n",
    "df = data['CO2'].value_counts() \n",
    "print(df) \n",
    "\n",
    "# Histogram\n",
    "sns.histplot(x = data.CO2, bins = 10)"
   ]
  },
  {
   "cell_type": "code",
   "execution_count": 3,
   "metadata": {},
   "outputs": [
    {
     "data": {
      "text/html": [
       "<div>\n",
       "<style scoped>\n",
       "    .dataframe tbody tr th:only-of-type {\n",
       "        vertical-align: middle;\n",
       "    }\n",
       "\n",
       "    .dataframe tbody tr th {\n",
       "        vertical-align: top;\n",
       "    }\n",
       "\n",
       "    .dataframe thead th {\n",
       "        text-align: right;\n",
       "    }\n",
       "</style>\n",
       "<table border=\"1\" class=\"dataframe\">\n",
       "  <thead>\n",
       "    <tr style=\"text-align: right;\">\n",
       "      <th></th>\n",
       "      <th>CO2</th>\n",
       "    </tr>\n",
       "  </thead>\n",
       "  <tbody>\n",
       "    <tr>\n",
       "      <th>count</th>\n",
       "      <td>35.000000</td>\n",
       "    </tr>\n",
       "    <tr>\n",
       "      <th>mean</th>\n",
       "      <td>6.717143</td>\n",
       "    </tr>\n",
       "    <tr>\n",
       "      <th>std</th>\n",
       "      <td>3.356949</td>\n",
       "    </tr>\n",
       "    <tr>\n",
       "      <th>min</th>\n",
       "      <td>2.000000</td>\n",
       "    </tr>\n",
       "    <tr>\n",
       "      <th>25%</th>\n",
       "      <td>4.450000</td>\n",
       "    </tr>\n",
       "    <tr>\n",
       "      <th>50%</th>\n",
       "      <td>5.900000</td>\n",
       "    </tr>\n",
       "    <tr>\n",
       "      <th>75%</th>\n",
       "      <td>8.000000</td>\n",
       "    </tr>\n",
       "    <tr>\n",
       "      <th>max</th>\n",
       "      <td>16.500000</td>\n",
       "    </tr>\n",
       "  </tbody>\n",
       "</table>\n",
       "</div>"
      ],
      "text/plain": [
       "             CO2\n",
       "count  35.000000\n",
       "mean    6.717143\n",
       "std     3.356949\n",
       "min     2.000000\n",
       "25%     4.450000\n",
       "50%     5.900000\n",
       "75%     8.000000\n",
       "max    16.500000"
      ]
     },
     "execution_count": 3,
     "metadata": {},
     "output_type": "execute_result"
    }
   ],
   "source": [
    "# Data description \n",
    "\n",
    "data.describe()"
   ]
  },
  {
   "cell_type": "markdown",
   "metadata": {},
   "source": [
    "For the C02 data of 35 countries, the mean CO2 emmision is 6.72, the median is 5.9 and the standard deviation is 3.36. Since, the mean is greater than the median, the distribution can be right-skewed. This can be confirmed by the histogram plot above."
   ]
  },
  {
   "cell_type": "markdown",
   "metadata": {},
   "source": [
    "## **Problem # 1.11.** \n",
    "According to Statistics Canada, for the Canadian population having income in 2019, annual income had a median of `$`35,000 and mean of `$`46,700. What would you predict about the shape of the distribution? Why?\n"
   ]
  },
  {
   "cell_type": "markdown",
   "metadata": {},
   "source": [
    "Since the mean is greater the median, the histogram will be right-skewed. This is because a larger portion of the data is concentrated towards the right tail based on the mean data."
   ]
  },
  {
   "cell_type": "markdown",
   "metadata": {},
   "source": [
    "## **Problem # 1.13.**\n",
    "A report indicates that public school teacher’s annual salaries in New York city have an approximate  mean of `$`69,000 and standard deviation of `$`6,000. If the distribution has approximately a bell shape, report intervals that contain about (a) 68%, (b) 95%, (c) all or nearly all salaries. Would a salary of  `$`100,000 be unusual? Why? \n"
   ]
  },
  {
   "cell_type": "markdown",
   "metadata": {},
   "source": [
    "Since the mean (mu) is `$`69,000 and standard deviation is `$`6,000:\n",
    " * Approximately 68% of the data will be within mu +/- sigma = [`$` 63,000, `$` 75,000]\n",
    " * Approximately 95% of the data will be within mu+/- 2*sigma = [`$` 57,000, `$` 81,000]\n",
    " * Approximately all of the data will be within mu +/- 3*sigma = [`$` 51,000, `$` 87,000]\n",
    "\n",
    "A salary of `$` 100,000 will be unusual since it does not fall within the 3-sigma bounds."
   ]
  },
  {
   "cell_type": "markdown",
   "metadata": {},
   "source": [
    "## **Problem # 1.17.** \n",
    "From the `Murder` data file ([http://stat4ds.rwth-aachen.de/data/Murder.dat](http://stat4ds.rwth-aachen.de/data/Murder.dat)) at the book’s website, use the variable murder, which is the murder rate (per 100,000 population) for each state in the U.S. in 2017 according to the FBI Uniform Crime Reports. At first, do not use the observation for D.C. (DC). Using software:  \n",
    "(a) Find the mean and standard deviation and interpret their values.  \n",
    "(b) Find the five-number summary, and construct the corresponding box plot. Interpret.  \n",
    "(c) Now include the observation for D.C. What is affected more by this outlier: The mean or the median? The range or the inter-quartile range?"
   ]
  },
  {
   "cell_type": "markdown",
   "metadata": {},
   "source": [
    "**Answer:**"
   ]
  },
  {
   "cell_type": "code",
   "execution_count": 4,
   "metadata": {},
   "outputs": [
    {
     "name": "stdout",
     "output_type": "stream",
     "text": [
      "Data without DC row:\n",
      "   state  murder\n",
      "0     AK     8.4\n",
      "1     AL     8.3\n",
      "2     AR     8.6\n",
      "3     AZ     5.9\n",
      "4     CA     4.6\n",
      "5     CO     3.9\n",
      "6     CT     2.8\n",
      "7     DE     5.6\n",
      "8     FL     5.0\n",
      "9     GA     6.7\n",
      "10    HI     2.7\n",
      "11    ID     1.9\n",
      "12    IL     7.8\n",
      "13    IN     6.0\n",
      "14    IO     3.3\n",
      "15    KS     5.5\n",
      "16    KY     5.9\n",
      "17    LA    12.4\n",
      "18    MA     2.5\n",
      "19    MD     9.0\n",
      "20    ME     1.7\n",
      "21    MI     5.7\n",
      "22    MN     2.0\n",
      "23    MO     9.8\n",
      "24    MS     8.2\n",
      "25    MT     3.9\n",
      "26    NC     5.8\n",
      "27    ND     1.3\n",
      "28    NE     2.2\n",
      "29    NH     1.0\n",
      "30    NJ     3.6\n",
      "31    NM     7.1\n",
      "32    NV     2.3\n",
      "33    NY     2.8\n",
      "34    OH     6.1\n",
      "35    OK     6.2\n",
      "36    OR     2.5\n",
      "37    PA     5.8\n",
      "38    RI     1.9\n",
      "39    SC     7.8\n",
      "40    SD     2.9\n",
      "41    TN     7.8\n",
      "42    TX     5.0\n",
      "43    UT     2.4\n",
      "44    VA     5.3\n",
      "45    VT     2.2\n",
      "46    WA     3.1\n",
      "47    WI     3.2\n",
      "48    WV     4.7\n",
      "49    WY     2.6\n",
      " \n",
      "Mean (without DC) = 4.87\n",
      "Std. Dev. (without DC) = 2.59\n"
     ]
    }
   ],
   "source": [
    "# Read in the data file\n",
    "data = pd.read_csv('Murder.dat', sep='\\s+')\n",
    "data_noDC = data.drop(data[data['state'] == 'DC'].index)\n",
    "\n",
    "# Show data\n",
    "print('Data without DC row:')\n",
    "print(data_noDC)\n",
    "print(' ')\n",
    "\n",
    "# Mean without DC data\n",
    "mean_noDC = data_noDC['murder'].mean().round(2)\n",
    "print('Mean (without DC) = ' + str(mean_noDC))\n",
    "\n",
    "# Standard Deviation without DC data\n",
    "stddev_noDC = data_noDC['murder'].std().round(2)\n",
    "print('Std. Dev. (without DC) = ' + str(stddev_noDC))"
   ]
  },
  {
   "cell_type": "markdown",
   "metadata": {},
   "source": [
    "(a) The mean and standard deviation presents a description of the data if the data is normally distributed. However, without looking at the actual data using boxplot or histogram, it cannot be determined if the normal distribution is a good representation of the data or not."
   ]
  },
  {
   "cell_type": "code",
   "execution_count": 5,
   "metadata": {},
   "outputs": [
    {
     "name": "stdout",
     "output_type": "stream",
     "text": [
      "     murder\n",
      "min   1.000\n",
      "25%   2.625\n",
      "50%   4.850\n",
      "75%   6.175\n",
      "max  12.400\n"
     ]
    },
    {
     "data": {
      "text/plain": [
       "<Axes: ylabel='murder'>"
      ]
     },
     "execution_count": 5,
     "metadata": {},
     "output_type": "execute_result"
    },
    {
     "data": {
      "image/png": "[encoded data removed]",
      "text/plain": [
       "<Figure size 640x480 with 1 Axes>"
      ]
     },
     "metadata": {},
     "output_type": "display_data"
    }
   ],
   "source": [
    "# Five number summary without DC data\n",
    "print(data_noDC.describe().loc[['min', '25%', '50%', '75%', 'max']])\n",
    "\n",
    "# Boxplot\n",
    "sns.boxplot(data = data_noDC['murder'])"
   ]
  },
  {
   "cell_type": "code",
   "execution_count": 6,
   "metadata": {},
   "outputs": [
    {
     "data": {
      "text/plain": [
       "<Axes: xlabel='murder', ylabel='Count'>"
      ]
     },
     "execution_count": 6,
     "metadata": {},
     "output_type": "execute_result"
    },
    {
     "data": {
      "image/png": "[encoded data removed]",
      "text/plain": [
       "<Figure size 640x480 with 1 Axes>"
      ]
     },
     "metadata": {},
     "output_type": "display_data"
    }
   ],
   "source": [
    "# Histogram \n",
    "sns.histplot(data = data_noDC, x = 'murder')"
   ]
  },
  {
   "cell_type": "markdown",
   "metadata": {},
   "source": [
    "(b)The boxplot can be used to determine if the data is normally distributed, left-skewed or right-skewed.\n",
    "\n",
    "Since the boxplot is not symmetric, we can conclude that the data is not normally distributed. In addition, since the median is towards the upper limit of the box, it can lead to a conclusion that the data is left-skewed. But if we look at the whiskers, we see that the maximum (in the top) is further out than the minimum value (one in the bottom). That can lead to the conclusion that the data is right-skewed. These are contradicting interpretations.\n",
    "\n",
    "So, without looking at the actual histogram of the data, it cannot be interpreted from the boxplot if the data is left-skewed or right-skewed. The histogram verifies that the data is right-skewed."
   ]
  },
  {
   "cell_type": "code",
   "execution_count": 7,
   "metadata": {},
   "outputs": [
    {
     "name": "stdout",
     "output_type": "stream",
     "text": [
      "Mean (with DC) = 5.25\n",
      "Std. Dev. (with DC) = 3.73\n",
      "     murder\n",
      "min    1.00\n",
      "25%    2.65\n",
      "50%    5.00\n",
      "75%    6.45\n",
      "max   24.20\n"
     ]
    },
    {
     "data": {
      "text/plain": [
       "<Axes: ylabel='murder'>"
      ]
     },
     "execution_count": 7,
     "metadata": {},
     "output_type": "execute_result"
    },
    {
     "data": {
      "image/png": "[encoded data removed]",
      "text/plain": [
       "<Figure size 640x480 with 1 Axes>"
      ]
     },
     "metadata": {},
     "output_type": "display_data"
    }
   ],
   "source": [
    "# Mean\n",
    "mean = data['murder'].mean().round(2)\n",
    "print('Mean (with DC) = ' + str(mean))\n",
    "\n",
    "# Standard Deviation\n",
    "stddev = data['murder'].std().round(2)\n",
    "print('Std. Dev. (with DC) = ' + str(stddev))\n",
    "\n",
    "# Five number summary with DC data\n",
    "print(data.describe().loc[['min', '25%', '50%', '75%', 'max']])\n",
    "sns.boxplot(data = data['murder'])"
   ]
  },
  {
   "cell_type": "markdown",
   "metadata": {},
   "source": [
    "(c) With addition of the DC row:\n",
    "* The mean changes from 4.87 to 5.25 (increase of 0.38)\n",
    "* The median changes from 4.85 to 5.00 (increase of 0.15)\n",
    "\n",
    "Thus the mean changes more than the median towards the right. This is expected as the DC data is an outlier on the right side of the distribution, causing it to be further right-skewed."
   ]
  },
  {
   "cell_type": "markdown",
   "metadata": {},
   "source": [
    "## **Problem # 1.18.**\n",
    "The `Income` data file ([http://stat4ds.rwth-aachen.de/data/Income.dat](http://stat4ds.rwth-aachen.de/data/Income.dat)) at the book’s website reports annual income values in the U.S., in thousands of dollars.\n",
    "\n",
    "(a) Using software, construct a histogram. Describe its shape.  \n",
    "(b) Find descriptive statistics to summarize the data. Interpret them.  \n",
    "(c) The kernel density estimation method finds a smooth-curve approximation for a histogram. At each value, it takes into account how many observations are nearby and their distance, with more weight given those closer. Increasing the bandwidth increases the influence of observations further away. Plot a smooth-curve approximation for the histogram of income values. Summarize the impact of increasing and of decreasing the bandwidth substantially from the default value.  \n",
    "(d) Construct and interpret side-by-side box plots of income by race (B = Black, H = Hispanic, W = White).  Compare the incomes using numerical descriptive statistics"
   ]
  },
  {
   "cell_type": "markdown",
   "metadata": {},
   "source": [
    "**Answer:**"
   ]
  },
  {
   "cell_type": "code",
   "execution_count": 8,
   "metadata": {},
   "outputs": [
    {
     "name": "stdout",
     "output_type": "stream",
     "text": [
      "   income  education race\n",
      "0      16         10    B\n",
      "1      18          7    B\n",
      "2      26          9    B\n",
      "3      16         11    B\n",
      "4      34         14    B\n"
     ]
    },
    {
     "data": {
      "text/plain": [
       "Text(0.5, 1.0, 'Education')"
      ]
     },
     "execution_count": 8,
     "metadata": {},
     "output_type": "execute_result"
    },
    {
     "data": {
      "image/png": "[encoded data removed]",
      "text/plain": [
       "<Figure size 640x480 with 2 Axes>"
      ]
     },
     "metadata": {},
     "output_type": "display_data"
    }
   ],
   "source": [
    "# Include library\n",
    "import matplotlib.pyplot as plt\n",
    "\n",
    "# Read in the data file\n",
    "data = pd.read_csv('Income.dat', sep='\\s+')\n",
    "\n",
    "# See the data\n",
    "print(data.head())\n",
    "\n",
    "# Plots\n",
    "fig, ax = plt.subplots(1,2)\n",
    "ax[0].hist(data = data, x = 'income')\n",
    "ax[0].set_title('Income')\n",
    "ax[1].hist(data = data, x = 'education')\n",
    "ax[1].set_title('Education')"
   ]
  },
  {
   "cell_type": "markdown",
   "metadata": {},
   "source": [
    "(a) The histograms of the income and the education levels are shown in the above plots.\n",
    "\n",
    "The histogram of the income is right-skewed. The histogram of the education level is primarily bi-modal."
   ]
  },
  {
   "cell_type": "code",
   "execution_count": 9,
   "metadata": {},
   "outputs": [
    {
     "name": "stdout",
     "output_type": "stream",
     "text": [
      "Income statistics:\n",
      "count     80.000000\n",
      "mean      37.525000\n",
      "std       20.672843\n",
      "min       16.000000\n",
      "25%       22.000000\n",
      "50%       30.000000\n",
      "75%       46.500000\n",
      "max      120.000000\n",
      "Name: income, dtype: float64\n",
      " \n",
      "Education statistics:\n",
      "count    80.000000\n",
      "mean     12.687500\n",
      "std       2.871042\n",
      "min       7.000000\n",
      "25%      10.000000\n",
      "50%      12.000000\n",
      "75%      15.000000\n",
      "max      20.000000\n",
      "Name: education, dtype: float64\n"
     ]
    }
   ],
   "source": [
    "print('Income statistics:')\n",
    "print(data['income'].describe())\n",
    "print(' ')\n",
    "print('Education statistics:')\n",
    "print(data['education'].describe())"
   ]
  },
  {
   "cell_type": "markdown",
   "metadata": {},
   "source": [
    "(b) For the Income distribution, the mean is more than the median. This means the distribution is probably right-skewed - which is confirmed when looking at the histogram plot.\n",
    "\n",
    "For the Education distribution, the mean and median are very close. This can mean that the distribution is normally distributed. However, this is not the case. The histogram shows that the distribution is bi-modal, roughly symetrically distributed around the mean value."
   ]
  },
  {
   "cell_type": "code",
   "execution_count": 10,
   "metadata": {},
   "outputs": [
    {
     "data": {
      "text/plain": [
       "Text(0.5, 0.98, 'Income KDE (BW = 2)')"
      ]
     },
     "execution_count": 10,
     "metadata": {},
     "output_type": "execute_result"
    },
    {
     "data": {
      "image/png": "[encoded data removed]",
      "text/plain": [
       "<Figure size 400x200 with 1 Axes>"
      ]
     },
     "metadata": {},
     "output_type": "display_data"
    },
    {
     "data": {
      "image/png": "[encoded data removed]",
      "text/plain": [
       "<Figure size 400x200 with 1 Axes>"
      ]
     },
     "metadata": {},
     "output_type": "display_data"
    },
    {
     "data": {
      "image/png": "[encoded data removed]",
      "text/plain": [
       "<Figure size 400x200 with 1 Axes>"
      ]
     },
     "metadata": {},
     "output_type": "display_data"
    },
    {
     "data": {
      "image/png": "[encoded data removed]",
      "text/plain": [
       "<Figure size 400x200 with 1 Axes>"
      ]
     },
     "metadata": {},
     "output_type": "display_data"
    }
   ],
   "source": [
    "# Get income data\n",
    "income = data['income']\n",
    "\n",
    "# Create histogram and kde plots\n",
    "plt.figure(figsize=(4,2))\n",
    "plt.hist(income)\n",
    "plt.suptitle('Income Histogram')\n",
    "\n",
    "plt.figure(figsize=(4,2))\n",
    "income.plot.kde()\n",
    "plt.suptitle('Income KDE (default BW)')\n",
    "\n",
    "plt.figure(figsize=(4,2))\n",
    "income.plot.kde(bw_method = 0.1)\n",
    "plt.suptitle('Income KDE (BW = 0.1)')\n",
    "\n",
    "plt.figure(figsize=(4,2))\n",
    "income.plot.kde(bw_method = 2)\n",
    "plt.suptitle('Income KDE (BW = 2)')"
   ]
  },
  {
   "cell_type": "markdown",
   "metadata": {},
   "source": [
    "(c) The code and the outputs for the actual histogram and KDE's for different bandwidths are shown above.\n",
    "\n",
    "Using a small bandwidth value leads to over-fitting, while using a large bandwidth value results in under-fitting. In addition, with larger bandwidth, the data which are further away influences the curve more.\n"
   ]
  },
  {
   "cell_type": "code",
   "execution_count": 11,
   "metadata": {},
   "outputs": [
    {
     "data": {
      "text/plain": [
       "race\n",
       "B    [[Axes(0.125,0.11;0.775x0.77)]]\n",
       "H    [[Axes(0.125,0.11;0.775x0.77)]]\n",
       "W    [[Axes(0.125,0.11;0.775x0.77)]]\n",
       "dtype: object"
      ]
     },
     "execution_count": 11,
     "metadata": {},
     "output_type": "execute_result"
    },
    {
     "data": {
      "image/png": "[encoded data removed]",
      "text/plain": [
       "<Figure size 640x480 with 4 Axes>"
      ]
     },
     "metadata": {},
     "output_type": "display_data"
    },
    {
     "data": {
      "image/png": "[encoded data removed]",
      "text/plain": [
       "<Figure size 640x480 with 1 Axes>"
      ]
     },
     "metadata": {},
     "output_type": "display_data"
    },
    {
     "data": {
      "image/png": "[encoded data removed]",
      "text/plain": [
       "<Figure size 640x480 with 1 Axes>"
      ]
     },
     "metadata": {},
     "output_type": "display_data"
    },
    {
     "data": {
      "image/png": "[encoded data removed]",
      "text/plain": [
       "<Figure size 640x480 with 1 Axes>"
      ]
     },
     "metadata": {},
     "output_type": "display_data"
    }
   ],
   "source": [
    "# Boxplots grouped by Race\n",
    "data.groupby('race').boxplot(column='income')\n",
    "\n",
    "# Histogram grouped by Race\n",
    "data.groupby('race').hist(column='income')"
   ]
  },
  {
   "cell_type": "code",
   "execution_count": 12,
   "metadata": {},
   "outputs": [
    {
     "data": {
      "text/html": [
       "<div>\n",
       "<style scoped>\n",
       "    .dataframe tbody tr th:only-of-type {\n",
       "        vertical-align: middle;\n",
       "    }\n",
       "\n",
       "    .dataframe tbody tr th {\n",
       "        vertical-align: top;\n",
       "    }\n",
       "\n",
       "    .dataframe thead tr th {\n",
       "        text-align: left;\n",
       "    }\n",
       "\n",
       "    .dataframe thead tr:last-of-type th {\n",
       "        text-align: right;\n",
       "    }\n",
       "</style>\n",
       "<table border=\"1\" class=\"dataframe\">\n",
       "  <thead>\n",
       "    <tr>\n",
       "      <th></th>\n",
       "      <th colspan=\"8\" halign=\"left\">income</th>\n",
       "    </tr>\n",
       "    <tr>\n",
       "      <th></th>\n",
       "      <th>count</th>\n",
       "      <th>mean</th>\n",
       "      <th>std</th>\n",
       "      <th>min</th>\n",
       "      <th>25%</th>\n",
       "      <th>50%</th>\n",
       "      <th>75%</th>\n",
       "      <th>max</th>\n",
       "    </tr>\n",
       "    <tr>\n",
       "      <th>race</th>\n",
       "      <th></th>\n",
       "      <th></th>\n",
       "      <th></th>\n",
       "      <th></th>\n",
       "      <th></th>\n",
       "      <th></th>\n",
       "      <th></th>\n",
       "      <th></th>\n",
       "    </tr>\n",
       "  </thead>\n",
       "  <tbody>\n",
       "    <tr>\n",
       "      <th>B</th>\n",
       "      <td>16.0</td>\n",
       "      <td>27.75</td>\n",
       "      <td>13.284076</td>\n",
       "      <td>16.0</td>\n",
       "      <td>19.5</td>\n",
       "      <td>24.0</td>\n",
       "      <td>31.0</td>\n",
       "      <td>66.0</td>\n",
       "    </tr>\n",
       "    <tr>\n",
       "      <th>H</th>\n",
       "      <td>14.0</td>\n",
       "      <td>31.00</td>\n",
       "      <td>12.812254</td>\n",
       "      <td>16.0</td>\n",
       "      <td>20.5</td>\n",
       "      <td>30.0</td>\n",
       "      <td>32.0</td>\n",
       "      <td>58.0</td>\n",
       "    </tr>\n",
       "    <tr>\n",
       "      <th>W</th>\n",
       "      <td>50.0</td>\n",
       "      <td>42.48</td>\n",
       "      <td>22.869854</td>\n",
       "      <td>18.0</td>\n",
       "      <td>24.0</td>\n",
       "      <td>37.0</td>\n",
       "      <td>50.0</td>\n",
       "      <td>120.0</td>\n",
       "    </tr>\n",
       "  </tbody>\n",
       "</table>\n",
       "</div>"
      ],
      "text/plain": [
       "     income                                                 \n",
       "      count   mean        std   min   25%   50%   75%    max\n",
       "race                                                        \n",
       "B      16.0  27.75  13.284076  16.0  19.5  24.0  31.0   66.0\n",
       "H      14.0  31.00  12.812254  16.0  20.5  30.0  32.0   58.0\n",
       "W      50.0  42.48  22.869854  18.0  24.0  37.0  50.0  120.0"
      ]
     },
     "execution_count": 12,
     "metadata": {},
     "output_type": "execute_result"
    }
   ],
   "source": [
    "data2 = data[['income', 'race']]\n",
    "data2.groupby('race').describe()"
   ]
  },
  {
   "cell_type": "markdown",
   "metadata": {},
   "source": [
    "(d) Based on the boxplots and the description statistics, we can interpret the following;\n",
    "\n",
    "* Hispanic: The mean is slighty more than the median, the upper quartile is slightly more than the lower quartile, and the top whisker is more than the bottom whisker. This means the distribution can be right-skewed.\n",
    "* Black: This is difficult to interpret since the 50% and 75% quartile are very closeby hinting the distribution is left skewed. However, mean and the median values are closeby which hints that the distribution is near normal. These are contradictory interpretations.\n",
    "* White: The mean is more than the median, the upper quartile is more than the lower quartile, and the top whisker is more than the bottom whisker. This means the distribution can be right-skewed.\n",
    "* Further we can say, that the White distribution is more right-skewed than the Hispanic population.\n",
    "\n",
    "These observations can be verified by the histogram plots shown above."
   ]
  },
  {
   "cell_type": "markdown",
   "metadata": {},
   "source": [
    "## **Problem # 1.19.** \n",
    "The `Houses` data file ([http://stat4ds.rwth-aachen.de/data/Houses.dat](http://stat4ds.rwth-aachen.de/data/Houses.dat)) at the book’s website lists the selling price (thousands of dollars), size (square feet), tax bill (dollars), number of bathrooms, number of bedrooms, and whether the house is new (1 = yes, 0 = no) for 100 home sales in Gainesville, Florida. Let’s analyze the selling prices. \n",
    "\n",
    "(a) Construct a frequency distribution and a histogram. Describe the shape.  \n",
    "(b) Find the percentage of observations that fall within one standard deviation of the mean. Why is this not close to 68%?  \n",
    "(c) Construct a box plot, and interpret.   \n",
    "(d) Use descriptive statistics to compare selling prices according to whether the house is new. \n",
    "\n",
    "\n"
   ]
  },
  {
   "cell_type": "markdown",
   "metadata": {},
   "source": [
    "**Answer:**"
   ]
  },
  {
   "cell_type": "code",
   "execution_count": 13,
   "metadata": {},
   "outputs": [
    {
     "name": "stdout",
     "output_type": "stream",
     "text": [
      "   case   price  size  new  taxes  bedrooms  baths\n",
      "0     1  419.85  2048    0   3104         4      2\n",
      "1     2  219.75   912    0   1173         2      1\n",
      "2     3  356.55  1654    0   3076         4      2\n",
      "3     4  300.00  2068    0   1608         3      2\n",
      "4     5  239.85  1477    0   1454         3      3\n",
      "\n",
      "Frequency Distribution:\n",
      "price\n",
      "150.00    3\n",
      "205.50    3\n",
      "127.50    3\n",
      "210.00    3\n",
      "104.85    2\n",
      "         ..\n",
      "90.00     1\n",
      "190.50    1\n",
      "129.00    1\n",
      "75.00     1\n",
      "190.80    1\n",
      "Name: count, Length: 81, dtype: int64\n"
     ]
    },
    {
     "data": {
      "text/plain": [
       "array([[<Axes: title={'center': 'price'}>]], dtype=object)"
      ]
     },
     "execution_count": 13,
     "metadata": {},
     "output_type": "execute_result"
    },
    {
     "data": {
      "image/png": "[encoded data removed]",
      "text/plain": [
       "<Figure size 640x480 with 1 Axes>"
      ]
     },
     "metadata": {},
     "output_type": "display_data"
    }
   ],
   "source": [
    "# Read in the data file\n",
    "data = pd.read_csv('Houses.dat', sep='\\s+')\n",
    "\n",
    "# Data head\n",
    "print(data.head())\n",
    "\n",
    "# Frequency distribution\n",
    "print('\\nFrequency Distribution:')\n",
    "price = data['price'].value_counts() \n",
    "print(price) \n",
    "\n",
    "# Histogram\n",
    "data.hist(column='price')"
   ]
  },
  {
   "cell_type": "markdown",
   "metadata": {},
   "source": [
    "(a) The histogram shows that the data is right-skewed."
   ]
  },
  {
   "cell_type": "code",
   "execution_count": 14,
   "metadata": {},
   "outputs": [
    {
     "name": "stdout",
     "output_type": "stream",
     "text": [
      "Mean price = 233.0\n",
      "Stddev price = 151.89\n",
      "Percentage data within 1 stddev = 85.0\n"
     ]
    }
   ],
   "source": [
    "# Calculate price statistics\n",
    "price_mean = data['price'].mean().round(2)\n",
    "price_std = data['price'].std().round(2)\n",
    "print('Mean price = ' + str(price_mean))\n",
    "print('Stddev price = ' + str(price_std))\n",
    "\n",
    "# Convert data to list\n",
    "price_np = np.array(data['price'].values.tolist())\n",
    "\n",
    "# 1 stddev range\n",
    "val1 = price_mean - price_std\n",
    "val2 = price_mean + price_std\n",
    "\n",
    "# Find percentage of data within 1 stddev\n",
    "count = 0\n",
    "for i in range(len(price_np)):\n",
    "    if (price_np[i] >= val1) and (price_np[i] <= val2):\n",
    "        count = count + 1\n",
    "\n",
    "val3 = count/len(price_np)*100\n",
    "print('Percentage data within 1 stddev = ' + str(val3))\n",
    "    "
   ]
  },
  {
   "cell_type": "markdown",
   "metadata": {},
   "source": [
    "(b) The percentage of data within 1 standard deviation is 85%. This is not close to 68% since the data distribution is not normal.\n"
   ]
  },
  {
   "cell_type": "code",
   "execution_count": 15,
   "metadata": {},
   "outputs": [
    {
     "data": {
      "text/plain": [
       "<Axes: ylabel='price'>"
      ]
     },
     "execution_count": 15,
     "metadata": {},
     "output_type": "execute_result"
    },
    {
     "data": {
      "image/png": "[encoded data removed]",
      "text/plain": [
       "<Figure size 640x480 with 1 Axes>"
      ]
     },
     "metadata": {},
     "output_type": "display_data"
    }
   ],
   "source": [
    "sns.boxplot(data = data['price'])"
   ]
  },
  {
   "cell_type": "markdown",
   "metadata": {},
   "source": [
    "(c) The boxplot is shown above.\n",
    "\n",
    "The top whisker is slightly more than the bottom whisker. Further, there are several outliers on the top. This can be interpreted as the distribution is right-skewed."
   ]
  },
  {
   "cell_type": "code",
   "execution_count": 16,
   "metadata": {},
   "outputs": [
    {
     "data": {
      "text/html": [
       "<div>\n",
       "<style scoped>\n",
       "    .dataframe tbody tr th:only-of-type {\n",
       "        vertical-align: middle;\n",
       "    }\n",
       "\n",
       "    .dataframe tbody tr th {\n",
       "        vertical-align: top;\n",
       "    }\n",
       "\n",
       "    .dataframe thead tr th {\n",
       "        text-align: left;\n",
       "    }\n",
       "\n",
       "    .dataframe thead tr:last-of-type th {\n",
       "        text-align: right;\n",
       "    }\n",
       "</style>\n",
       "<table border=\"1\" class=\"dataframe\">\n",
       "  <thead>\n",
       "    <tr>\n",
       "      <th></th>\n",
       "      <th colspan=\"8\" halign=\"left\">price</th>\n",
       "    </tr>\n",
       "    <tr>\n",
       "      <th></th>\n",
       "      <th>count</th>\n",
       "      <th>mean</th>\n",
       "      <th>std</th>\n",
       "      <th>min</th>\n",
       "      <th>25%</th>\n",
       "      <th>50%</th>\n",
       "      <th>75%</th>\n",
       "      <th>max</th>\n",
       "    </tr>\n",
       "    <tr>\n",
       "      <th>new</th>\n",
       "      <th></th>\n",
       "      <th></th>\n",
       "      <th></th>\n",
       "      <th></th>\n",
       "      <th></th>\n",
       "      <th></th>\n",
       "      <th></th>\n",
       "      <th></th>\n",
       "    </tr>\n",
       "  </thead>\n",
       "  <tbody>\n",
       "    <tr>\n",
       "      <th>0</th>\n",
       "      <td>89.0</td>\n",
       "      <td>207.851124</td>\n",
       "      <td>121.039149</td>\n",
       "      <td>31.50</td>\n",
       "      <td>135.00</td>\n",
       "      <td>190.8</td>\n",
       "      <td>240.000</td>\n",
       "      <td>880.50</td>\n",
       "    </tr>\n",
       "    <tr>\n",
       "      <th>1</th>\n",
       "      <td>11.0</td>\n",
       "      <td>436.445455</td>\n",
       "      <td>219.832789</td>\n",
       "      <td>158.85</td>\n",
       "      <td>256.95</td>\n",
       "      <td>427.5</td>\n",
       "      <td>519.675</td>\n",
       "      <td>866.25</td>\n",
       "    </tr>\n",
       "  </tbody>\n",
       "</table>\n",
       "</div>"
      ],
      "text/plain": [
       "    price                                                                \n",
       "    count        mean         std     min     25%    50%      75%     max\n",
       "new                                                                      \n",
       "0    89.0  207.851124  121.039149   31.50  135.00  190.8  240.000  880.50\n",
       "1    11.0  436.445455  219.832789  158.85  256.95  427.5  519.675  866.25"
      ]
     },
     "execution_count": 16,
     "metadata": {},
     "output_type": "execute_result"
    }
   ],
   "source": [
    "data2 = data[['price','new']]\n",
    "data2.groupby('new').describe()"
   ]
  },
  {
   "cell_type": "markdown",
   "metadata": {},
   "source": [
    "(d) The above descriptive statistics shows that the mean price of new houses is approximately `$`229K more than the mean price of old houses. Further, the standard deviation of new house price is much higher (approximately `$`99K) than old houses.\n",
    "\n",
    "However, it is interesting to observe than the maximum price of one of the old houses is more than that of the new ones."
   ]
  }
 ],
 "metadata": {
  "kernelspec": {
   "display_name": "Python 3 (ipykernel)",
   "language": "python",
   "name": "python3"
  },
  "language_info": {
   "codemirror_mode": {
    "name": "ipython",
    "version": 3
   },
   "file_extension": ".py",
   "mimetype": "text/x-python",
   "name": "python",
   "nbconvert_exporter": "python",
   "pygments_lexer": "ipython3",
   "version": "3.11.7"
  },
  "vscode": {
   "interpreter": {
    "hash": "b61bb2d7a674932f79ec86662a4165aa288473e6e47a51dc8e3ab9a9cd94608c"
   },
   "toc": {
    "number_sections": false,
    "sideBar": true
   }
  }
 },
 "nbformat": 4,
 "nbformat_minor": 4
}
