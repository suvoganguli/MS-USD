{
 "cells": [
  {
   "cell_type": "code",
   "execution_count": 1,
   "id": "41a28bd2-d83b-4795-8efe-3de7922cc6c7",
   "metadata": {},
   "outputs": [],
   "source": [
    "import scipy.stats\n",
    "\n",
    "def z_score_table_lookup(z_score):\n",
    "  \"\"\"Looks up a z-score in a table.\n",
    "\n",
    "  Args:\n",
    "    z_score: The z-score to look up.\n",
    "\n",
    "  Returns:\n",
    "    The corresponding p-value.\n",
    "  \"\"\"\n",
    "\n",
    "  # Create a z-score table.\n",
    "  z_score_table = scipy.stats.norm.cdf(z_score)\n",
    "\n",
    "  # Return the p-value.\n",
    "  return z_score_table"
   ]
  },
  {
   "cell_type": "code",
   "execution_count": 6,
   "id": "a6d8c097-1637-4a40-92fb-f5c49d21f4ab",
   "metadata": {},
   "outputs": [
    {
     "name": "stdout",
     "output_type": "stream",
     "text": [
      "0.6826894921370859\n"
     ]
    }
   ],
   "source": [
    "zscore1 = z_score_table_lookup(-1)\n",
    "zscore2 = z_score_table_lookup(1)\n",
    "print(zscore2-zscore1)"
   ]
  },
  {
   "cell_type": "code",
   "execution_count": null,
   "id": "0dd3fc58-5fdb-4d3e-8cb1-1249878eac95",
   "metadata": {},
   "outputs": [],
   "source": []
  }
 ],
 "metadata": {
  "kernelspec": {
   "display_name": "Python 3 (ipykernel)",
   "language": "python",
   "name": "python3"
  },
  "language_info": {
   "codemirror_mode": {
    "name": "ipython",
    "version": 3
   },
   "file_extension": ".py",
   "mimetype": "text/x-python",
   "name": "python",
   "nbconvert_exporter": "python",
   "pygments_lexer": "ipython3",
   "version": "3.11.7"
  }
 },
 "nbformat": 4,
 "nbformat_minor": 5
}
