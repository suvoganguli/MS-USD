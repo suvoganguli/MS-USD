{
 "cells": [
  {
   "cell_type": "markdown",
   "metadata": {},
   "source": [
    "# Assignment 5.1\n",
    "\n",
    "Name: Subhabrata (Suvo) Ganguli\n",
    "\n",
    "Date: Feb 7, 2024"
   ]
  },
  {
   "cell_type": "markdown",
   "metadata": {},
   "source": [
    "For this assignment, you will refer to the textbook to solve the practice exercises. **Use Python to answer any coding problems (not R, even if indicated in your textbook).** Use Jupyter Notebook, Google Colab, or a similar software program to complete your assignment. Submit your answers as a **PDF or HTML** file. As a best practice, always label your axes and provide titles for any graphs generated on this assignment. Round all quantitative answers to 2 decimal places."
   ]
  },
  {
   "cell_type": "markdown",
   "metadata": {},
   "source": [
    "## Problem 5.1."
   ]
  },
  {
   "cell_type": "markdown",
   "metadata": {},
   "source": [
    "Introducing notation for a parameter, state the following hypotheses in terms of the parameter\n",
    "values and indicate whether it is a null hypothesis or an alternative hypothesis."
   ]
  },
  {
   "cell_type": "markdown",
   "metadata": {},
   "source": [
    "(a) The proportion of all adults in the UK who favor legalized gambling equals 0.50.\n"
   ]
  },
  {
   "cell_type": "markdown",
   "metadata": {},
   "source": [
    "Proportion of all adults in the UK favoring legalized gambling as \"pi\"\n",
    "\n",
    "Null hypothesis (H0): pi = 0.50\n",
    "\n",
    "Alternate hypothesis (HA): pi != 0.50\n",
    "\n",
    "\n"
   ]
  },
  {
   "cell_type": "markdown",
   "metadata": {},
   "source": [
    "(b) The correlation for Australian adults between smoking (number of cigarettes per day) and blood pressure is positive."
   ]
  },
  {
   "cell_type": "markdown",
   "metadata": {},
   "source": [
    "Let the correlation between smoking (number of cigarettes per day) and blood pressure for Australian adults = c\n",
    "\n",
    "Null hypothesis (H0): c = 0\n",
    "\n",
    "Alternate hypothesis (HA): c > 0 \n"
   ]
  },
  {
   "cell_type": "markdown",
   "metadata": {},
   "source": [
    "(c) The mean grade point average this year of all college graduates in the U.S. is the same for females and males."
   ]
  },
  {
   "cell_type": "markdown",
   "metadata": {},
   "source": [
    "Let the the mean grade point average this year of female college graduates in the U.S = mu_f\n",
    "\n",
    "Let the the mean grade point average this year of male college graduates in the U.S = mu_m\n",
    "\n",
    "Null hyothesis (H0): mu_f = mu_m\n",
    "\n",
    "Alternate hypothesis (HA): mu_f != mu_m\n"
   ]
  },
  {
   "cell_type": "markdown",
   "metadata": {},
   "source": [
    "## Problem 5.6."
   ]
  },
  {
   "cell_type": "markdown",
   "metadata": {},
   "source": [
    "Before a Presidential election, polls are taken in two swing states. The Republican candidate\n",
    "was preferred by 59 of the 100 people sampled in state A and by 525 of 1000 sampled in state\n",
    "B. Treat these as independent binomial samples, where the parameter $\\pi$ is the population\n",
    "proportion voting Republican in the state.\n"
   ]
  },
  {
   "cell_type": "markdown",
   "metadata": {},
   "source": [
    "(a) If we can treat these polls as if the samples were random, use significance tests of $H_0$:\n",
    "$\\pi  = 0.50$ against $H_a:  \\pi > 0.50$ to determine which state has greater evidence supporting a\n",
    "Republican victory. Explain your reasoning.\n"
   ]
  },
  {
   "cell_type": "markdown",
   "metadata": {},
   "source": [
    "Let us use the following notations where \n",
    "- H0 is the null hypothesis\n",
    "- HA is the alternate hypothesis\n",
    "\n",
    "### State A:\n",
    "H0: pi_A = 0.50    \n",
    "HA: pi_A > 0.50\n",
    "\n",
    "### State B:\n",
    "H0: pi_B = 0.50    \n",
    "HA: pi_B > 0.50\n",
    "\n",
    "### For State A:\n",
    "\n",
    "pA = 59/100 = 0.59\n",
    "\n",
    "Standard error = SE = 0.50/sqrt(100) = 0.05\n",
    "\n",
    "t-statistic = (0.59 - 0.50)/0.05 = 1.80\n",
    "\n",
    "Therefore p-value = 0.0359. \n",
    "\n",
    "Since 0.0359 < 0.05, we reject the null hypothesis and conclude a Republican victory in State A.\n",
    "\n",
    "### For State B:\n",
    "\n",
    "pA = 525/1000 = 0.525\n",
    "\n",
    "Standard error = SE = 0.50/sqrt(1000) = 0.016\n",
    "\n",
    "t-statistic = (0.525 - 0.50)/0.016 = 1.56\n",
    "\n",
    "Therefore p-value = 0.0569. \n",
    "\n",
    "Since 0.0569 > 0.05, we cannot reject the null hypothesis and we cannot conclude a Republican victory in State B."
   ]
  },
  {
   "cell_type": "code",
   "execution_count": 18,
   "metadata": {},
   "outputs": [
    {
     "name": "stdout",
     "output_type": "stream",
     "text": [
      "se_A = 0.050\n",
      "se_B = 0.016\n",
      "z_A = 1.800\n",
      "z_B = 1.581\n",
      "p-value for State A =  0.03593031911292588\n",
      "p-value for State B =  0.05692314900332884\n"
     ]
    }
   ],
   "source": [
    "# Sample sizes and number\n",
    "n_A = 100\n",
    "n_B = 1000\n",
    "x_A = 59\n",
    "x_B = 525\n",
    "\n",
    "# Proportions\n",
    "p_A = x_A / n_A\n",
    "p_B = x_B / n_B\n",
    "\n",
    "# Null hypothesis\n",
    "p = 0.50\n",
    "\n",
    "# standard errors\n",
    "se_A = np.sqrt(p * (1 - p) / n_A)\n",
    "se_B = np.sqrt(p * (1 - p) / n_B)\n",
    "\n",
    "print(\"se_A = %.3f\" % se_A)\n",
    "print(\"se_B = %.3f\" % se_B)\n",
    "\n",
    "# z-values\n",
    "z_A = (p_A - p) / se_A\n",
    "z_B = (p_B - p) / se_B\n",
    "\n",
    "print(\"z_A = %.3f\" % z_A)\n",
    "print(\"z_B = %.3f\" % z_B)\n",
    "\n",
    "# p-values\n",
    "p_value_A = 1 - norm.cdf(z_A)\n",
    "p_value_B = 1 - norm.cdf(z_B)\n",
    "\n",
    "# print p-values\n",
    "print(\"p-value for State A = \", p_value_A)\n",
    "print(\"p-value for State B = \", p_value_B)"
   ]
  },
  {
   "cell_type": "markdown",
   "metadata": {},
   "source": [
    "(b) Conduct a Bayesian analysis to answer the question in (a) by finding in each case the\n",
    "posterior $P(\\pi < 0.50)$, corresponding to the *P-* value in (a). Use beta(50, 50) priors, which\n",
    "have standard deviation 0.05 and reflect the pollster’s strong prior belief that $\\pi$ almost\n",
    "surely is between 0.35 and 0.65. Explain any differences between conclusions."
   ]
  },
  {
   "cell_type": "markdown",
   "metadata": {},
   "source": [
    "The difference between (a) and (b) is because in (b) the Bayesian approach calculates the posterior probability from the observed data, while in (a), only the null hypothesis is used"
   ]
  },
  {
   "cell_type": "code",
   "execution_count": 1,
   "metadata": {},
   "outputs": [
    {
     "name": "stdout",
     "output_type": "stream",
     "text": [
      "Prior probability (State A) =  0.5000000000000004\n",
      "Prior probability (State B) =  0.5000000000000004\n",
      "Posterior probability (State A) =  0.10092130164939611\n",
      "Posterior probability (State B) =  0.06572759751525574\n"
     ]
    }
   ],
   "source": [
    "import numpy as np\n",
    "import scipy.stats as stats\n",
    "\n",
    "# Prior and likelihood parameters\n",
    "alpha_prior = 50\n",
    "beta_prior = 50\n",
    "xA = 59\n",
    "xB = 525\n",
    "nA = 100\n",
    "nB = 1000\n",
    "\n",
    "# Prior and Posterior beta\n",
    "prior_A = stats.beta(alpha_prior, beta_prior)\n",
    "prior_B = stats.beta(alpha_prior, beta_prior)\n",
    "posterior_A = stats.beta(alpha_prior + xA, beta_prior - xA + nA)\n",
    "posterior_B = stats.beta(alpha_prior + xB, beta_prior - xB + nB)\n",
    "\n",
    "# Prior probability\n",
    "prob_A_prior = prior_A.cdf(0.50)\n",
    "prob_B_prior = prior_B.cdf(0.50)\n",
    "\n",
    "# Posterior probability\n",
    "prob_A_posterior = posterior_A.cdf(0.50)\n",
    "prob_B_posterior = posterior_B.cdf(0.50)\n",
    "\n",
    "print(\"Prior probability (State A) = \", prob_A_prior)\n",
    "print(\"Prior probability (State B) = \", prob_B_prior)\n",
    "print(\"Posterior probability (State A) = \", prob_A_posterior)\n",
    "print(\"Posterior probability (State B) = \", prob_B_posterior)"
   ]
  },
  {
   "cell_type": "markdown",
   "metadata": {},
   "source": [
    "## Problem 5.8."
   ]
  },
  {
   "cell_type": "markdown",
   "metadata": {},
   "source": [
    "For the `Students` data file at the text website, analyze political ideology."
   ]
  },
  {
   "cell_type": "markdown",
   "metadata": {},
   "source": [
    "(a) Test whether the population mean $\\mu$ differs from 4.0, the moderate response. Report the\n",
    "*P*-value, and interpret. Make a conclusion using $\\alpha$ - level = 0.05."
   ]
  },
  {
   "cell_type": "markdown",
   "metadata": {},
   "source": [
    "The p-value = 2.48e-05"
   ]
  },
  {
   "cell_type": "code",
   "execution_count": 2,
   "metadata": {},
   "outputs": [
    {
     "data": {
      "text/html": [
       "<div>\n",
       "<style scoped>\n",
       "    .dataframe tbody tr th:only-of-type {\n",
       "        vertical-align: middle;\n",
       "    }\n",
       "\n",
       "    .dataframe tbody tr th {\n",
       "        vertical-align: top;\n",
       "    }\n",
       "\n",
       "    .dataframe thead th {\n",
       "        text-align: right;\n",
       "    }\n",
       "</style>\n",
       "<table border=\"1\" class=\"dataframe\">\n",
       "  <thead>\n",
       "    <tr style=\"text-align: right;\">\n",
       "      <th></th>\n",
       "      <th>subject</th>\n",
       "      <th>gender</th>\n",
       "      <th>age</th>\n",
       "      <th>hsgpa</th>\n",
       "      <th>cogpa</th>\n",
       "      <th>dhome</th>\n",
       "      <th>dres</th>\n",
       "      <th>tv</th>\n",
       "      <th>sport</th>\n",
       "      <th>news</th>\n",
       "      <th>aids</th>\n",
       "      <th>veg</th>\n",
       "      <th>affil</th>\n",
       "      <th>ideol</th>\n",
       "      <th>relig</th>\n",
       "      <th>abor</th>\n",
       "      <th>affirm</th>\n",
       "      <th>life</th>\n",
       "    </tr>\n",
       "  </thead>\n",
       "  <tbody>\n",
       "    <tr>\n",
       "      <th>0</th>\n",
       "      <td>1</td>\n",
       "      <td>0</td>\n",
       "      <td>32</td>\n",
       "      <td>2.2</td>\n",
       "      <td>3.5</td>\n",
       "      <td>0</td>\n",
       "      <td>5.0</td>\n",
       "      <td>3.0</td>\n",
       "      <td>5</td>\n",
       "      <td>0</td>\n",
       "      <td>0</td>\n",
       "      <td>0</td>\n",
       "      <td>2</td>\n",
       "      <td>6</td>\n",
       "      <td>2</td>\n",
       "      <td>0</td>\n",
       "      <td>0</td>\n",
       "      <td>1</td>\n",
       "    </tr>\n",
       "    <tr>\n",
       "      <th>1</th>\n",
       "      <td>2</td>\n",
       "      <td>1</td>\n",
       "      <td>23</td>\n",
       "      <td>2.1</td>\n",
       "      <td>3.5</td>\n",
       "      <td>1200</td>\n",
       "      <td>0.3</td>\n",
       "      <td>15.0</td>\n",
       "      <td>7</td>\n",
       "      <td>5</td>\n",
       "      <td>6</td>\n",
       "      <td>1</td>\n",
       "      <td>1</td>\n",
       "      <td>2</td>\n",
       "      <td>1</td>\n",
       "      <td>1</td>\n",
       "      <td>1</td>\n",
       "      <td>3</td>\n",
       "    </tr>\n",
       "    <tr>\n",
       "      <th>2</th>\n",
       "      <td>3</td>\n",
       "      <td>1</td>\n",
       "      <td>27</td>\n",
       "      <td>3.3</td>\n",
       "      <td>3.0</td>\n",
       "      <td>1300</td>\n",
       "      <td>1.5</td>\n",
       "      <td>0.0</td>\n",
       "      <td>4</td>\n",
       "      <td>3</td>\n",
       "      <td>0</td>\n",
       "      <td>1</td>\n",
       "      <td>1</td>\n",
       "      <td>2</td>\n",
       "      <td>2</td>\n",
       "      <td>1</td>\n",
       "      <td>1</td>\n",
       "      <td>3</td>\n",
       "    </tr>\n",
       "    <tr>\n",
       "      <th>3</th>\n",
       "      <td>4</td>\n",
       "      <td>1</td>\n",
       "      <td>35</td>\n",
       "      <td>3.5</td>\n",
       "      <td>3.2</td>\n",
       "      <td>1500</td>\n",
       "      <td>8.0</td>\n",
       "      <td>5.0</td>\n",
       "      <td>5</td>\n",
       "      <td>6</td>\n",
       "      <td>3</td>\n",
       "      <td>0</td>\n",
       "      <td>3</td>\n",
       "      <td>4</td>\n",
       "      <td>1</td>\n",
       "      <td>1</td>\n",
       "      <td>1</td>\n",
       "      <td>2</td>\n",
       "    </tr>\n",
       "    <tr>\n",
       "      <th>4</th>\n",
       "      <td>5</td>\n",
       "      <td>0</td>\n",
       "      <td>23</td>\n",
       "      <td>3.1</td>\n",
       "      <td>3.5</td>\n",
       "      <td>1600</td>\n",
       "      <td>10.0</td>\n",
       "      <td>6.0</td>\n",
       "      <td>6</td>\n",
       "      <td>3</td>\n",
       "      <td>0</td>\n",
       "      <td>0</td>\n",
       "      <td>3</td>\n",
       "      <td>1</td>\n",
       "      <td>0</td>\n",
       "      <td>1</td>\n",
       "      <td>0</td>\n",
       "      <td>2</td>\n",
       "    </tr>\n",
       "  </tbody>\n",
       "</table>\n",
       "</div>"
      ],
      "text/plain": [
       "   subject  gender  age  hsgpa  cogpa  dhome  dres    tv  sport  news  aids  \\\n",
       "0        1       0   32    2.2    3.5      0   5.0   3.0      5     0     0   \n",
       "1        2       1   23    2.1    3.5   1200   0.3  15.0      7     5     6   \n",
       "2        3       1   27    3.3    3.0   1300   1.5   0.0      4     3     0   \n",
       "3        4       1   35    3.5    3.2   1500   8.0   5.0      5     6     3   \n",
       "4        5       0   23    3.1    3.5   1600  10.0   6.0      6     3     0   \n",
       "\n",
       "   veg  affil  ideol  relig  abor  affirm  life  \n",
       "0    0      2      6      2     0       0     1  \n",
       "1    1      1      2      1     1       1     3  \n",
       "2    1      1      2      2     1       1     3  \n",
       "3    0      3      4      1     1       1     2  \n",
       "4    0      3      1      0     1       0     2  "
      ]
     },
     "execution_count": 2,
     "metadata": {},
     "output_type": "execute_result"
    }
   ],
   "source": [
    "# import libraries\n",
    "import pandas as pd\n",
    "\n",
    "# read data\n",
    "df = pd.read_csv(\"Students.csv\")\n",
    "\n",
    "# see data head\n",
    "df.head()"
   ]
  },
  {
   "cell_type": "code",
   "execution_count": 3,
   "metadata": {},
   "outputs": [
    {
     "name": "stdout",
     "output_type": "stream",
     "text": [
      "t-statistic: -4.576584373210669\n",
      "p-value: 2.4837197305408817e-05\n"
     ]
    }
   ],
   "source": [
    "# import library\n",
    "\n",
    "from scipy.stats import ttest_1samp\n",
    "\n",
    "# calculate t-statistic and p-value for the data\n",
    "mu_test = 4\n",
    "t_statistic, p_value = ttest_1samp(df[\"ideol\"], mu_test)\n",
    "\n",
    "# print\n",
    "print(\"t-statistic:\", t_statistic)\n",
    "print(\"p-value:\", p_value)\n"
   ]
  },
  {
   "cell_type": "markdown",
   "metadata": {},
   "source": [
    "(b) Construct the 95% confidence interval for $\\mu$. Explain how results relate to those of the\n",
    "test in (a).\n"
   ]
  },
  {
   "cell_type": "markdown",
   "metadata": {},
   "source": [
    "The confidence interval does not contain the mu value of 4. This is consistent with the fact that we rejected the null hypothesis."
   ]
  },
  {
   "cell_type": "code",
   "execution_count": 4,
   "metadata": {},
   "outputs": [
    {
     "name": "stdout",
     "output_type": "stream",
     "text": [
      "Confidence Interval Low = 2.98\n",
      "Confidence Interval Hi = 3.09\n"
     ]
    }
   ],
   "source": [
    "# calculate the confidence interval\n",
    "mean = np.mean(df[\"ideol\"])\n",
    "std = np.std(df[\"ideol\"])\n",
    "se = std/len(df[\"ideol\"])\n",
    "\n",
    "ci_low = mean - 1.96*se\n",
    "ci_hi = mean + 1.96*se\n",
    "\n",
    "# print confidence intervals\n",
    "print(\"Confidence Interval Low = %.2f\" % ci_low)\n",
    "print(\"Confidence Interval Hi = %.2f\" % ci_hi)"
   ]
  },
  {
   "cell_type": "markdown",
   "metadata": {},
   "source": [
    "## Problem 5.10."
   ]
  },
  {
   "cell_type": "markdown",
   "metadata": {},
   "source": [
    "A study of sheep mentioned in Exercise 1.27 analyzed whether the sheep survived for a year\n",
    "from the original observation time (1 = yes, 0 = no) as a function of their weight (*kg*) at the\n",
    "original observation. Stating any assumptions including the conceptual population of interest,\n",
    "use a *t* test with the data in the Sheep data file at the text website to compare mean weights\n",
    "of the sheep that survived and did not survive. Interpret the *P*-value."
   ]
  },
  {
   "cell_type": "markdown",
   "metadata": {},
   "source": [
    "Assumptions:\n",
    "- The two groups (survived and did not survive) are independent.\n",
    "- The weights of sheep in each group are approximately normally distributed.\n",
    "- The variances of the two groups are roughly equal.\n",
    "\n",
    "Hypothesis:\n",
    "- Null: mean_survived = mean_not_survived\n",
    "- Alternate: mean_survided != mean_not_survived\n",
    "\n",
    "Since the p-value is < 0.05, we reject the null hypothesis. That is, there is significant difference between the weights of the sheep survived vs not survived."
   ]
  },
  {
   "cell_type": "code",
   "execution_count": 5,
   "metadata": {},
   "outputs": [
    {
     "data": {
      "text/html": [
       "<div>\n",
       "<style scoped>\n",
       "    .dataframe tbody tr th:only-of-type {\n",
       "        vertical-align: middle;\n",
       "    }\n",
       "\n",
       "    .dataframe tbody tr th {\n",
       "        vertical-align: top;\n",
       "    }\n",
       "\n",
       "    .dataframe thead th {\n",
       "        text-align: right;\n",
       "    }\n",
       "</style>\n",
       "<table border=\"1\" class=\"dataframe\">\n",
       "  <thead>\n",
       "    <tr style=\"text-align: right;\">\n",
       "      <th></th>\n",
       "      <th>sheep</th>\n",
       "      <th>weight</th>\n",
       "      <th>survival</th>\n",
       "    </tr>\n",
       "  </thead>\n",
       "  <tbody>\n",
       "    <tr>\n",
       "      <th>0</th>\n",
       "      <td>1</td>\n",
       "      <td>20.8</td>\n",
       "      <td>0</td>\n",
       "    </tr>\n",
       "    <tr>\n",
       "      <th>1</th>\n",
       "      <td>2</td>\n",
       "      <td>23.0</td>\n",
       "      <td>1</td>\n",
       "    </tr>\n",
       "    <tr>\n",
       "      <th>2</th>\n",
       "      <td>3</td>\n",
       "      <td>28.0</td>\n",
       "      <td>1</td>\n",
       "    </tr>\n",
       "    <tr>\n",
       "      <th>3</th>\n",
       "      <td>4</td>\n",
       "      <td>27.5</td>\n",
       "      <td>1</td>\n",
       "    </tr>\n",
       "    <tr>\n",
       "      <th>4</th>\n",
       "      <td>5</td>\n",
       "      <td>26.0</td>\n",
       "      <td>0</td>\n",
       "    </tr>\n",
       "  </tbody>\n",
       "</table>\n",
       "</div>"
      ],
      "text/plain": [
       "   sheep  weight  survival\n",
       "0      1    20.8         0\n",
       "1      2    23.0         1\n",
       "2      3    28.0         1\n",
       "3      4    27.5         1\n",
       "4      5    26.0         0"
      ]
     },
     "execution_count": 5,
     "metadata": {},
     "output_type": "execute_result"
    }
   ],
   "source": [
    "# import libraries\n",
    "import pandas as pd\n",
    "\n",
    "# read data\n",
    "df = pd.read_csv(\"Sheep.csv\", delimiter=r\"\\s+\")\n",
    "\n",
    "# see data head\n",
    "df.head()\n"
   ]
  },
  {
   "cell_type": "code",
   "execution_count": 6,
   "metadata": {},
   "outputs": [
    {
     "name": "stdout",
     "output_type": "stream",
     "text": [
      "Mean survived =  20.645917387127763\n",
      "Mean not_survived =  15.998113207547169\n",
      "t-statistic =  14.500255633782931\n",
      "p-value =  2.1010522406615758e-44\n"
     ]
    }
   ],
   "source": [
    "# Groups\n",
    "survived = df[df[\"survival\"] == 1][\"weight\"]\n",
    "not_survived = df[df[\"survival\"] == 0][\"weight\"]\n",
    "\n",
    "print(\"Mean survived = \", np.mean(survived))\n",
    "print(\"Mean not_survived = \", np.mean(not_survived))\n",
    "\n",
    "# t-test\n",
    "t, p = stats.ttest_ind(survived, not_survived, equal_var=True)\n",
    "\n",
    "# Print results\n",
    "print(\"t-statistic = \", t)\n",
    "print(\"p-value = \", p)"
   ]
  },
  {
   "cell_type": "markdown",
   "metadata": {},
   "source": [
    "## Problem 5.11."
   ]
  },
  {
   "cell_type": "markdown",
   "metadata": {},
   "source": [
    "Use descriptive statistics and significance tests to compare the population mean political ideology for each pair of groups in Table 5.2 using the `Polid` data file. Summarize results using\n",
    "*P*-values and using a non-technical explanation."
   ]
  },
  {
   "cell_type": "markdown",
   "metadata": {},
   "source": [
    "See code in the cells below.\n",
    "\n",
    "Since the p-values are < 0.05, we can interpret that there are significant differences in the means between each group."
   ]
  },
  {
   "cell_type": "code",
   "execution_count": 21,
   "metadata": {},
   "outputs": [
    {
     "name": "stdout",
     "output_type": "stream",
     "text": [
      "       race  ideology\n",
      "1  hispanic         1\n",
      "2  hispanic         1\n",
      "3  hispanic         1\n",
      "4  hispanic         1\n",
      "5  hispanic         1\n",
      "Number of unique categories: ['hispanic', 'black', 'white']\n",
      "Categories (3, object): ['black', 'hispanic', 'white']\n"
     ]
    }
   ],
   "source": [
    "# import libraries\n",
    "import pandas as pd\n",
    "import matplotlib.pyplot as plt\n",
    "from scipy.stats import ttest_ind\n",
    "from itertools import combinations\n",
    "\n",
    "# read data\n",
    "df = pd.read_csv(\"Polid.dat\", delimiter=r\"\\s+\")\n",
    "\n",
    "# see data head\n",
    "print(df.head())\n",
    "\n",
    "# Convert 'Category' column to categorical\n",
    "df['races'] = pd.Categorical(df['race'])\n",
    "\n",
    "# Print the number of unique categories\n",
    "print(\"Number of unique categories:\", df['races'].unique())"
   ]
  },
  {
   "cell_type": "code",
   "execution_count": 8,
   "metadata": {},
   "outputs": [
    {
     "data": {
      "image/png": "[encoded data removed]",
      "text/plain": [
       "<Figure size 640x480 with 1 Axes>"
      ]
     },
     "metadata": {},
     "output_type": "display_data"
    },
    {
     "name": "stdout",
     "output_type": "stream",
     "text": [
      "ideology          1           2           3           4           5  \\\n",
      "count      3.000000    3.000000    3.000000    3.000000    3.000000   \n",
      "mean      31.333333  103.333333   92.666667  347.333333  117.666667   \n",
      "std       36.501142   91.522311   84.316863  310.042470  123.313962   \n",
      "min        5.000000   49.000000   42.000000  155.000000   43.000000   \n",
      "25%       10.500000   50.500000   44.000000  168.500000   46.500000   \n",
      "50%       16.000000   52.000000   46.000000  182.000000   50.000000   \n",
      "75%       44.500000  130.500000  118.000000  443.500000  155.000000   \n",
      "max       73.000000  209.000000  190.000000  705.000000  260.000000   \n",
      "\n",
      "ideology           6          7  \n",
      "count       3.000000   3.000000  \n",
      "mean      129.666667  36.333333  \n",
      "std       160.125992  41.307788  \n",
      "min        25.000000  11.000000  \n",
      "25%        37.500000  12.500000  \n",
      "50%        50.000000  14.000000  \n",
      "75%       182.000000  49.000000  \n",
      "max       314.000000  84.000000  \n",
      "For ('black', 1) and ('black', 2), t-statistic: -inf, p-value: 0.0\n",
      "For ('black', 1) and ('black', 3), t-statistic: -inf, p-value: 0.0\n",
      "For ('black', 1) and ('black', 4), t-statistic: -inf, p-value: 0.0\n",
      "For ('black', 1) and ('black', 5), t-statistic: -inf, p-value: 0.0\n",
      "For ('black', 1) and ('black', 6), t-statistic: -inf, p-value: 0.0\n",
      "For ('black', 1) and ('black', 7), t-statistic: -inf, p-value: 0.0\n",
      "For ('black', 1) and ('hispanic', 1), t-statistic: nan, p-value: nan\n",
      "For ('black', 1) and ('hispanic', 2), t-statistic: -inf, p-value: 0.0\n",
      "For ('black', 1) and ('hispanic', 3), t-statistic: -inf, p-value: 0.0\n",
      "For ('black', 1) and ('hispanic', 4), t-statistic: -inf, p-value: 0.0\n",
      "For ('black', 1) and ('hispanic', 5), t-statistic: -inf, p-value: 0.0\n",
      "For ('black', 1) and ('hispanic', 6), t-statistic: -inf, p-value: 0.0\n",
      "For ('black', 1) and ('hispanic', 7), t-statistic: -inf, p-value: 0.0\n",
      "For ('black', 1) and ('white', 1), t-statistic: nan, p-value: nan\n",
      "For ('black', 1) and ('white', 2), t-statistic: -inf, p-value: 0.0\n",
      "For ('black', 1) and ('white', 3), t-statistic: -inf, p-value: 0.0\n",
      "For ('black', 1) and ('white', 4), t-statistic: -inf, p-value: 0.0\n",
      "For ('black', 1) and ('white', 5), t-statistic: -inf, p-value: 0.0\n",
      "For ('black', 1) and ('white', 6), t-statistic: -inf, p-value: 0.0\n",
      "For ('black', 1) and ('white', 7), t-statistic: -inf, p-value: 0.0\n",
      "For ('black', 2) and ('black', 3), t-statistic: -inf, p-value: 0.0\n",
      "For ('black', 2) and ('black', 4), t-statistic: -inf, p-value: 0.0\n",
      "For ('black', 2) and ('black', 5), t-statistic: -inf, p-value: 0.0\n",
      "For ('black', 2) and ('black', 6), t-statistic: -inf, p-value: 0.0\n",
      "For ('black', 2) and ('black', 7), t-statistic: -inf, p-value: 0.0\n",
      "For ('black', 2) and ('hispanic', 1), t-statistic: inf, p-value: 0.0\n",
      "For ('black', 2) and ('hispanic', 2), t-statistic: nan, p-value: nan\n",
      "For ('black', 2) and ('hispanic', 3), t-statistic: -inf, p-value: 0.0\n",
      "For ('black', 2) and ('hispanic', 4), t-statistic: -inf, p-value: 0.0\n",
      "For ('black', 2) and ('hispanic', 5), t-statistic: -inf, p-value: 0.0\n",
      "For ('black', 2) and ('hispanic', 6), t-statistic: -inf, p-value: 0.0\n",
      "For ('black', 2) and ('hispanic', 7), t-statistic: -inf, p-value: 0.0\n",
      "For ('black', 2) and ('white', 1), t-statistic: inf, p-value: 0.0\n",
      "For ('black', 2) and ('white', 2), t-statistic: nan, p-value: nan\n",
      "For ('black', 2) and ('white', 3), t-statistic: -inf, p-value: 0.0\n",
      "For ('black', 2) and ('white', 4), t-statistic: -inf, p-value: 0.0\n",
      "For ('black', 2) and ('white', 5), t-statistic: -inf, p-value: 0.0\n",
      "For ('black', 2) and ('white', 6), t-statistic: -inf, p-value: 0.0\n",
      "For ('black', 2) and ('white', 7), t-statistic: -inf, p-value: 0.0\n",
      "For ('black', 3) and ('black', 4), t-statistic: -inf, p-value: 0.0\n",
      "For ('black', 3) and ('black', 5), t-statistic: -inf, p-value: 0.0\n",
      "For ('black', 3) and ('black', 6), t-statistic: -inf, p-value: 0.0\n",
      "For ('black', 3) and ('black', 7), t-statistic: -inf, p-value: 0.0\n",
      "For ('black', 3) and ('hispanic', 1), t-statistic: inf, p-value: 0.0\n",
      "For ('black', 3) and ('hispanic', 2), t-statistic: inf, p-value: 0.0\n",
      "For ('black', 3) and ('hispanic', 3), t-statistic: nan, p-value: nan\n",
      "For ('black', 3) and ('hispanic', 4), t-statistic: -inf, p-value: 0.0\n",
      "For ('black', 3) and ('hispanic', 5), t-statistic: -inf, p-value: 0.0\n",
      "For ('black', 3) and ('hispanic', 6), t-statistic: -inf, p-value: 0.0\n",
      "For ('black', 3) and ('hispanic', 7), t-statistic: -inf, p-value: 0.0\n",
      "For ('black', 3) and ('white', 1), t-statistic: inf, p-value: 0.0\n",
      "For ('black', 3) and ('white', 2), t-statistic: inf, p-value: 0.0\n",
      "For ('black', 3) and ('white', 3), t-statistic: nan, p-value: nan\n",
      "For ('black', 3) and ('white', 4), t-statistic: -inf, p-value: 0.0\n",
      "For ('black', 3) and ('white', 5), t-statistic: -inf, p-value: 0.0\n",
      "For ('black', 3) and ('white', 6), t-statistic: -inf, p-value: 0.0\n",
      "For ('black', 3) and ('white', 7), t-statistic: -inf, p-value: 0.0\n",
      "For ('black', 4) and ('black', 5), t-statistic: -inf, p-value: 0.0\n",
      "For ('black', 4) and ('black', 6), t-statistic: -inf, p-value: 0.0\n",
      "For ('black', 4) and ('black', 7), t-statistic: -inf, p-value: 0.0\n",
      "For ('black', 4) and ('hispanic', 1), t-statistic: inf, p-value: 0.0\n",
      "For ('black', 4) and ('hispanic', 2), t-statistic: inf, p-value: 0.0\n",
      "For ('black', 4) and ('hispanic', 3), t-statistic: inf, p-value: 0.0\n",
      "For ('black', 4) and ('hispanic', 4), t-statistic: nan, p-value: nan\n",
      "For ('black', 4) and ('hispanic', 5), t-statistic: -inf, p-value: 0.0\n",
      "For ('black', 4) and ('hispanic', 6), t-statistic: -inf, p-value: 0.0\n",
      "For ('black', 4) and ('hispanic', 7), t-statistic: -inf, p-value: 0.0\n",
      "For ('black', 4) and ('white', 1), t-statistic: inf, p-value: 0.0\n",
      "For ('black', 4) and ('white', 2), t-statistic: inf, p-value: 0.0\n",
      "For ('black', 4) and ('white', 3), t-statistic: inf, p-value: 0.0\n",
      "For ('black', 4) and ('white', 4), t-statistic: nan, p-value: nan\n",
      "For ('black', 4) and ('white', 5), t-statistic: -inf, p-value: 0.0\n",
      "For ('black', 4) and ('white', 6), t-statistic: -inf, p-value: 0.0\n",
      "For ('black', 4) and ('white', 7), t-statistic: -inf, p-value: 0.0\n",
      "For ('black', 5) and ('black', 6), t-statistic: -inf, p-value: 0.0\n",
      "For ('black', 5) and ('black', 7), t-statistic: -inf, p-value: 0.0\n",
      "For ('black', 5) and ('hispanic', 1), t-statistic: inf, p-value: 0.0\n",
      "For ('black', 5) and ('hispanic', 2), t-statistic: inf, p-value: 0.0\n",
      "For ('black', 5) and ('hispanic', 3), t-statistic: inf, p-value: 0.0\n",
      "For ('black', 5) and ('hispanic', 4), t-statistic: inf, p-value: 0.0\n",
      "For ('black', 5) and ('hispanic', 5), t-statistic: nan, p-value: nan\n",
      "For ('black', 5) and ('hispanic', 6), t-statistic: -inf, p-value: 0.0\n",
      "For ('black', 5) and ('hispanic', 7), t-statistic: -inf, p-value: 0.0\n",
      "For ('black', 5) and ('white', 1), t-statistic: inf, p-value: 0.0\n",
      "For ('black', 5) and ('white', 2), t-statistic: inf, p-value: 0.0\n",
      "For ('black', 5) and ('white', 3), t-statistic: inf, p-value: 0.0\n",
      "For ('black', 5) and ('white', 4), t-statistic: inf, p-value: 0.0\n",
      "For ('black', 5) and ('white', 5), t-statistic: nan, p-value: nan\n",
      "For ('black', 5) and ('white', 6), t-statistic: -inf, p-value: 0.0\n",
      "For ('black', 5) and ('white', 7), t-statistic: -inf, p-value: 0.0\n",
      "For ('black', 6) and ('black', 7), t-statistic: -inf, p-value: 0.0\n",
      "For ('black', 6) and ('hispanic', 1), t-statistic: inf, p-value: 0.0\n",
      "For ('black', 6) and ('hispanic', 2), t-statistic: inf, p-value: 0.0\n",
      "For ('black', 6) and ('hispanic', 3), t-statistic: inf, p-value: 0.0\n",
      "For ('black', 6) and ('hispanic', 4), t-statistic: inf, p-value: 0.0\n",
      "For ('black', 6) and ('hispanic', 5), t-statistic: inf, p-value: 0.0\n",
      "For ('black', 6) and ('hispanic', 6), t-statistic: nan, p-value: nan\n",
      "For ('black', 6) and ('hispanic', 7), t-statistic: -inf, p-value: 0.0\n",
      "For ('black', 6) and ('white', 1), t-statistic: inf, p-value: 0.0\n",
      "For ('black', 6) and ('white', 2), t-statistic: inf, p-value: 0.0\n",
      "For ('black', 6) and ('white', 3), t-statistic: inf, p-value: 0.0\n",
      "For ('black', 6) and ('white', 4), t-statistic: inf, p-value: 0.0\n",
      "For ('black', 6) and ('white', 5), t-statistic: inf, p-value: 0.0\n",
      "For ('black', 6) and ('white', 6), t-statistic: nan, p-value: nan\n",
      "For ('black', 6) and ('white', 7), t-statistic: -inf, p-value: 0.0\n",
      "For ('black', 7) and ('hispanic', 1), t-statistic: inf, p-value: 0.0\n",
      "For ('black', 7) and ('hispanic', 2), t-statistic: inf, p-value: 0.0\n",
      "For ('black', 7) and ('hispanic', 3), t-statistic: inf, p-value: 0.0\n",
      "For ('black', 7) and ('hispanic', 4), t-statistic: inf, p-value: 0.0\n",
      "For ('black', 7) and ('hispanic', 5), t-statistic: inf, p-value: 0.0\n",
      "For ('black', 7) and ('hispanic', 6), t-statistic: inf, p-value: 0.0\n",
      "For ('black', 7) and ('hispanic', 7), t-statistic: nan, p-value: nan\n",
      "For ('black', 7) and ('white', 1), t-statistic: inf, p-value: 0.0\n",
      "For ('black', 7) and ('white', 2), t-statistic: inf, p-value: 0.0\n",
      "For ('black', 7) and ('white', 3), t-statistic: inf, p-value: 0.0\n",
      "For ('black', 7) and ('white', 4), t-statistic: inf, p-value: 0.0\n",
      "For ('black', 7) and ('white', 5), t-statistic: inf, p-value: 0.0\n",
      "For ('black', 7) and ('white', 6), t-statistic: inf, p-value: 0.0\n",
      "For ('black', 7) and ('white', 7), t-statistic: nan, p-value: nan\n",
      "For ('hispanic', 1) and ('hispanic', 2), t-statistic: -inf, p-value: 0.0\n",
      "For ('hispanic', 1) and ('hispanic', 3), t-statistic: -inf, p-value: 0.0\n",
      "For ('hispanic', 1) and ('hispanic', 4), t-statistic: -inf, p-value: 0.0\n",
      "For ('hispanic', 1) and ('hispanic', 5), t-statistic: -inf, p-value: 0.0\n",
      "For ('hispanic', 1) and ('hispanic', 6), t-statistic: -inf, p-value: 0.0\n",
      "For ('hispanic', 1) and ('hispanic', 7), t-statistic: -inf, p-value: 0.0\n",
      "For ('hispanic', 1) and ('white', 1), t-statistic: nan, p-value: nan\n",
      "For ('hispanic', 1) and ('white', 2), t-statistic: -inf, p-value: 0.0\n",
      "For ('hispanic', 1) and ('white', 3), t-statistic: -inf, p-value: 0.0\n",
      "For ('hispanic', 1) and ('white', 4), t-statistic: -inf, p-value: 0.0\n",
      "For ('hispanic', 1) and ('white', 5), t-statistic: -inf, p-value: 0.0\n",
      "For ('hispanic', 1) and ('white', 6), t-statistic: -inf, p-value: 0.0\n",
      "For ('hispanic', 1) and ('white', 7), t-statistic: -inf, p-value: 0.0\n",
      "For ('hispanic', 2) and ('hispanic', 3), t-statistic: -inf, p-value: 0.0\n",
      "For ('hispanic', 2) and ('hispanic', 4), t-statistic: -inf, p-value: 0.0\n"
     ]
    },
    {
     "name": "stderr",
     "output_type": "stream",
     "text": [
      "/usr/local/lib/python3.11/site-packages/scipy/stats/_axis_nan_policy.py:523: RuntimeWarning: Precision loss occurred in moment calculation due to catastrophic cancellation. This occurs when the data are nearly identical. Results may be unreliable.\n",
      "  res = hypotest_fun_out(*samples, **kwds)\n"
     ]
    },
    {
     "name": "stdout",
     "output_type": "stream",
     "text": [
      "For ('hispanic', 2) and ('hispanic', 5), t-statistic: -inf, p-value: 0.0\n",
      "For ('hispanic', 2) and ('hispanic', 6), t-statistic: -inf, p-value: 0.0\n",
      "For ('hispanic', 2) and ('hispanic', 7), t-statistic: -inf, p-value: 0.0\n",
      "For ('hispanic', 2) and ('white', 1), t-statistic: inf, p-value: 0.0\n",
      "For ('hispanic', 2) and ('white', 2), t-statistic: nan, p-value: nan\n",
      "For ('hispanic', 2) and ('white', 3), t-statistic: -inf, p-value: 0.0\n",
      "For ('hispanic', 2) and ('white', 4), t-statistic: -inf, p-value: 0.0\n",
      "For ('hispanic', 2) and ('white', 5), t-statistic: -inf, p-value: 0.0\n",
      "For ('hispanic', 2) and ('white', 6), t-statistic: -inf, p-value: 0.0\n",
      "For ('hispanic', 2) and ('white', 7), t-statistic: -inf, p-value: 0.0\n",
      "For ('hispanic', 3) and ('hispanic', 4), t-statistic: -inf, p-value: 0.0\n",
      "For ('hispanic', 3) and ('hispanic', 5), t-statistic: -inf, p-value: 0.0\n",
      "For ('hispanic', 3) and ('hispanic', 6), t-statistic: -inf, p-value: 0.0\n",
      "For ('hispanic', 3) and ('hispanic', 7), t-statistic: -inf, p-value: 0.0\n",
      "For ('hispanic', 3) and ('white', 1), t-statistic: inf, p-value: 0.0\n",
      "For ('hispanic', 3) and ('white', 2), t-statistic: inf, p-value: 0.0\n",
      "For ('hispanic', 3) and ('white', 3), t-statistic: nan, p-value: nan\n",
      "For ('hispanic', 3) and ('white', 4), t-statistic: -inf, p-value: 0.0\n",
      "For ('hispanic', 3) and ('white', 5), t-statistic: -inf, p-value: 0.0\n",
      "For ('hispanic', 3) and ('white', 6), t-statistic: -inf, p-value: 0.0\n",
      "For ('hispanic', 3) and ('white', 7), t-statistic: -inf, p-value: 0.0\n",
      "For ('hispanic', 4) and ('hispanic', 5), t-statistic: -inf, p-value: 0.0\n",
      "For ('hispanic', 4) and ('hispanic', 6), t-statistic: -inf, p-value: 0.0\n",
      "For ('hispanic', 4) and ('hispanic', 7), t-statistic: -inf, p-value: 0.0\n",
      "For ('hispanic', 4) and ('white', 1), t-statistic: inf, p-value: 0.0\n",
      "For ('hispanic', 4) and ('white', 2), t-statistic: inf, p-value: 0.0\n",
      "For ('hispanic', 4) and ('white', 3), t-statistic: inf, p-value: 0.0\n",
      "For ('hispanic', 4) and ('white', 4), t-statistic: nan, p-value: nan\n",
      "For ('hispanic', 4) and ('white', 5), t-statistic: -inf, p-value: 0.0\n",
      "For ('hispanic', 4) and ('white', 6), t-statistic: -inf, p-value: 0.0\n",
      "For ('hispanic', 4) and ('white', 7), t-statistic: -inf, p-value: 0.0\n",
      "For ('hispanic', 5) and ('hispanic', 6), t-statistic: -inf, p-value: 0.0\n",
      "For ('hispanic', 5) and ('hispanic', 7), t-statistic: -inf, p-value: 0.0\n",
      "For ('hispanic', 5) and ('white', 1), t-statistic: inf, p-value: 0.0\n",
      "For ('hispanic', 5) and ('white', 2), t-statistic: inf, p-value: 0.0\n",
      "For ('hispanic', 5) and ('white', 3), t-statistic: inf, p-value: 0.0\n",
      "For ('hispanic', 5) and ('white', 4), t-statistic: inf, p-value: 0.0\n",
      "For ('hispanic', 5) and ('white', 5), t-statistic: nan, p-value: nan\n",
      "For ('hispanic', 5) and ('white', 6), t-statistic: -inf, p-value: 0.0\n",
      "For ('hispanic', 5) and ('white', 7), t-statistic: -inf, p-value: 0.0\n",
      "For ('hispanic', 6) and ('hispanic', 7), t-statistic: -inf, p-value: 0.0\n",
      "For ('hispanic', 6) and ('white', 1), t-statistic: inf, p-value: 0.0\n",
      "For ('hispanic', 6) and ('white', 2), t-statistic: inf, p-value: 0.0\n",
      "For ('hispanic', 6) and ('white', 3), t-statistic: inf, p-value: 0.0\n",
      "For ('hispanic', 6) and ('white', 4), t-statistic: inf, p-value: 0.0\n",
      "For ('hispanic', 6) and ('white', 5), t-statistic: inf, p-value: 0.0\n",
      "For ('hispanic', 6) and ('white', 6), t-statistic: nan, p-value: nan\n",
      "For ('hispanic', 6) and ('white', 7), t-statistic: -inf, p-value: 0.0\n",
      "For ('hispanic', 7) and ('white', 1), t-statistic: inf, p-value: 0.0\n",
      "For ('hispanic', 7) and ('white', 2), t-statistic: inf, p-value: 0.0\n",
      "For ('hispanic', 7) and ('white', 3), t-statistic: inf, p-value: 0.0\n",
      "For ('hispanic', 7) and ('white', 4), t-statistic: inf, p-value: 0.0\n",
      "For ('hispanic', 7) and ('white', 5), t-statistic: inf, p-value: 0.0\n",
      "For ('hispanic', 7) and ('white', 6), t-statistic: inf, p-value: 0.0\n",
      "For ('hispanic', 7) and ('white', 7), t-statistic: nan, p-value: nan\n",
      "For ('white', 1) and ('white', 2), t-statistic: -inf, p-value: 0.0\n",
      "For ('white', 1) and ('white', 3), t-statistic: -inf, p-value: 0.0\n",
      "For ('white', 1) and ('white', 4), t-statistic: -inf, p-value: 0.0\n",
      "For ('white', 1) and ('white', 5), t-statistic: -inf, p-value: 0.0\n",
      "For ('white', 1) and ('white', 6), t-statistic: -inf, p-value: 0.0\n",
      "For ('white', 1) and ('white', 7), t-statistic: -inf, p-value: 0.0\n",
      "For ('white', 2) and ('white', 3), t-statistic: -inf, p-value: 0.0\n",
      "For ('white', 2) and ('white', 4), t-statistic: -inf, p-value: 0.0\n",
      "For ('white', 2) and ('white', 5), t-statistic: -inf, p-value: 0.0\n",
      "For ('white', 2) and ('white', 6), t-statistic: -inf, p-value: 0.0\n",
      "For ('white', 2) and ('white', 7), t-statistic: -inf, p-value: 0.0\n",
      "For ('white', 3) and ('white', 4), t-statistic: -inf, p-value: 0.0\n",
      "For ('white', 3) and ('white', 5), t-statistic: -inf, p-value: 0.0\n",
      "For ('white', 3) and ('white', 6), t-statistic: -inf, p-value: 0.0\n",
      "For ('white', 3) and ('white', 7), t-statistic: -inf, p-value: 0.0\n",
      "For ('white', 4) and ('white', 5), t-statistic: -inf, p-value: 0.0\n",
      "For ('white', 4) and ('white', 6), t-statistic: -inf, p-value: 0.0\n",
      "For ('white', 4) and ('white', 7), t-statistic: -inf, p-value: 0.0\n",
      "For ('white', 5) and ('white', 6), t-statistic: -inf, p-value: 0.0\n",
      "For ('white', 5) and ('white', 7), t-statistic: -inf, p-value: 0.0\n",
      "For ('white', 6) and ('white', 7), t-statistic: -inf, p-value: 0.0\n"
     ]
    }
   ],
   "source": [
    "# group the data\n",
    "df_race_ideology = df.groupby(['race', 'ideology']).size().unstack(fill_value=0)\n",
    "\n",
    "# Plot the data\n",
    "df_race_ideology.plot(kind='bar', stacked=True)\n",
    "plt.title('Race vs Ideology')\n",
    "plt.xlabel('Race')\n",
    "plt.ylabel('Count')\n",
    "plt.legend(title='Ideology')\n",
    "plt.show()\n",
    "\n",
    "stats = df_race_ideology.describe()\n",
    "print(stats)\n",
    "\n",
    "# Group the data by 'race' and 'ideology'\n",
    "df_grouped = df.groupby(['race', 'ideology'])\n",
    "\n",
    "# Perform significance tests between pairs of groups\n",
    "groups = df_grouped.groups.keys()\n",
    "group_pairs = combinations(groups, 2)\n",
    "\n",
    "for group1, group2 in group_pairs:\n",
    "    ideology_1 = df_grouped.get_group(group1)['ideology']\n",
    "    ideology_2 = df_grouped.get_group(group2)['ideology']\n",
    "    t_statistic, p_value = ttest_ind(ideology_1, ideology_2)\n",
    "    print(f\"For {group1} and {group2}, t-statistic: {t_statistic}, p-value: {p_value}\")\n",
    "\n"
   ]
  },
  {
   "cell_type": "markdown",
   "metadata": {},
   "source": [
    "## Problem 5.14 (a)."
   ]
  },
  {
   "cell_type": "markdown",
   "metadata": {},
   "source": [
    "The `Income` data file at the book’s website shows annual incomes in thousands of dollars for\n",
    "subjects in three racial-ethnic groups in the U.S."
   ]
  },
  {
   "cell_type": "markdown",
   "metadata": {},
   "source": [
    "(a) Stating all assumptions including the relative importance of each, show all steps of a significance test for comparing population mean incomes of Blacks and Hispanics. Interpret.\n"
   ]
  },
  {
   "cell_type": "markdown",
   "metadata": {},
   "source": [
    "Assumptions:\n",
    "- The sample collected should be using random sampling method\n",
    "- The individuals from each group should be independent of each other\n",
    "- The incomes for each group should approximately follow a normal distribution\n",
    "- The variances of the incomes for each group should be approximately equal\n",
    "\n",
    "For significance test, we use the t-statistics and p-value. Since the p-value is not less than 0.05, we cannot reject the null hypothesis tha the incomes of the two races are equal."
   ]
  },
  {
   "cell_type": "code",
   "execution_count": 22,
   "metadata": {},
   "outputs": [
    {
     "name": "stdout",
     "output_type": "stream",
     "text": [
      "   income  education race\n",
      "0      16         10    B\n",
      "1      18          7    B\n",
      "2      26          9    B\n",
      "3      16         11    B\n",
      "4      34         14    B\n",
      "Number of unique categories: ['B', 'H', 'W']\n",
      "Categories (3, object): ['B', 'H', 'W']\n"
     ]
    }
   ],
   "source": [
    "# read data\n",
    "df = pd.read_csv(\"Income.dat\", delimiter=r\"\\s+\")\n",
    "\n",
    "# see data head\n",
    "print(df.head())\n",
    "\n",
    "# Convert 'Category' column to categorical\n",
    "df['races'] = pd.Categorical(df['race'])\n",
    "\n",
    "# Print the number of unique categories\n",
    "print(\"Number of unique categories:\", df['races'].unique())"
   ]
  },
  {
   "cell_type": "code",
   "execution_count": 23,
   "metadata": {},
   "outputs": [
    {
     "name": "stdout",
     "output_type": "stream",
     "text": [
      "Mean income for Black = 27.75\n",
      "Std income for Black = 12.86\n",
      "Mean income for Hispanic = 31.00\n",
      "Std income for Hispanic = 12.35\n",
      "t-statistic = -0.67962\n",
      "p-value = 0.50233\n",
      "Fail to reject null hypothesis that the mean income are equal\n"
     ]
    }
   ],
   "source": [
    "# Extract incomes for Black and Hispanic Races\n",
    "income_black = df[df['race'] == 'B']['income']\n",
    "income_hispanic = df[df['race'] == 'H']['income']\n",
    "\n",
    "mean_black = np.mean(income_black)\n",
    "std_black = np.std(income_black)\n",
    "\n",
    "mean_hispanic = np.mean(income_hispanic)\n",
    "std_hispanic = np.std(income_hispanic)\n",
    "\n",
    "print(\"Mean income for Black = %.2f\" % mean_black)\n",
    "print(\"Std income for Black = %.2f\" % std_black)\n",
    "print(\"Mean income for Hispanic = %.2f\" % mean_hispanic)\n",
    "print(\"Std income for Hispanic = %.2f\" % std_hispanic)\n",
    "\n",
    "# Calculate t-statistics\n",
    "t_statistic, p_value = ttest_ind(income_black, income_hispanic)\n",
    "\n",
    "print(\"t-statistic = %.5f\" % t_statistic)\n",
    "print(\"p-value = %.5f\" % p_value)\n",
    "\n",
    "# Significance level\n",
    "alpha = 0.05\n",
    "\n",
    "if p_value < alpha:\n",
    "    print(\"Reject null hypothesis that the mean income are equal\")\n",
    "else:\n",
    "    print(\"Fail to reject null hypothesis that the mean income are equal\")"
   ]
  },
  {
   "cell_type": "markdown",
   "metadata": {},
   "source": [
    "## Problem 5.15."
   ]
  },
  {
   "cell_type": "markdown",
   "metadata": {},
   "source": [
    "A recent report $\\text{}^{39}$ estimated mean adult heights in the U.S. of 175.4 *cm* (69.1 inches) for men\n",
    "and 161.7 *cm* (63.7 inches) for women, with standard deviation about 7 *cm* for each group. For\n",
    "all finishers in the Boston Marathon since 1972, the time to finish has a mean of 221 minutes\n",
    "for men and 248 minutes for women, each with a standard deviation of about 40 minutes.\n",
    "According to the effect size, is the difference between men and women greater for height or for\n",
    "marathon times? Explain."
   ]
  },
  {
   "cell_type": "markdown",
   "metadata": {},
   "source": [
    "Since the ratio of mean difference between height and corresponding standard deviation compared to that for marathon time, the difference between men and women is greater for height."
   ]
  },
  {
   "cell_type": "code",
   "execution_count": 11,
   "metadata": {},
   "outputs": [
    {
     "name": "stdout",
     "output_type": "stream",
     "text": [
      "Ratio for height = 1.96\n",
      "Ratio for time = 0.68\n"
     ]
    }
   ],
   "source": [
    "mean_diff_height = 175.4 - 161.7\n",
    "std_height = 7\n",
    "ratio_height = mean_diff_height / std_height\n",
    "print(\"Ratio for height = %.2f\" % ratio_height)\n",
    "\n",
    "mean_diff_time = 248 - 221\n",
    "std_time = 40\n",
    "ratio_time = mean_diff_time / std_time\n",
    "print(\"Ratio for time = %.2f\" % ratio_time)"
   ]
  },
  {
   "cell_type": "markdown",
   "metadata": {},
   "source": [
    "## Problem 5.17."
   ]
  },
  {
   "cell_type": "markdown",
   "metadata": {},
   "source": [
    "Ideally, results of a statistical analysis should not depend greatly on a single observation. In a\n",
    "sensitivity study, we re-do the analysis after deleting an outlier from the data set or changing its\n",
    "value to a more typical value and checking whether results change much. For the anorexia data\n",
    "analysis in Section 5.3.2, the weight change of 20.9 pounds for the cb group was a severe outlier.\n",
    "Suppose this observation was actually 2.9 pounds but recorded incorrectly. Find the *P*-value\n",
    "for testing $H_0: \\mu1 = \\mu2$ against $H_a: \\mu1 \\ne \\mu2$ with and without that observation. Summarize its\n",
    "influence."
   ]
  },
  {
   "cell_type": "markdown",
   "metadata": {},
   "source": [
    "Since I could not find any of the rows where the weight difference is 20.9, I decided two add a new row containing the outlier. (Note: the maximum value of the difference in weight is 9.1). The weight before was taken as the mean of the before-weight, abnd 20.9 was subtracted to get the after-weight. Similarly, a row was added to a new copy of the original dataframe where the weight difference is 2.9. All analysis is done with the two datasets - df_outlier and df_no_outlier.\n",
    "\n",
    "The null hypothesis is H0: the mean difference in weight are equal.\n",
    "The alternate hypothesis is HA: the mean differnce are not equal.\n",
    "\n",
    "With the above, I performed the t-statistic test and calculates the p-value.\n",
    "\n",
    "I observe that the p-value is 0.7684. Since the p-value is > 0.05, we cannot reject the hypothesis. That is, the mean with and without the outlier are significantly different."
   ]
  },
  {
   "cell_type": "code",
   "execution_count": 12,
   "metadata": {},
   "outputs": [
    {
     "name": "stdout",
     "output_type": "stream",
     "text": [
      "   subject therapy  before  after  diff\n",
      "0        1      cb    80.5   82.2  -1.7\n",
      "1        2      cb    84.9   85.6  -0.7\n",
      "2        3      cb    81.5   81.4   0.1\n",
      "3        4      cb    82.6   81.9   0.7\n",
      "4        5      cb    79.9   76.4   3.5\n",
      "Empty DataFrame\n",
      "Columns: [subject, therapy, before, after, diff]\n",
      "Index: []\n",
      "9.100000000000009\n",
      "    subject therapy  before  after  diff\n",
      "24       25      cb    83.3   85.2  -1.9\n",
      "25       26      cb    79.7   83.6  -3.9\n",
      "26       27      cb    84.5   84.6  -0.1\n",
      "27       28      cb    80.8   96.2 -15.4\n",
      "28       29      cb    87.4   86.7   0.7\n",
      "    subject therapy     before      after  diff\n",
      "25       26      cb  79.700000  83.600000  -3.9\n",
      "26       27      cb  84.500000  84.600000  -0.1\n",
      "27       28      cb  80.800000  96.200000 -15.4\n",
      "28       29      cb  87.400000  86.700000   0.7\n",
      "0        71      cb  82.689655  61.789655  20.9\n",
      "    subject therapy     before      after  diff\n",
      "25       26      cb  79.700000  83.600000  -3.9\n",
      "26       27      cb  84.500000  84.600000  -0.1\n",
      "27       28      cb  80.800000  96.200000 -15.4\n",
      "28       29      cb  87.400000  86.700000   0.7\n",
      "0        71      cb  82.689655  79.789655   2.9\n",
      "p-value = 0.7684\n",
      "Cannot reject null hypothesis\n"
     ]
    }
   ],
   "source": [
    "# read data\n",
    "df = pd.read_csv(\"Anorexia.dat\", delimiter=r\"\\s+\")\n",
    "\n",
    "df = df[df[\"therapy\"] == 'cb']\n",
    "\n",
    "df[\"diff\"] = df[\"before\"] - df[\"after\"]\n",
    "\n",
    "# see data head\n",
    "print(df.head())\n",
    "\n",
    "# try finding if there is an observation with a weight difference of 20.9\n",
    "value = 20.9\n",
    "result = df[df['diff'] == value]\n",
    "print(result)\n",
    "\n",
    "# find the maximum weight difference\n",
    "print(np.max(df['diff']))\n",
    "\n",
    "# find mean weight before\n",
    "mean_before = np.mean(df[\"before\"])\n",
    "\n",
    "# find after-weights for the two cases - with and without outlier\n",
    "data_outlier = mean_before - 20.9\n",
    "data_no_outlier = mean_before - 2.9\n",
    "\n",
    "# add the two new observations since there is no observation where the difference is 20.9\n",
    "\n",
    "# (a) with outlier\n",
    "print(df.tail())\n",
    "df_tmp = pd.DataFrame([[71,'cb',mean_before,data_outlier,20.9]], columns=['subject','therapy','before','after','diff'])\n",
    "df_outlier = pd.concat([df,df_tmp])\n",
    "print(df_outlier.tail())\n",
    "\n",
    "# (b) without outlier\n",
    "df_tmp = pd.DataFrame([[71,'cb',mean_before,data_no_outlier,2.9]], columns=['subject','therapy','before','after','diff'])\n",
    "df_no_outlier = pd.concat([df,df_tmp])\n",
    "print(df_no_outlier.tail())\n",
    "\n",
    "# hypothesis test comparing with and without outlier\n",
    "t_statistic, p_value = ttest_ind(df_outlier[\"diff\"], df_no_outlier[\"diff\"])\n",
    "\n",
    "print(\"p-value = %.4f\" % p_value)\n",
    "\n",
    "# alpha for t-statistic test\n",
    "alpha = 0.05\n",
    "\n",
    "# hypothesis\n",
    "if p_value < alpha:\n",
    "    print(\"Reject null hypothesis\")\n",
    "else:\n",
    "    print(\"Cannot reject null hypothesis\")\n"
   ]
  },
  {
   "cell_type": "markdown",
   "metadata": {},
   "source": [
    "## Problem 5.19."
   ]
  },
  {
   "cell_type": "markdown",
   "metadata": {},
   "source": [
    "In the 2018 General Social Survey, when asked whether they believed in life after death, 1017 of 1178 females said *yes*, and 703 of 945 males said *yes*. Test that the population proportions are equal for females and males. Report and interpret the *P*-value."
   ]
  },
  {
   "cell_type": "markdown",
   "metadata": {},
   "source": [
    "Null hypothesis: The population proportions are equal for females and males.\n",
    "Alternate hypothesis: The population proportions are not equal for females and males.\n",
    "\n",
    "We calculate the two sample proportion z-test with the female and male populations.\n",
    "\n",
    "The z-score = 6.973\n",
    "\n",
    "and the p-value ~= 0.\n",
    "\n",
    "Since, the p-value is less than 0.05, we reject the null hypothesis that the proportions are equal for females and males."
   ]
  },
  {
   "cell_type": "code",
   "execution_count": 13,
   "metadata": {},
   "outputs": [
    {
     "name": "stdout",
     "output_type": "stream",
     "text": [
      "pf = 0.863\n",
      "pm = 0.744\n",
      "p = 0.810\n",
      "z = 6.973\n",
      "p-value = 0.000\n",
      "Reject null hypothesis\n"
     ]
    }
   ],
   "source": [
    "# import library\n",
    "from scipy.stats import norm\n",
    "\n",
    "# Female data\n",
    "female_yes = 1017\n",
    "female_total = 1178\n",
    "\n",
    "# Male data\n",
    "male_yes = 703\n",
    "male_total = 945\n",
    "\n",
    "# proportions\n",
    "pf = female_yes/female_total\n",
    "pm = male_yes/male_total\n",
    "print(\"pf = %.3f\" % pf)\n",
    "print(\"pm = %.3f\" % pm)\n",
    "\n",
    "p = (female_yes + male_yes) / (female_total + male_total)\n",
    "print(\"p = %.3f\" % p)\n",
    "\n",
    "# two sample proportion z-test\n",
    "z = (pf - pm)/np.sqrt(p * (1 - p) * (1/female_total + 1/male_total))\n",
    "print(\"z = %.3f\" % z)\n",
    "\n",
    "p_value = 2 * (1 - norm.cdf(abs(z)))\n",
    "print(\"p-value = %.3f\" % p_value)\n",
    "\n",
    "# alpha for t-statistic test\n",
    "alpha = 0.05\n",
    "\n",
    "# hypothesis\n",
    "if p_value < alpha:\n",
    "    print(\"Reject null hypothesis\")\n",
    "else:\n",
    "    print(\"Cannot reject null hypothesis\")"
   ]
  },
  {
   "cell_type": "markdown",
   "metadata": {},
   "source": [
    "## Problem 5.23."
   ]
  },
  {
   "cell_type": "markdown",
   "metadata": {},
   "source": [
    "Use the `Happy` data file from the 2018 General Social Survey at the text website to form a\n",
    "contingency table that cross classifies happiness with gender. For $ H_0 $: independence between\n",
    "happiness and gender:"
   ]
  },
  {
   "cell_type": "markdown",
   "metadata": {},
   "source": [
    "(a) Conduct and interpret the chi-squared test."
   ]
  },
  {
   "cell_type": "markdown",
   "metadata": {},
   "source": [
    "The code and results for the contingency table and the chi-squared test is given below.\n",
    "\n",
    "The chi-squared value = 0.9165, and\n",
    "p-value = 0.6323\n",
    "\n",
    "Since the p-value is > 0.05, we cannot reject the null hypothesis and we conclude that happiness and gender are have no association."
   ]
  },
  {
   "cell_type": "code",
   "execution_count": 14,
   "metadata": {},
   "outputs": [
    {
     "name": "stdout",
     "output_type": "stream",
     "text": [
      "Contigency table:\n",
      "gender     female  male\n",
      "happiness              \n",
      "1             353   295\n",
      "2             642   553\n",
      "3             153   146\n",
      "Chi-squared statistic: 0.9165315892565513\n",
      "P-value: 0.6323793708278013\n",
      "Cannot reject the null hypothesis.\n"
     ]
    }
   ],
   "source": [
    "import pandas as pd\n",
    "from scipy.stats import chi2_contingency\n",
    "\n",
    "# Load the Happy data file\n",
    "df = pd.read_csv(\"Happy.dat\", delimiter = r\"\\s+\")\n",
    "\n",
    "# Create a contingency table\n",
    "contingency_table = pd.crosstab(df['happiness'], df['gender'])\n",
    "print(\"Contigency table:\")\n",
    "print(contingency_table)\n",
    "\n",
    "# Conduct the chi-squared test\n",
    "chi2_stat, p_value, dof, expected = chi2_contingency(contingency_table)\n",
    "\n",
    "print(\"Chi-squared statistic:\", chi2_stat)\n",
    "print(\"P-value:\", p_value)\n",
    "\n",
    "# significant level\n",
    "alpha = 0.05\n",
    "\n",
    "# Interpretation\n",
    "if p_value < alpha:\n",
    "    print(\"Reject the null hypothesis.\")\n",
    "else:\n",
    "    print(\"Cannot reject the null hypothesis.\")"
   ]
  },
  {
   "cell_type": "markdown",
   "metadata": {},
   "source": [
    "(b) Show the estimated expected frequencies and standardized residuals, and form a mosaic\n",
    "plot. Explain how they are consistent with the result of the chi-squared test."
   ]
  },
  {
   "cell_type": "markdown",
   "metadata": {},
   "source": [
    "The expected frequencies and standardized residuals are calculated in the code below.\n",
    "\n",
    "Note that the all the tiles in the mosaic plot are of similar sizes in terms of male vs female (rows). However, from the happiness perspective (columns), the mid-level (level = 2) is of larger size than the other two levels. This corresponds with the expected frequency table where the happiness level 2 for females and males are 642 and 553 - which are much larger than the other two levels. Also, the frequencies of the happiness level 3 is much smaller than level 1 and 2.\n",
    "\n",
    "In other words, there is some dependency of the data with the happiness level. This is why we cannot reject the null hypothesis."
   ]
  },
  {
   "cell_type": "code",
   "execution_count": 15,
   "metadata": {},
   "outputs": [
    {
     "name": "stdout",
     "output_type": "stream",
     "text": [
      "Expected frequencies =  [[347.29411765 300.70588235]\n",
      " [640.45751634 554.54248366]\n",
      " [160.24836601 138.75163399]]\n",
      "Standardized residuals:\n",
      " gender       female      male\n",
      "happiness                    \n",
      "1          0.306178 -0.329042\n",
      "2          0.060950 -0.065502\n",
      "3         -0.572589  0.615348\n"
     ]
    },
    {
     "data": {
      "image/png": "[encoded data removed]",
      "text/plain": [
       "<Figure size 640x480 with 3 Axes>"
      ]
     },
     "metadata": {},
     "output_type": "display_data"
    }
   ],
   "source": [
    "# import library\n",
    "import statsmodels.graphics.mosaicplot as sp\n",
    "\n",
    "# expected frequency\n",
    "print(\"Expected frequencies = \", expected)\n",
    "\n",
    "# standardized residuals\n",
    "residuals = (contingency_table - expected) / np.sqrt(expected)\n",
    "print(\"Standardized residuals:\\n\", residuals)\n",
    "\n",
    "# Form a mosaic plot\n",
    "sp.mosaic(contingency_table.stack(), title=\"Mosaic Plot of Happiness and Gender\")\n",
    "plt.show()"
   ]
  },
  {
   "cell_type": "markdown",
   "metadata": {},
   "source": [
    "&nbsp;\n",
    "&nbsp;\n",
    "&nbsp;\n",
    "&nbsp;\n",
    "&nbsp;\n",
    "&nbsp;\n",
    "&nbsp;\n",
    "&nbsp;\n",
    "\n",
    "\n",
    "----------------\n",
    "$^{39}$ See www.cdc.gov/nchs/data/nhsr/nhsr122-508.pdf and https://doi.org/10.1371/journal.pone.  "
   ]
  }
 ],
 "metadata": {
  "kernelspec": {
   "display_name": "Python 3 (ipykernel)",
   "language": "python",
   "name": "python3"
  },
  "language_info": {
   "codemirror_mode": {
    "name": "ipython",
    "version": 3
   },
   "file_extension": ".py",
   "mimetype": "text/x-python",
   "name": "python",
   "nbconvert_exporter": "python",
   "pygments_lexer": "ipython3",
   "version": "3.11.7"
  },
  "vscode": {
   "interpreter": {
    "hash": "b61bb2d7a674932f79ec86662a4165aa288473e6e47a51dc8e3ab9a9cd94608c"
   }
  }
 },
 "nbformat": 4,
 "nbformat_minor": 4
}
