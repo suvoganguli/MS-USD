{
 "cells": [
  {
   "cell_type": "markdown",
   "id": "00ffc845-e584-4106-87b1-3116296221fc",
   "metadata": {},
   "source": [
    "# Module 5 Lab"
   ]
  },
  {
   "cell_type": "markdown",
   "id": "96c6f848-1674-4078-9960-266903c8bcb5",
   "metadata": {},
   "source": [
    "### Significance Testing\n",
    "\n",
    "The Afterlife data file at the book’s website shows data from the 2018 General Social Survey on postlife = belief in the afterlife (1 = yes, 2 = no), religion (1 = Protestant, 2 = Catholic, 3 = Jewish, other categories excluded), and gender (1 = male, 2 = female). Analyze these data with methods of estimation and significance testing. "
   ]
  },
  {
   "cell_type": "code",
   "execution_count": null,
   "id": "81ff7553-5426-4d0f-85d7-b9ade24a556d",
   "metadata": {},
   "outputs": [],
   "source": [
    "import pandas as pd\n",
    "import matplotlib.pyplot as plt\n",
    "from scipy.stats import chi2_contingency"
   ]
  },
  {
   "cell_type": "code",
   "execution_count": null,
   "id": "cd9d6884-279f-474d-8af4-c92421b65b7e",
   "metadata": {},
   "outputs": [],
   "source": [
    "# Read in the data\n",
    "afterlife = pd.read_csv('http://stat4ds.rwth-aachen.de/data/Afterlife.dat', sep='\\s+')\n",
    "afterlife.head()"
   ]
  },
  {
   "cell_type": "markdown",
   "id": "b21e5dc1-3e90-4b06-84b6-8e50e8e715a1",
   "metadata": {},
   "source": [
    "### Visualization of Data"
   ]
  },
  {
   "cell_type": "code",
   "execution_count": null,
   "id": "39a57d06-fa3e-4582-9bf5-7f5b863fc930",
   "metadata": {},
   "outputs": [],
   "source": [
    "# Visualize distribution of each variable\n",
    "fig, (ax1, ax2, ax3) = plt.subplots(1, 3, sharey=True, figsize=(12, 5))\n",
    "fig.tight_layout()\n",
    "# Postlife\n",
    "afterlife['postlife'].value_counts().plot(ax=ax1, kind='bar', xlabel='Belief in Afterlife', ylabel='Frequency', title='Survey Responses - Belief in Afterlife')\n",
    "# Religion\n",
    "afterlife['religion'].value_counts().plot(ax=ax2, kind='bar', xlabel='Religion', ylabel='Frequency', title='Survey Responses - Religion')\n",
    "# Gender\n",
    "afterlife['gender'].value_counts(sort=False).plot(ax=ax3, kind='bar', xlabel='Gender', ylabel='Frequency', title='Survey Responses - Gender')\n",
    "plt.show()"
   ]
  },
  {
   "cell_type": "code",
   "execution_count": null,
   "id": "8f176ff8-1423-40d8-b1b6-f6e0b8129fea",
   "metadata": {},
   "outputs": [],
   "source": [
    "# Prepared data for visualization\n",
    "def percent_of_total(second_column):\n",
    "    percent_of_total = afterlife.groupby(['postlife', second_column]).size().unstack()\n",
    "    for i in range(len(percent_of_total)):\n",
    "        percent_of_total.iloc[i,:] = percent_of_total.iloc[i,:]/sum(percent_of_total.iloc[i,:])\n",
    "    return percent_of_total\n",
    "# Visualize relationship between afterlife and religion/gender\n",
    "fig, [[ax1, ax2], [ax3, ax4]] = plt.subplots(2, 2, figsize=(15, 12))\n",
    "# Count for religion and afterlife\n",
    "afterlife.groupby(['postlife', 'religion']).size().unstack().plot(ax=ax1, kind='bar', stacked=True, xlabel='Belief in Afterlife', \n",
    "                                                                  ylabel='Frequency', title='Survey Responses - Belief in Afterlife by Religion (Count)')\n",
    "# Percentage for religion and afterlife\n",
    "religion = percent_of_total('religion')\n",
    "religion.plot(ax=ax2, kind='bar', stacked=True, xlabel='Belief in Afterlife', \n",
    "              ylabel='Percentage', title='Survey Responses - Belief in Afterlife by Religion (Percentage)')\n",
    "# Count for gender and afterlife\n",
    "afterlife.groupby(['postlife', 'gender']).size().unstack().plot(ax=ax3, kind='bar', stacked=True, xlabel='Belief in Afterlife', \n",
    "                                                                ylabel='Frequency', title='Survey Responses - Belief in Afterlife by Gender (Count)')\n",
    "# Percentage for religion and afterlife\n",
    "gender = percent_of_total('gender')\n",
    "gender.plot(ax=ax4, kind='bar', stacked=True, xlabel='Belief in Afterlife', \n",
    "            ylabel='Percentage', title='Survey Responses - Belief in Afterlife by Gender (Percentage)')\n",
    "plt.show()"
   ]
  },
  {
   "cell_type": "code",
   "execution_count": null,
   "id": "d8b4b313-befd-43eb-b5b4-c99fc7fc180a",
   "metadata": {},
   "outputs": [],
   "source": [
    "# Create frequency tables - gender\n",
    "gender_table = pd.crosstab(afterlife['gender'], afterlife['postlife'])\n",
    "print(gender_table)\n",
    "print(' ')\n",
    "print(pd.crosstab(afterlife['gender'], afterlife['postlife'], normalize='index'))"
   ]
  },
  {
   "cell_type": "code",
   "execution_count": null,
   "id": "61763400-4255-4029-a264-e0bfcf3b1d83",
   "metadata": {},
   "outputs": [],
   "source": [
    "# Create frequency tables - religion\n",
    "religion_table = pd.crosstab(afterlife['religion'], afterlife['postlife'])\n",
    "print(religion_table)\n",
    "print(' ')\n",
    "print(pd.crosstab(afterlife['religion'], afterlife['postlife'], normalize='index'))"
   ]
  },
  {
   "cell_type": "markdown",
   "id": "0e4a1a4a-6092-4715-8484-f2abdc923629",
   "metadata": {},
   "source": [
    "### Significance Testing"
   ]
  },
  {
   "cell_type": "code",
   "execution_count": null,
   "id": "723bbb59-3ccc-40fa-8fc7-e0efa833796f",
   "metadata": {},
   "outputs": [],
   "source": [
    "# Perform chi-square test to determine if there is a relationship between postlife and gender\n",
    "def chisquare_test(table):\n",
    "    stat, p_value, dof, expected = chi2_contingency(table, correction=False)\n",
    "    # Interpret p-value\n",
    "    alpha = 0.05\n",
    "    print(\"The p-value is {}\".format(p_value))\n",
    "    if p_value <= alpha:\n",
    "        print('There is a relationship between the variables.')\n",
    "    else:\n",
    "        print('There is no relationship between the variables.')\n",
    "\n",
    "chisquare_test(gender_table)"
   ]
  },
  {
   "cell_type": "code",
   "execution_count": null,
   "id": "add63044-4e0e-4dcd-9280-d32873d53de1",
   "metadata": {},
   "outputs": [],
   "source": [
    "# Perform chi-square test to determine if there is a relationship between postlife and religion\n",
    "chisquare_test(religion_table)"
   ]
  },
  {
   "cell_type": "markdown",
   "id": "c7e52041-b651-4136-9454-dab7d782d8c3",
   "metadata": {},
   "source": [
    "### Summary of Results\n",
    "\n",
    "From the statistical tests we performed, we can conclude that there is a significant relationship between both gender and postlife belief and religion and postlife belief. Based on the bar plots produced, women are relatively more likely to believe in an afterlife than men. Relatively more Protestants also believe in an afterlife when compared to Jewish and Catholic respondents."
   ]
  }
 ],
 "metadata": {
  "kernelspec": {
   "display_name": "Python 3 (ipykernel)",
   "language": "python",
   "name": "python3"
  },
  "language_info": {
   "codemirror_mode": {
    "name": "ipython",
    "version": 3
   },
   "file_extension": ".py",
   "mimetype": "text/x-python",
   "name": "python",
   "nbconvert_exporter": "python",
   "pygments_lexer": "ipython3",
   "version": "3.9.7"
  }
 },
 "nbformat": 4,
 "nbformat_minor": 5
}
