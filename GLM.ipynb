{
 "cells": [
  {
   "cell_type": "code",
   "execution_count": 3,
   "id": "a3e8c5fc-f474-4f43-ae46-d7d5aa20f905",
   "metadata": {},
   "outputs": [
    {
     "name": "stdout",
     "output_type": "stream",
     "text": [
      "                 Generalized Linear Model Regression Results                  \n",
      "==============================================================================\n",
      "Dep. Variable:                      y   No. Observations:                    8\n",
      "Model:                            GLM   Df Residuals:                        6\n",
      "Model Family:                Binomial   Df Model:                            1\n",
      "Link Function:                  Logit   Scale:                          1.0000\n",
      "Method:                          IRLS   Log-Likelihood:                   -inf\n",
      "Date:                Mon, 12 Feb 2024   Deviance:                       2229.1\n",
      "Time:                        09:02:36   Pearson chi2:                 6.35e+17\n",
      "No. Iterations:                     3   Pseudo R-squ. (CS):                nan\n",
      "Covariance Type:            nonrobust                                         \n",
      "==============================================================================\n",
      "                 coef    std err          z      P>|z|      [0.025      0.975]\n",
      "------------------------------------------------------------------------------\n",
      "const       1.342e+16   3.36e+07      4e+08      0.000    1.34e+16    1.34e+16\n",
      "x1          3.274e+16   4.75e+07    6.9e+08      0.000    3.27e+16    3.27e+16\n",
      "==============================================================================\n"
     ]
    },
    {
     "name": "stderr",
     "output_type": "stream",
     "text": [
      "/usr/local/lib/python3.11/site-packages/statsmodels/genmod/families/family.py:1056: RuntimeWarning: invalid value encountered in log\n",
      "  special.gammaln(n - y + 1) + y * np.log(mu / (1 - mu + 1e-20)) +\n",
      "/usr/local/lib/python3.11/site-packages/statsmodels/genmod/families/family.py:1057: RuntimeWarning: invalid value encountered in log\n",
      "  n * np.log(1 - mu + 1e-20)) * var_weights\n"
     ]
    }
   ],
   "source": [
    "import statsmodels.api as sm\n",
    "import numpy as np\n",
    "\t\n",
    "x = np.array([0, 1, 0, 1, 0, 1, 0, 1])\n",
    "y = np.array([0, 2, 3, 4, 5, 6, 7, 8])\n",
    "x = sm.add_constant(x)\n",
    "\t\n",
    "model = sm.GLM(y, x, family = sm.families.Binomial())\n",
    "result = model.fit()\n",
    "\t\n",
    "print(result.summary())"
   ]
  },
  {
   "cell_type": "code",
   "execution_count": null,
   "id": "c5ae2656-e99d-45a3-bfad-b11af93e420d",
   "metadata": {},
   "outputs": [],
   "source": []
  }
 ],
 "metadata": {
  "kernelspec": {
   "display_name": "Python 3 (ipykernel)",
   "language": "python",
   "name": "python3"
  },
  "language_info": {
   "codemirror_mode": {
    "name": "ipython",
    "version": 3
   },
   "file_extension": ".py",
   "mimetype": "text/x-python",
   "name": "python",
   "nbconvert_exporter": "python",
   "pygments_lexer": "ipython3",
   "version": "3.11.7"
  }
 },
 "nbformat": 4,
 "nbformat_minor": 5
}
