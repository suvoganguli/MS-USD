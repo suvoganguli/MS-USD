{
 "cells": [
  {
   "cell_type": "code",
   "execution_count": 3,
   "id": "ee60345d-0898-4c89-9cf1-a4347ecad09b",
   "metadata": {},
   "outputs": [
    {
     "name": "stdout",
     "output_type": "stream",
     "text": [
      "True population mean age:  47.5\n",
      "Estimated population mean age: 47.619\n"
     ]
    }
   ],
   "source": [
    "# Non-parametric bootstrapping\n",
    "\n",
    "import numpy as np\n",
    " \n",
    "ages = [25, 30, 35, 40, 45, 50, 55, 60, 65, 70]\n",
    " \n",
    "nboot = 1000 # number of bootstrap samples\n",
    "mboot =  5  # bootstrap sample size\n",
    "bootstrap_means = np.zeros(nboot)\n",
    " \n",
    "# Perform bootstrap sampling\n",
    "for i in range(nboot):\n",
    " \n",
    "    bootstrap_sample = np.random.choice(ages, size=mboot, replace=True)\n",
    "    bootstrap_mean = np.mean(bootstrap_sample)\n",
    "    bootstrap_means[i] = bootstrap_mean\n",
    "\n",
    "true_mean = np.mean(ages)\n",
    "estimated_mean = np.mean(bootstrap_means)\n",
    "\n",
    "print(\"True population mean age: \", true_mean)\n",
    "print(\"Estimated population mean age:\", estimated_mean)\n"
   ]
  },
  {
   "cell_type": "code",
   "execution_count": null,
   "id": "e44cc8ad-ec4a-437b-990c-310e1c67cbce",
   "metadata": {},
   "outputs": [],
   "source": []
  },
  {
   "cell_type": "code",
   "execution_count": 11,
   "id": "7b88008a-bd58-4ae5-820b-cffdb42dc943",
   "metadata": {},
   "outputs": [
    {
     "name": "stdout",
     "output_type": "stream",
     "text": [
      "True population mean age:  3\n",
      "Estimated population mean age: 2.9962374846284563\n"
     ]
    }
   ],
   "source": [
    "# Parametric bootstrapping\n",
    "\n",
    "import numpy as np\n",
    "\n",
    "n_population = 500 # number of data points\n",
    "lmbda = 3 # lambda for exponential distribution\n",
    "\n",
    "population = np.random.exponential(scale = lmbda, size = n_population)\n",
    "population_mean = np.mean(population)\n",
    "\n",
    "nboot = 1000 # the number of bootstrap samples\n",
    "mboot = 200 # size of each bootstrap sample\n",
    "\n",
    "# nboot bootstrap samples using exponential distribution of size n)\n",
    "bootstrap_samples = np.random.exponential(scale = lmbda, size = (mboot, nboot))\n",
    "\n",
    "bootstrap_means =np.mean(bootstrap_samples, axis=0)\n",
    "\n",
    "# true and estimated mean of population\n",
    "true_mean = lmbda\n",
    "estimated_mean = np.mean(bootstrap_means)\n",
    "\n",
    "print(\"True population mean age: \", true_mean)\n",
    "print(\"Estimated population mean age:\", estimated_mean)"
   ]
  }
 ],
 "metadata": {
  "kernelspec": {
   "display_name": "Python 3 (ipykernel)",
   "language": "python",
   "name": "python3"
  },
  "language_info": {
   "codemirror_mode": {
    "name": "ipython",
    "version": 3
   },
   "file_extension": ".py",
   "mimetype": "text/x-python",
   "name": "python",
   "nbconvert_exporter": "python",
   "pygments_lexer": "ipython3",
   "version": "3.11.7"
  }
 },
 "nbformat": 4,
 "nbformat_minor": 5
}
