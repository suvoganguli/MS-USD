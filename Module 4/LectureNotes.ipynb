{
 "cells": [
  {
   "cell_type": "code",
   "execution_count": 3,
   "id": "a8b9abb7-92cc-4fc3-a4d7-79dc365016c4",
   "metadata": {},
   "outputs": [],
   "source": []
  },
  {
   "cell_type": "code",
   "execution_count": null,
   "id": "ed452b75-22ad-4ef4-a674-fe34c097f0e7",
   "metadata": {},
   "outputs": [],
   "source": [
    "# Example 1"
   ]
  },
  {
   "cell_type": "code",
   "execution_count": 11,
   "id": "3b78fead-7d47-4b26-a956-ae9befcc5ff5",
   "metadata": {},
   "outputs": [
    {
     "name": "stdout",
     "output_type": "stream",
     "text": [
      "0.7\n",
      "0.66\n"
     ]
    }
   ],
   "source": [
    "import numpy as np\n",
    "\n",
    "true_prob = 0.7;\n",
    "\n",
    "np.random.seed(0)\n",
    "\n",
    "data = np.random.choice([0, 1], size = 100, p = [1-true_prob, true_prob])\n",
    "\n",
    "# MLE\n",
    "estimated_prob = max(np.mean(data), 1 - np.mean(data))\n",
    "\n",
    "print(true_prob)\n",
    "print(estimated_prob)"
   ]
  },
  {
   "cell_type": "code",
   "execution_count": 8,
   "id": "b1cba192-a7e1-41ee-9862-655b2e960a9b",
   "metadata": {},
   "outputs": [],
   "source": [
    "# Example 2"
   ]
  },
  {
   "cell_type": "code",
   "execution_count": 5,
   "id": "c516f1c5-852b-41cd-ac29-cc8bd9aed4ad",
   "metadata": {},
   "outputs": [],
   "source": [
    "import numpy as np\n",
    "from scipy.stats import norm\n",
    "\n",
    "np.random.seed(0)i\n",
    "data = np.random.normal(loc=5,scale=2,size=100)\n",
    "\n",
    "sample_mean = np.mean(data)\n",
    "sample_std = np.std(data,ddof=1) # ddof = 1 for unbiased estimator\n",
    "sample_size = len(data)\n",
    "\n",
    "confidence_level = 0.95;\n",
    "\n",
    "z_critical = norm.ppf(1 - (1-confidence_level)/2)\n",
    "\n",
    "standard_error = sample_std / np.sqrt(sample_size)\n",
    "\n",
    "margin_of_error = z_critical * standard_error\n",
    "\n",
    "confidence_interval = (sample_mean - margin_of_error,\n",
    "                       sample_mean + margin_of_error)"
   ]
  },
  {
   "cell_type": "code",
   "execution_count": 7,
   "id": "74b9db4c-2704-4e41-af05-e56bb8dbca5b",
   "metadata": {},
   "outputs": [
    {
     "data": {
      "text/plain": [
       "(4.722543097958117, 5.516688964179823)"
      ]
     },
     "execution_count": 7,
     "metadata": {},
     "output_type": "execute_result"
    }
   ],
   "source": [
    "confidence_interval\n"
   ]
  },
  {
   "cell_type": "code",
   "execution_count": null,
   "id": "32f99a60-de11-4eb6-ab77-a4456639cd4c",
   "metadata": {},
   "outputs": [],
   "source": [
    "# Example: Bootstrap"
   ]
  },
  {
   "cell_type": "code",
   "execution_count": 15,
   "id": "f388287c-dcfa-44e1-a7aa-d18e7b31f328",
   "metadata": {},
   "outputs": [
    {
     "data": {
      "image/png": "[encoded data removed]",
      "text/plain": [
       "<Figure size 640x480 with 1 Axes>"
      ]
     },
     "metadata": {},
     "output_type": "display_data"
    }
   ],
   "source": [
    "import numpy as np\n",
    "import matplotlib.pyplot as plt\n",
    "\n",
    "np.random.seed(42)\n",
    "data = np.random.normal(loc=10, scale=2, size=100)\n",
    "\n",
    "n_bootstrap = 200\n",
    "\n",
    "bootstrap_means =[]\n",
    "\n",
    "for _ in range(n_bootstrap):\n",
    "    bootstrap_sample = np.random.choice(data, size=len(data), replace=True)\n",
    "\n",
    "    bootstrap_means.append(np.mean(bootstrap_sample))\n",
    "\n",
    "plt.hist(bootstrap_means, bins=10, alpha=0.5)\n",
    "plt.xlabel('Bootstrap Sample Mean');\n",
    "plt.ylabel('Frequency')\n",
    "plt.title('Distribution of Bootstrap Sample Mean')\n",
    "plt.show()\n"
   ]
  },
  {
   "cell_type": "code",
   "execution_count": null,
   "id": "d03be5c6-fbad-4b72-b716-8c51a3daa4bb",
   "metadata": {},
   "outputs": [],
   "source": [
    "# Bayesnian Approach to Inference"
   ]
  },
  {
   "cell_type": "code",
   "execution_count": 19,
   "id": "c8470470-b85d-4e4d-a0f3-5f7de68b4c5e",
   "metadata": {},
   "outputs": [
    {
     "name": "stdout",
     "output_type": "stream",
     "text": [
      "alpha_posterior = 9, beta_posterior = 5\n",
      "mean_estimate = 0.643\n",
      "median estimate = 0.649837\n",
      "credible interval = [0.386, 0.861]\n"
     ]
    }
   ],
   "source": [
    "import numpy as np\n",
    "from scipy.stats import beta\n",
    "\n",
    "alpha_prior = 2\n",
    "beta_prior = 2\n",
    "\n",
    "num_heads = 7\n",
    "num_tails = 3\n",
    "\n",
    "alpha_posterior = alpha_prior + num_heads\n",
    "beta_posterior = beta_prior + num_tails\n",
    "\n",
    "posterior_dist = beta(alpha_posterior, beta_posterior)\n",
    "\n",
    "mean_estimate = posterior_dist.mean()\n",
    "median_estimate = posterior_dist.median()\n",
    "\n",
    "credible_interval = posterior_dist.interval(0.95)\n",
    "\n",
    "print(\"alpha_posterior = {}, beta_posterior = {}\".format(alpha_posterior, beta_posterior))\n",
    "print(\"mean_estimate = {:.3f}\".format(mean_estimate))\n",
    "print(\"median estimate = {:3f}\".format(median_estimate))\n",
    "print(\"credible interval = [{:.3f}, {:.3f}]\".format(credible_interval[0],credible_interval[1]))"
   ]
  },
  {
   "cell_type": "code",
   "execution_count": null,
   "id": "ec713399-25a1-4ee8-8a66-340f0eb27989",
   "metadata": {},
   "outputs": [],
   "source": []
  }
 ],
 "metadata": {
  "kernelspec": {
   "display_name": "Python 3 (ipykernel)",
   "language": "python",
   "name": "python3"
  },
  "language_info": {
   "codemirror_mode": {
    "name": "ipython",
    "version": 3
   },
   "file_extension": ".py",
   "mimetype": "text/x-python",
   "name": "python",
   "nbconvert_exporter": "python",
   "pygments_lexer": "ipython3",
   "version": "3.11.7"
  }
 },
 "nbformat": 4,
 "nbformat_minor": 5
}
